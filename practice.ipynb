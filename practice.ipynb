{
 "cells": [
  {
   "cell_type": "code",
   "execution_count": 7,
   "id": "678a446b",
   "metadata": {},
   "outputs": [
    {
     "name": "stdout",
     "output_type": "stream",
     "text": [
      "2021-11-17 14:48:23,202 INFO sqlalchemy.engine.Engine select version()\n",
      "2021-11-17 14:48:23,202 INFO sqlalchemy.engine.Engine [raw sql] {}\n",
      "2021-11-17 14:48:23,203 INFO sqlalchemy.engine.Engine select current_schema()\n",
      "2021-11-17 14:48:23,204 INFO sqlalchemy.engine.Engine [raw sql] {}\n",
      "2021-11-17 14:48:23,205 INFO sqlalchemy.engine.Engine show standard_conforming_strings\n",
      "2021-11-17 14:48:23,205 INFO sqlalchemy.engine.Engine [raw sql] {}\n",
      "2021-11-17 14:48:23,207 INFO sqlalchemy.engine.Engine BEGIN (implicit)\n",
      "2021-11-17 14:48:23,207 INFO sqlalchemy.engine.Engine select 'hello world'\n",
      "2021-11-17 14:48:23,208 INFO sqlalchemy.engine.Engine [generated in 0.00102s] {}\n",
      "[('hello world',)]\n",
      "2021-11-17 14:48:23,209 INFO sqlalchemy.engine.Engine CREATE TABLE FUNC( x integer, y integer )\n",
      "2021-11-17 14:48:23,210 INFO sqlalchemy.engine.Engine [generated in 0.00050s] {}\n",
      "2021-11-17 14:48:23,214 INFO sqlalchemy.engine.Engine INSERT INTO FUNC (x,y) VALUES (%(x)s, %(y)s)\n",
      "2021-11-17 14:48:23,215 INFO sqlalchemy.engine.Engine [generated in 0.00104s] ({'x': 1, 'y': 1}, {'x': 2, 'y': 4})\n",
      "2021-11-17 14:48:23,218 INFO sqlalchemy.engine.Engine COMMIT\n"
     ]
    }
   ],
   "source": [
    "from sqlalchemy import create_engine\n",
    "from sqlalchemy import text\n",
    "from db_auth import getConnectionInfo\n",
    "\n",
    "login = getConnectionInfo()\n",
    "\n",
    "username=login['username']\n",
    "password=login['password']\n",
    "host=login['host']\n",
    "port=login['port']\n",
    "db_name=login['db_name']\n",
    "\n",
    "engine = create_engine('postgresql://'+username+':'+password+'@'+host+':'+port+'/'+db_name, echo=True, future=True)\n",
    "\n",
    "with engine.connect() as conn:\n",
    "    result = conn.execute(text(\"select 'hello world'\"))\n",
    "    print(result.all())\n",
    "    \n",
    "    conn.execute(text(\"CREATE TABLE FUNC( x integer, y integer )\"))\n",
    "    conn.execute(text(\"INSERT INTO FUNC (x,y) VALUES (:x, :y)\"),\n",
    "                 [{\"x\":1, \"y\":1}, {\"x\" : 2, \"y\":4}])\n",
    "    conn.commit()\n",
    "    \n"
   ]
  },
  {
   "cell_type": "code",
   "execution_count": 8,
   "id": "76cce4e5-d2c8-4334-af6c-3338f1491c03",
   "metadata": {},
   "outputs": [
    {
     "name": "stdout",
     "output_type": "stream",
     "text": [
      "2021-11-17 14:48:30,694 INFO sqlalchemy.engine.Engine BEGIN (implicit)\n",
      "2021-11-17 14:48:30,695 INFO sqlalchemy.engine.Engine INSERT INTO FUNC (x,y) VALUES (%(x)s, %(y)s)\n",
      "2021-11-17 14:48:30,696 INFO sqlalchemy.engine.Engine [cached since 7.482s ago] ({'x': 6, 'y': 8}, {'x': 9, 'y': 10})\n",
      "2021-11-17 14:48:30,699 INFO sqlalchemy.engine.Engine COMMIT\n"
     ]
    }
   ],
   "source": [
    "with engine.begin() as conn:\n",
    "    conn.execute(text(\"INSERT INTO FUNC (x,y) VALUES (:x, :y)\"),\n",
    "                 [{\"x\":6, \"y\":8}, {\"x\" : 9, \"y\":10}])"
   ]
  },
  {
   "cell_type": "code",
   "execution_count": 38,
   "id": "61453e26-6072-4d94-9a75-76e476a94250",
   "metadata": {},
   "outputs": [
    {
     "name": "stdout",
     "output_type": "stream",
     "text": [
      "2021-11-17 15:53:42,156 INFO sqlalchemy.engine.Engine BEGIN (implicit)\n",
      "2021-11-17 15:53:42,157 INFO sqlalchemy.engine.Engine SELECT x,y FROM FUNC;\n",
      "2021-11-17 15:53:42,158 INFO sqlalchemy.engine.Engine [cached since 2049s ago] {}\n",
      "x: 1 y:1\n",
      "x: 2 y:4\n",
      "x: 6 y:8\n",
      "x: 9 y:10\n",
      "2021-11-17 15:53:42,159 INFO sqlalchemy.engine.Engine SELECT x,y FROM FUNC;\n",
      "2021-11-17 15:53:42,160 INFO sqlalchemy.engine.Engine [cached since 2049s ago] {}\n",
      "1 1\n",
      "2 4\n",
      "6 8\n",
      "9 10\n",
      "2021-11-17 15:53:42,161 INFO sqlalchemy.engine.Engine SELECT x,y FROM FUNC where y > %(y)s\n",
      "2021-11-17 15:53:42,162 INFO sqlalchemy.engine.Engine [cached since 619.2s ago] {'y': 2}\n",
      "x: 2 y:4\n",
      "x: 6 y:8\n",
      "x: 9 y:10\n",
      "2021-11-17 15:53:42,164 INFO sqlalchemy.engine.Engine INSERT INTO FUNC(x,y) VALUES (%(x)s, %(y)s)\n",
      "2021-11-17 15:53:42,164 INFO sqlalchemy.engine.Engine [generated in 0.00053s] ({'x': 11, 'y': 12}, {'x': 13, 'y': 14})\n",
      "2021-11-17 15:53:42,165 INFO sqlalchemy.engine.Engine COMMIT\n"
     ]
    }
   ],
   "source": [
    "#statement Execution\n",
    "with engine.connect() as conn:\n",
    "    result = conn.execute(text(\"SELECT x,y FROM FUNC;\"))\n",
    "    for row in result:\n",
    "        print(f\"x: {row.x} y:{row.y}\")\n",
    "        \n",
    "    result = conn.execute(text(\"SELECT x,y FROM FUNC;\"))\n",
    "    for dict_row in result.mappings():\n",
    "        x = dict_row['x']\n",
    "        y = dict_row['y']\n",
    "        print(x,y)\n",
    "    \n",
    "    result=conn.execute(text(\"SELECT x,y FROM FUNC where y > :y\"),\n",
    "                        {\"y\":2})\n",
    "    for row in result:\n",
    "        print(f\"x: {row.x} y:{row.y}\")\n",
    "        \n",
    "    conn.execute(text(\"INSERT INTO FUNC(x,y) VALUES (:x, :y)\"),\n",
    "                 [{\"x\":11, \"y\":12}, {\"x\":13, \"y\": 14}]) #insert문 반환값 없음\n",
    "    conn.commit()"
   ]
  },
  {
   "cell_type": "code",
   "execution_count": 41,
   "id": "4d45b267-16a8-4c3b-889a-47f4f394ffe6",
   "metadata": {},
   "outputs": [
    {
     "name": "stdout",
     "output_type": "stream",
     "text": [
      "2021-11-17 16:02:09,285 INFO sqlalchemy.engine.Engine BEGIN (implicit)\n",
      "2021-11-17 16:02:09,286 INFO sqlalchemy.engine.Engine SELECT x, y FROM FUNC WHERE y > %(y)s ORDER BY x,y\n",
      "2021-11-17 16:02:09,287 INFO sqlalchemy.engine.Engine [cached since 130.5s ago] {'y': 6}\n",
      "x: 6 y:8\n",
      "x: 9 y:10\n",
      "x: 11 y:12\n",
      "x: 13 y:14\n",
      "2021-11-17 16:02:09,288 INFO sqlalchemy.engine.Engine ROLLBACK\n"
     ]
    }
   ],
   "source": [
    "#bundling parameters\n",
    "with engine.connect() as conn:\n",
    "    stmt = text(\"SELECT x, y FROM FUNC WHERE y > :y ORDER BY x,y\").bindparams(y=6)\n",
    "    result = conn.execute(stmt)\n",
    "    for row in result:\n",
    "        print(f\"x: {row.x} y:{row.y}\")"
   ]
  },
  {
   "cell_type": "code",
   "execution_count": 44,
   "id": "f4be2d22-a5aa-42a5-8fde-5cb19fcd3aca",
   "metadata": {},
   "outputs": [
    {
     "name": "stdout",
     "output_type": "stream",
     "text": [
      "2021-11-17 16:11:04,735 INFO sqlalchemy.engine.Engine BEGIN (implicit)\n",
      "2021-11-17 16:11:04,737 INFO sqlalchemy.engine.Engine SELECT x, y FROM FUNC WHERE y > %(y)s ORDER BY x,y\n",
      "2021-11-17 16:11:04,737 INFO sqlalchemy.engine.Engine [cached since 666s ago] {'y': 6}\n",
      "x: 6 y:8\n",
      "x: 9 y:10\n",
      "x: 11 y:12\n",
      "x: 13 y:14\n",
      "2021-11-17 16:11:04,739 INFO sqlalchemy.engine.Engine UPDATE FUNC SET y=%(y)s WHERE x=%(x)s\n",
      "2021-11-17 16:11:04,739 INFO sqlalchemy.engine.Engine [cached since 25.81s ago] ({'y': 11, 'x': 9}, {'y': 15, 'x': 13})\n",
      "2021-11-17 16:11:04,741 INFO sqlalchemy.engine.Engine COMMIT\n"
     ]
    }
   ],
   "source": [
    "#ORM Session으로 실행하기\n",
    "from sqlalchemy.orm import Session\n",
    "stmt = text(\"SELECT x, y FROM FUNC WHERE y > :y ORDER BY x,y\").bindparams(y=6)\n",
    "with Session(engine) as session:\n",
    "    result = session.execute(stmt)\n",
    "    for row in result:\n",
    "        print(f\"x: {row.x} y:{row.y}\")\n",
    "    \n",
    "    result = session.execute(\n",
    "        text(\"UPDATE FUNC SET y=:y WHERE x=:x\"),\n",
    "        [{\"x\":9, \"y\":11}, {\"x\":13, \"y\":15}]\n",
    "    )\n",
    "    session.commit() #커밋해야 저장됨"
   ]
  }
 ],
 "metadata": {
  "kernelspec": {
   "display_name": "Python 3 (ipykernel)",
   "language": "python",
   "name": "python3"
  },
  "language_info": {
   "codemirror_mode": {
    "name": "ipython",
    "version": 3
   },
   "file_extension": ".py",
   "mimetype": "text/x-python",
   "name": "python",
   "nbconvert_exporter": "python",
   "pygments_lexer": "ipython3",
   "version": "3.8.12"
  }
 },
 "nbformat": 4,
 "nbformat_minor": 5
}
