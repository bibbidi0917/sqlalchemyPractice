{
 "cells": [
  {
   "cell_type": "markdown",
   "id": "8533af37-c486-4421-a7a5-75e028df46a5",
   "metadata": {},
   "source": [
    "# SQLAlchemy 1.4 / 2.0 Tutorial"
   ]
  },
  {
   "cell_type": "markdown",
   "id": "f5aecc72-efed-4c78-b02c-f962950eea12",
   "metadata": {},
   "source": [
    "## Establishing Connectivity - the Engine"
   ]
  },
  {
   "cell_type": "code",
   "execution_count": 2,
   "id": "b1673477-ba6e-4cb3-bef2-1deeba3620cd",
   "metadata": {},
   "outputs": [
    {
     "name": "stdout",
     "output_type": "stream",
     "text": [
      "2021-11-22 08:09:10,899 INFO sqlalchemy.engine.Engine select version()\n",
      "2021-11-22 08:09:10,899 INFO sqlalchemy.engine.Engine [raw sql] {}\n",
      "2021-11-22 08:09:10,909 INFO sqlalchemy.engine.Engine select current_schema()\n",
      "2021-11-22 08:09:10,909 INFO sqlalchemy.engine.Engine [raw sql] {}\n",
      "2021-11-22 08:09:10,910 INFO sqlalchemy.engine.Engine show standard_conforming_strings\n",
      "2021-11-22 08:09:10,911 INFO sqlalchemy.engine.Engine [raw sql] {}\n",
      "2021-11-22 08:09:10,912 INFO sqlalchemy.engine.Engine BEGIN (implicit)\n",
      "2021-11-22 08:09:10,913 INFO sqlalchemy.engine.Engine select 'hello world'\n",
      "2021-11-22 08:09:10,913 INFO sqlalchemy.engine.Engine [generated in 0.00094s] {}\n",
      "[('hello world',)]\n",
      "2021-11-22 08:09:10,914 INFO sqlalchemy.engine.Engine ROLLBACK\n"
     ]
    }
   ],
   "source": [
    "import os.path\n",
    "import yaml\n",
    "from sqlalchemy import create_engine, text\n",
    "\n",
    "config_path = os.path.expanduser('~\\\\.sqlalchemy\\\\config.yaml')\n",
    "\n",
    "with open(config_path) as f:\n",
    "    config = yaml.load(f, Loader=yaml.FullLoader)\n",
    "\n",
    "db_path = (\n",
    "    f\"postgresql://{config['username']}:{config['password']}\"\n",
    "    f\"@{config['host']}:{config['port']}/{config['db_name']}\"\n",
    ")\n",
    "engine = create_engine(db_path, echo=True, future=True)\n",
    "\n",
    "with engine.connect() as conn:\n",
    "    result = conn.execute(text(\"select 'hello world'\"))\n",
    "    print(result.all())\n"
   ]
  },
  {
   "cell_type": "markdown",
   "id": "dc5e4db3-b4d2-4f02-a598-abdf87cd6ee7",
   "metadata": {},
   "source": [
    "## Working with Transactions and the DBAPI"
   ]
  },
  {
   "cell_type": "markdown",
   "id": "5130d165-2bc7-465c-8762-5430764ec9f0",
   "metadata": {},
   "source": [
    "### Committing Changes"
   ]
  },
  {
   "cell_type": "code",
   "execution_count": 15,
   "id": "01a85d00-851f-4d81-be07-b84b2bbb2231",
   "metadata": {},
   "outputs": [
    {
     "name": "stdout",
     "output_type": "stream",
     "text": [
      "2021-11-18 15:15:22,626 INFO sqlalchemy.engine.Engine BEGIN (implicit)\n",
      "2021-11-18 15:15:22,627 INFO sqlalchemy.engine.Engine CREATE TABLE FUNC( x integer, y integer )\n",
      "2021-11-18 15:15:22,627 INFO sqlalchemy.engine.Engine [generated in 0.00121s] {}\n",
      "2021-11-18 15:15:22,652 INFO sqlalchemy.engine.Engine INSERT INTO FUNC (x,y) VALUES (%(x)s, %(y)s)\n",
      "2021-11-18 15:15:22,653 INFO sqlalchemy.engine.Engine [generated in 0.00099s] ({'x': 1, 'y': 1}, {'x': 2, 'y': 4})\n",
      "2021-11-18 15:15:22,655 INFO sqlalchemy.engine.Engine COMMIT\n",
      "2021-11-18 15:15:22,658 INFO sqlalchemy.engine.Engine BEGIN (implicit)\n",
      "2021-11-18 15:15:22,659 INFO sqlalchemy.engine.Engine INSERT INTO FUNC (x,y) VALUES (%(x)s, %(y)s)\n",
      "2021-11-18 15:15:22,659 INFO sqlalchemy.engine.Engine [cached since 0.007468s ago] ({'x': 6, 'y': 8}, {'x': 9, 'y': 10})\n",
      "2021-11-18 15:15:22,663 INFO sqlalchemy.engine.Engine COMMIT\n"
     ]
    }
   ],
   "source": [
    "# commit as you go\n",
    "with engine.connect() as conn:\n",
    "    conn.execute(text(\"CREATE TABLE FUNC( x integer, y integer )\"))\n",
    "    conn.execute(text(\"INSERT INTO FUNC (x,y) VALUES (:x, :y)\"),\n",
    "                 [{\"x\": 1, \"y\": 1}, {\"x\": 2, \"y\": 4}])\n",
    "    conn.commit()\n",
    "\n",
    "# begin once\n",
    "with engine.begin() as conn:\n",
    "    conn.execute(text(\"INSERT INTO FUNC (x,y) VALUES (:x, :y)\"),\n",
    "                 [{\"x\": 6, \"y\": 8}, {\"x\": 9, \"y\": 10}])\n"
   ]
  },
  {
   "cell_type": "markdown",
   "id": "cd0ad987-843c-4a58-a644-9ddeb7aa6d5e",
   "metadata": {},
   "source": [
    "### Basics of Statement Execution"
   ]
  },
  {
   "cell_type": "code",
   "execution_count": 17,
   "id": "60c0cbe4-5086-4baa-87ce-23324298b044",
   "metadata": {},
   "outputs": [
    {
     "name": "stdout",
     "output_type": "stream",
     "text": [
      "2021-11-18 15:56:35,409 INFO sqlalchemy.engine.Engine BEGIN (implicit)\n",
      "2021-11-18 15:56:35,410 INFO sqlalchemy.engine.Engine SELECT x,y FROM FUNC;\n",
      "2021-11-18 15:56:35,410 INFO sqlalchemy.engine.Engine [generated in 0.00166s] {}\n",
      "x: 1 y: 1\n",
      "x: 2 y: 4\n",
      "x: 6 y: 8\n",
      "x: 9 y: 10\n",
      "2021-11-18 15:56:35,412 INFO sqlalchemy.engine.Engine SELECT x,y FROM FUNC;\n",
      "2021-11-18 15:56:35,413 INFO sqlalchemy.engine.Engine [cached since 0.004293s ago] {}\n",
      "1 1\n",
      "2 4\n",
      "6 8\n",
      "9 10\n",
      "2021-11-18 15:56:35,415 INFO sqlalchemy.engine.Engine SELECT x,y FROM FUNC where y > %(y)s\n",
      "2021-11-18 15:56:35,415 INFO sqlalchemy.engine.Engine [generated in 0.00051s] {'y': 2}\n",
      "x: 2 y: 4\n",
      "x: 6 y: 8\n",
      "x: 9 y: 10\n",
      "2021-11-18 15:56:35,420 INFO sqlalchemy.engine.Engine INSERT INTO FUNC(x,y) VALUES (%(x)s, %(y)s)\n",
      "2021-11-18 15:56:35,421 INFO sqlalchemy.engine.Engine [generated in 0.00087s] ({'x': 11, 'y': 12}, {'x': 13, 'y': 14})\n",
      "2021-11-18 15:56:35,422 INFO sqlalchemy.engine.Engine COMMIT\n",
      "2021-11-18 15:56:35,423 INFO sqlalchemy.engine.Engine BEGIN (implicit)\n",
      "2021-11-18 15:56:35,424 INFO sqlalchemy.engine.Engine SELECT x, y FROM FUNC WHERE y > %(y)s ORDER BY x,y\n",
      "2021-11-18 15:56:35,425 INFO sqlalchemy.engine.Engine [generated in 0.00141s] {'y': 6}\n",
      "x: 6 y: 8\n",
      "x: 9 y: 10\n",
      "x: 11 y: 12\n",
      "x: 13 y: 14\n",
      "2021-11-18 15:56:35,427 INFO sqlalchemy.engine.Engine ROLLBACK\n"
     ]
    }
   ],
   "source": [
    "with engine.connect() as conn:\n",
    "    result = conn.execute(text(\"SELECT x,y FROM FUNC;\"))\n",
    "    for row in result:\n",
    "        print(f\"x: {row.x} y: {row.y}\")\n",
    "\n",
    "    result = conn.execute(text(\"SELECT x,y FROM FUNC;\"))\n",
    "    for dict_row in result.mappings():\n",
    "        x = dict_row['x']\n",
    "        y = dict_row['y']\n",
    "        print(x, y)\n",
    "\n",
    "    result = conn.execute(text(\"SELECT x,y FROM FUNC where y > :y\"), {\"y\": 2})\n",
    "    for row in result:\n",
    "        print(f\"x: {row.x} y: {row.y}\")\n",
    "\n",
    "    conn.execute(text(\"INSERT INTO FUNC(x,y) VALUES (:x, :y)\"),\n",
    "                 [{\"x\": 11, \"y\": 12}, {\"x\": 13, \"y\": 14}])\n",
    "    conn.commit()\n",
    "\n",
    "    # bundling parameters\n",
    "    stmt = text(\n",
    "        \"SELECT x, y FROM FUNC WHERE y > :y ORDER BY x,y\"\n",
    "        ).bindparams(y=6)\n",
    "    result = conn.execute(stmt)\n",
    "    for row in result:\n",
    "        print(f\"x: {row.x} y: {row.y}\")\n"
   ]
  },
  {
   "cell_type": "markdown",
   "id": "06d80ef0-1846-454e-ba90-d673cd8bb4d0",
   "metadata": {},
   "source": [
    "### Executing with an ORM Session"
   ]
  },
  {
   "cell_type": "code",
   "execution_count": 18,
   "id": "1bfb2358-bfdb-4eaf-9401-9ee5bc48cee0",
   "metadata": {},
   "outputs": [
    {
     "name": "stdout",
     "output_type": "stream",
     "text": [
      "2021-11-18 16:02:08,297 INFO sqlalchemy.engine.Engine BEGIN (implicit)\n",
      "2021-11-18 16:02:08,313 INFO sqlalchemy.engine.Engine SELECT x, y FROM FUNC WHERE y > %(y)s ORDER BY x, y\n",
      "2021-11-18 16:02:08,313 INFO sqlalchemy.engine.Engine [generated in 0.00039s] {'y': 6}\n",
      "x: 6 y: 8\n",
      "x: 9 y: 10\n",
      "x: 11 y: 12\n",
      "x: 13 y: 14\n",
      "2021-11-18 16:02:08,313 INFO sqlalchemy.engine.Engine UPDATE FUNC SET y=%(y)s WHERE x=%(x)s\n",
      "2021-11-18 16:02:08,313 INFO sqlalchemy.engine.Engine [generated in 0.00036s] ({'y': 11, 'x': 9}, {'y': 15, 'x': 13})\n",
      "2021-11-18 16:02:08,319 INFO sqlalchemy.engine.Engine COMMIT\n"
     ]
    }
   ],
   "source": [
    "from sqlalchemy.orm import Session\n",
    "stmt = text(\n",
    "    \"SELECT x, y FROM FUNC WHERE y > :y ORDER BY x, y\"\n",
    ").bindparams(y=6)\n",
    "\n",
    "with Session(engine) as session:\n",
    "    result = session.execute(stmt)\n",
    "    for row in result:\n",
    "        print(f\"x: {row.x} y: {row.y}\")\n",
    "\n",
    "    result = session.execute(\n",
    "        text(\"UPDATE FUNC SET y=:y WHERE x=:x\"),\n",
    "        [{\"x\": 9, \"y\": 11}, {\"x\": 13, \"y\": 15}]\n",
    "    )\n",
    "    session.commit()  # To save, you should commit\n"
   ]
  },
  {
   "cell_type": "markdown",
   "id": "54bfb0b2-dc98-42ac-a7d4-ad5178b54b5a",
   "metadata": {},
   "source": [
    "## Working with Database Metadata"
   ]
  },
  {
   "cell_type": "markdown",
   "id": "9e675e1d-dc38-44b4-b8a4-0225155716d1",
   "metadata": {},
   "source": [
    "### Setting up Metadata with Table objects"
   ]
  },
  {
   "cell_type": "code",
   "execution_count": 5,
   "id": "7efa2e18-d715-48b9-8975-7ddd893784de",
   "metadata": {},
   "outputs": [
    {
     "name": "stdout",
     "output_type": "stream",
     "text": [
      "MetaData()\n"
     ]
    }
   ],
   "source": [
    "from sqlalchemy import MetaData\n",
    "metadata_obj = MetaData()  # a set of Table object\n",
    "\n",
    "print(metadata_obj)"
   ]
  },
  {
   "cell_type": "code",
   "execution_count": 6,
   "id": "419cbce4-f1a6-46ab-91d3-6a2712202f48",
   "metadata": {},
   "outputs": [],
   "source": [
    "from sqlalchemy import Table, Column, Integer, String\n",
    "user_table = Table(\n",
    "    \"user_account\",  # table name\n",
    "    metadata_obj,  # 'metadata_obj' has this table.\n",
    "    Column('id', Integer, primary_key=True),\n",
    "    Column('name', String(30)),\n",
    "    Column('fullname', String)\n",
    ")\n"
   ]
  },
  {
   "cell_type": "markdown",
   "id": "26a38d67-c490-4050-91aa-dbfddfc258a7",
   "metadata": {},
   "source": [
    "### Declaring Simple Constraints"
   ]
  },
  {
   "cell_type": "code",
   "execution_count": 7,
   "id": "88e43445-d0f6-401c-975a-f3e4616c942b",
   "metadata": {},
   "outputs": [
    {
     "data": {
      "text/plain": [
       "PrimaryKeyConstraint(Column('id', Integer(), table=<user_account>, primary_key=True, nullable=False))"
      ]
     },
     "execution_count": 7,
     "metadata": {},
     "output_type": "execute_result"
    }
   ],
   "source": [
    "user_table.primary_key"
   ]
  },
  {
   "cell_type": "code",
   "execution_count": 8,
   "id": "328e363e-af3b-44e8-aaaa-9b72206c8f35",
   "metadata": {},
   "outputs": [],
   "source": [
    "from sqlalchemy import ForeignKey\n",
    "#  ForeignKey : we can omit the datatype for this column\n",
    "address_table = Table(\n",
    "    \"address\",\n",
    "    metadata_obj,\n",
    "    Column('id', Integer, primary_key=True),\n",
    "    Column('user_id', ForeignKey('user_account.id'), nullable=False),\n",
    "    Column('email_address', String, nullable=False)\n",
    ")\n"
   ]
  },
  {
   "cell_type": "markdown",
   "id": "444dcf10-9fe7-4bba-9ce9-fc3762385698",
   "metadata": {},
   "source": [
    "### Emitting DDL to the Database"
   ]
  },
  {
   "cell_type": "code",
   "execution_count": 36,
   "id": "8c98d6a3-7abc-498d-bbcb-8ce2737dd568",
   "metadata": {},
   "outputs": [
    {
     "name": "stdout",
     "output_type": "stream",
     "text": [
      "2021-11-19 08:51:33,161 INFO sqlalchemy.engine.Engine BEGIN (implicit)\n",
      "2021-11-19 08:51:33,163 INFO sqlalchemy.engine.Engine select relname from pg_class c join pg_namespace n on n.oid=c.relnamespace where pg_catalog.pg_table_is_visible(c.oid) and relname=%(name)s\n",
      "2021-11-19 08:51:33,164 INFO sqlalchemy.engine.Engine [cached since 2231s ago] {'name': 'user_account'}\n",
      "2021-11-19 08:51:33,166 INFO sqlalchemy.engine.Engine select relname from pg_class c join pg_namespace n on n.oid=c.relnamespace where pg_catalog.pg_table_is_visible(c.oid) and relname=%(name)s\n",
      "2021-11-19 08:51:33,166 INFO sqlalchemy.engine.Engine [cached since 2231s ago] {'name': 'address'}\n",
      "2021-11-19 08:51:33,168 INFO sqlalchemy.engine.Engine \n",
      "CREATE TABLE user_account (\n",
      "\tid SERIAL NOT NULL, \n",
      "\tname VARCHAR(30), \n",
      "\tfullname VARCHAR, \n",
      "\tPRIMARY KEY (id)\n",
      ")\n",
      "\n",
      "\n",
      "2021-11-19 08:51:33,168 INFO sqlalchemy.engine.Engine [no key 0.00064s] {}\n",
      "2021-11-19 08:51:33,182 INFO sqlalchemy.engine.Engine \n",
      "CREATE TABLE address (\n",
      "\tid SERIAL NOT NULL, \n",
      "\tuser_id INTEGER NOT NULL, \n",
      "\temail_address VARCHAR NOT NULL, \n",
      "\tPRIMARY KEY (id), \n",
      "\tFOREIGN KEY(user_id) REFERENCES user_account (id)\n",
      ")\n",
      "\n",
      "\n",
      "2021-11-19 08:51:33,182 INFO sqlalchemy.engine.Engine [no key 0.00059s] {}\n",
      "2021-11-19 08:51:33,199 INFO sqlalchemy.engine.Engine COMMIT\n"
     ]
    }
   ],
   "source": [
    "# create\n",
    "metadata_obj.create_all(engine)"
   ]
  },
  {
   "cell_type": "code",
   "execution_count": 36,
   "id": "065b135f-e295-4463-9925-367b7a88c062",
   "metadata": {},
   "outputs": [
    {
     "name": "stdout",
     "output_type": "stream",
     "text": [
      "2021-11-18 16:22:16,961 INFO sqlalchemy.engine.Engine BEGIN (implicit)\n",
      "2021-11-18 16:22:16,962 INFO sqlalchemy.engine.Engine select relname from pg_class c join pg_namespace n on n.oid=c.relnamespace where pg_catalog.pg_table_is_visible(c.oid) and relname=%(name)s\n",
      "2021-11-18 16:22:16,963 INFO sqlalchemy.engine.Engine [cached since 10.58s ago] {'name': 'user_account'}\n",
      "2021-11-18 16:22:16,968 INFO sqlalchemy.engine.Engine select relname from pg_class c join pg_namespace n on n.oid=c.relnamespace where pg_catalog.pg_table_is_visible(c.oid) and relname=%(name)s\n",
      "2021-11-18 16:22:16,968 INFO sqlalchemy.engine.Engine [cached since 10.58s ago] {'name': 'address'}\n",
      "2021-11-18 16:22:16,969 INFO sqlalchemy.engine.Engine \n",
      "DROP TABLE address\n",
      "2021-11-18 16:22:16,971 INFO sqlalchemy.engine.Engine [no key 0.00182s] {}\n",
      "2021-11-18 16:22:16,976 INFO sqlalchemy.engine.Engine \n",
      "DROP TABLE user_account\n",
      "2021-11-18 16:22:16,977 INFO sqlalchemy.engine.Engine [no key 0.00057s] {}\n",
      "2021-11-18 16:22:16,978 INFO sqlalchemy.engine.Engine COMMIT\n"
     ]
    }
   ],
   "source": [
    "# delete\n",
    "metadata_obj.drop_all(engine)"
   ]
  },
  {
   "cell_type": "markdown",
   "id": "3fa156af-3edf-4f7e-bb4d-4ac3c2f7d160",
   "metadata": {},
   "source": [
    "### Defining Table Metadata with the ORM"
   ]
  },
  {
   "cell_type": "code",
   "execution_count": 37,
   "id": "c03bb592-1a5d-4dc3-83cf-2fd4367dab50",
   "metadata": {},
   "outputs": [],
   "source": [
    "# Setting up the Registry\n",
    "from sqlalchemy.orm import registry\n",
    "mapper_registry = registry()\n",
    "mapper_registry.metadata\n",
    "Base = mapper_registry.generate_base()  # declarative base\n"
   ]
  },
  {
   "cell_type": "code",
   "execution_count": 38,
   "id": "cdd322e3-066c-43ba-b972-81962de9b8cb",
   "metadata": {},
   "outputs": [],
   "source": [
    "# Declaring Mapped Classes (using base)\n",
    "from sqlalchemy.orm import relationship\n",
    "\n",
    "\n",
    "class User(Base):\n",
    "    __tablename__ = 'user_account'\n",
    "\n",
    "    id = Column(Integer, primary_key=True)\n",
    "    name = Column(String(30))\n",
    "    fullname = Column(String)\n",
    "    addresses = relationship(\"Address\", back_populates=\"user\")\n",
    "    # back_populates: Establishing a relationship in both direction.\n",
    "\n",
    "    def __repr__(self):\n",
    "        return (\n",
    "            f\"User(id={self.id!r}, name={self.name!r}, \"\n",
    "            f\"fullname={self.fullname!r})\"\n",
    "        )\n",
    "        # !r : repr(). a formal string that the interpreter can recognize\n",
    "\n",
    "\n",
    "class Address(Base):\n",
    "    __tablename__ = 'address'\n",
    "\n",
    "    id = Column(Integer, primary_key=True)\n",
    "    email_address = Column(String, nullable=False)\n",
    "    user_id = Column(Integer, ForeignKey('user_account.id'))\n",
    "\n",
    "    user = relationship(\"User\", back_populates=\"addresses\")\n",
    "\n",
    "    def __repr__(self):\n",
    "        return f\"Address(id={self.id!r}, email_address={self.email_address!r})\"\n"
   ]
  },
  {
   "cell_type": "code",
   "execution_count": 26,
   "id": "e8557ee1-d376-4359-85ec-e050a911deda",
   "metadata": {},
   "outputs": [
    {
     "data": {
      "text/plain": [
       "Table('user_account', MetaData(), Column('id', Integer(), table=<user_account>, primary_key=True, nullable=False), Column('name', String(length=30), table=<user_account>), Column('fullname', String(), table=<user_account>), schema=None)"
      ]
     },
     "execution_count": 26,
     "metadata": {},
     "output_type": "execute_result"
    }
   ],
   "source": [
    "User.__table__"
   ]
  },
  {
   "cell_type": "code",
   "execution_count": 39,
   "id": "221ff608-ea37-4857-a341-e7f1052d7cac",
   "metadata": {},
   "outputs": [
    {
     "data": {
      "text/plain": [
       "User(id=None, name='sandy', fullname='Sandy Cheeks')"
      ]
     },
     "execution_count": 39,
     "metadata": {},
     "output_type": "execute_result"
    }
   ],
   "source": [
    "# Other Mapped Class Details\n",
    "sandy = User(name=\"sandy\", fullname=\"Sandy Cheeks\")  # create a instance\n",
    "sandy  # __repr__() is used"
   ]
  },
  {
   "cell_type": "code",
   "execution_count": 44,
   "id": "2b4bd943-3d94-40c4-a553-e71aaebaade7",
   "metadata": {},
   "outputs": [],
   "source": [
    "# Emitting DDL to the database. (three ways to emit DDL)\n",
    "# 1) MetaData.create_all(engine)\n",
    "# 2) mapper_registry.metadata.create_all(engine)\n",
    "# 3) Base.metadata.create_all(engine)\n"
   ]
  },
  {
   "cell_type": "code",
   "execution_count": 46,
   "id": "c2028cc8-2104-41ee-8690-b637b042ce5e",
   "metadata": {},
   "outputs": [],
   "source": [
    "# Combining Core Table Declarations with ORM Declarative\n",
    "# class User(Base):\n",
    "#    __table__ = user_table  # we don't have to write column infos."
   ]
  },
  {
   "cell_type": "markdown",
   "id": "20b20d51-bce5-4085-87db-c021477ff1e6",
   "metadata": {},
   "source": [
    "### Table Reflection"
   ]
  },
  {
   "cell_type": "code",
   "execution_count": 12,
   "id": "19edd444-6d67-45cc-8e6d-447ef44a0f96",
   "metadata": {},
   "outputs": [
    {
     "name": "stdout",
     "output_type": "stream",
     "text": [
      "2021-11-19 08:11:23,967 INFO sqlalchemy.engine.Engine BEGIN (implicit)\n",
      "2021-11-19 08:11:23,968 INFO sqlalchemy.engine.Engine \n",
      "            SELECT c.oid\n",
      "            FROM pg_catalog.pg_class c\n",
      "            LEFT JOIN pg_catalog.pg_namespace n ON n.oid = c.relnamespace\n",
      "            WHERE (pg_catalog.pg_table_is_visible(c.oid))\n",
      "            AND c.relname = %(table_name)s AND c.relkind in\n",
      "            ('r', 'v', 'm', 'f', 'p')\n",
      "        \n",
      "2021-11-19 08:11:23,969 INFO sqlalchemy.engine.Engine [generated in 0.00143s] {'table_name': 'func'}\n",
      "2021-11-19 08:11:23,971 INFO sqlalchemy.engine.Engine \n",
      "            SELECT a.attname,\n",
      "              pg_catalog.format_type(a.atttypid, a.atttypmod),\n",
      "              (\n",
      "                SELECT pg_catalog.pg_get_expr(d.adbin, d.adrelid)\n",
      "                FROM pg_catalog.pg_attrdef d\n",
      "                WHERE d.adrelid = a.attrelid AND d.adnum = a.attnum\n",
      "                AND a.atthasdef\n",
      "              ) AS DEFAULT,\n",
      "              a.attnotnull,\n",
      "              a.attrelid as table_oid,\n",
      "              pgd.description as comment,\n",
      "              a.attgenerated as generated,\n",
      "                              (SELECT json_build_object(\n",
      "                    'always', a.attidentity = 'a',\n",
      "                    'start', s.seqstart,\n",
      "                    'increment', s.seqincrement,\n",
      "                    'minvalue', s.seqmin,\n",
      "                    'maxvalue', s.seqmax,\n",
      "                    'cache', s.seqcache,\n",
      "                    'cycle', s.seqcycle)\n",
      "                FROM pg_catalog.pg_sequence s\n",
      "                JOIN pg_catalog.pg_class c on s.seqrelid = c.\"oid\"\n",
      "                WHERE c.relkind = 'S'\n",
      "                AND a.attidentity != ''\n",
      "                AND s.seqrelid = pg_catalog.pg_get_serial_sequence(\n",
      "                    a.attrelid::regclass::text, a.attname\n",
      "                )::regclass::oid\n",
      "                ) as identity_options                \n",
      "            FROM pg_catalog.pg_attribute a\n",
      "            LEFT JOIN pg_catalog.pg_description pgd ON (\n",
      "                pgd.objoid = a.attrelid AND pgd.objsubid = a.attnum)\n",
      "            WHERE a.attrelid = %(table_oid)s\n",
      "            AND a.attnum > 0 AND NOT a.attisdropped\n",
      "            ORDER BY a.attnum\n",
      "        \n",
      "2021-11-19 08:11:23,972 INFO sqlalchemy.engine.Engine [generated in 0.00081s] {'table_oid': 24641}\n",
      "2021-11-19 08:11:23,997 INFO sqlalchemy.engine.Engine \n",
      "            SELECT t.typname as \"name\",\n",
      "               pg_catalog.format_type(t.typbasetype, t.typtypmod) as \"attype\",\n",
      "               not t.typnotnull as \"nullable\",\n",
      "               t.typdefault as \"default\",\n",
      "               pg_catalog.pg_type_is_visible(t.oid) as \"visible\",\n",
      "               n.nspname as \"schema\"\n",
      "            FROM pg_catalog.pg_type t\n",
      "               LEFT JOIN pg_catalog.pg_namespace n ON n.oid = t.typnamespace\n",
      "            WHERE t.typtype = 'd'\n",
      "        \n",
      "2021-11-19 08:11:23,998 INFO sqlalchemy.engine.Engine [generated in 0.00054s] {}\n",
      "2021-11-19 08:11:24,000 INFO sqlalchemy.engine.Engine \n",
      "            SELECT t.typname as \"name\",\n",
      "               -- no enum defaults in 8.4 at least\n",
      "               -- t.typdefault as \"default\",\n",
      "               pg_catalog.pg_type_is_visible(t.oid) as \"visible\",\n",
      "               n.nspname as \"schema\",\n",
      "               e.enumlabel as \"label\"\n",
      "            FROM pg_catalog.pg_type t\n",
      "                 LEFT JOIN pg_catalog.pg_namespace n ON n.oid = t.typnamespace\n",
      "                 LEFT JOIN pg_catalog.pg_enum e ON t.oid = e.enumtypid\n",
      "            WHERE t.typtype = 'e'\n",
      "        ORDER BY \"schema\", \"name\", e.oid\n",
      "2021-11-19 08:11:24,000 INFO sqlalchemy.engine.Engine [generated in 0.00084s] {}\n",
      "2021-11-19 08:11:24,010 INFO sqlalchemy.engine.Engine \n",
      "                SELECT a.attname\n",
      "                FROM pg_attribute a JOIN (\n",
      "                    SELECT unnest(ix.indkey) attnum,\n",
      "                           generate_subscripts(ix.indkey, 1) ord\n",
      "                    FROM pg_index ix\n",
      "                    WHERE ix.indrelid = %(table_oid)s AND ix.indisprimary\n",
      "                    ) k ON a.attnum=k.attnum\n",
      "                WHERE a.attrelid = %(table_oid)s\n",
      "                ORDER BY k.ord\n",
      "            \n",
      "2021-11-19 08:11:24,011 INFO sqlalchemy.engine.Engine [generated in 0.00092s] {'table_oid': 24641}\n",
      "2021-11-19 08:11:24,021 INFO sqlalchemy.engine.Engine \n",
      "        SELECT conname\n",
      "           FROM  pg_catalog.pg_constraint r\n",
      "           WHERE r.conrelid = %(table_oid)s AND r.contype = 'p'\n",
      "           ORDER BY 1\n",
      "        \n",
      "2021-11-19 08:11:24,022 INFO sqlalchemy.engine.Engine [generated in 0.00054s] {'table_oid': 24641}\n",
      "2021-11-19 08:11:24,043 INFO sqlalchemy.engine.Engine \n",
      "          SELECT r.conname,\n",
      "                pg_catalog.pg_get_constraintdef(r.oid, true) as condef,\n",
      "                n.nspname as conschema\n",
      "          FROM  pg_catalog.pg_constraint r,\n",
      "                pg_namespace n,\n",
      "                pg_class c\n",
      "\n",
      "          WHERE r.conrelid = %(table)s AND\n",
      "                r.contype = 'f' AND\n",
      "                c.oid = confrelid AND\n",
      "                n.oid = c.relnamespace\n",
      "          ORDER BY 1\n",
      "        \n",
      "2021-11-19 08:11:24,043 INFO sqlalchemy.engine.Engine [generated in 0.00067s] {'table': 24641}\n",
      "2021-11-19 08:11:24,048 INFO sqlalchemy.engine.Engine \n",
      "              SELECT\n",
      "                  i.relname as relname,\n",
      "                  ix.indisunique, ix.indexprs,\n",
      "                  a.attname, a.attnum, c.conrelid, ix.indkey::varchar,\n",
      "                  ix.indoption::varchar, i.reloptions, am.amname,\n",
      "                  pg_get_expr(ix.indpred, ix.indrelid),\n",
      "                  ix.indnkeyatts as indnkeyatts\n",
      "              FROM\n",
      "                  pg_class t\n",
      "                        join pg_index ix on t.oid = ix.indrelid\n",
      "                        join pg_class i on i.oid = ix.indexrelid\n",
      "                        left outer join\n",
      "                            pg_attribute a\n",
      "                            on t.oid = a.attrelid and a.attnum = ANY(ix.indkey)\n",
      "                        left outer join\n",
      "                            pg_constraint c\n",
      "                            on (ix.indrelid = c.conrelid and\n",
      "                                ix.indexrelid = c.conindid and\n",
      "                                c.contype in ('p', 'u', 'x'))\n",
      "                        left outer join\n",
      "                            pg_am am\n",
      "                            on i.relam = am.oid\n",
      "              WHERE\n",
      "                  t.relkind IN ('r', 'v', 'f', 'm', 'p')\n",
      "                  and t.oid = %(table_oid)s\n",
      "                  and ix.indisprimary = 'f'\n",
      "              ORDER BY\n",
      "                  t.relname,\n",
      "                  i.relname\n",
      "            \n",
      "2021-11-19 08:11:24,048 INFO sqlalchemy.engine.Engine [generated in 0.00069s] {'table_oid': 24641}\n",
      "2021-11-19 08:11:24,055 INFO sqlalchemy.engine.Engine \n",
      "            SELECT\n",
      "                cons.conname as name,\n",
      "                cons.conkey as key,\n",
      "                a.attnum as col_num,\n",
      "                a.attname as col_name\n",
      "            FROM\n",
      "                pg_catalog.pg_constraint cons\n",
      "                join pg_attribute a\n",
      "                  on cons.conrelid = a.attrelid AND\n",
      "                    a.attnum = ANY(cons.conkey)\n",
      "            WHERE\n",
      "                cons.conrelid = %(table_oid)s AND\n",
      "                cons.contype = 'u'\n",
      "        \n",
      "2021-11-19 08:11:24,056 INFO sqlalchemy.engine.Engine [generated in 0.00079s] {'table_oid': 24641}\n",
      "2021-11-19 08:11:24,057 INFO sqlalchemy.engine.Engine \n",
      "            SELECT\n",
      "                cons.conname as name,\n",
      "                pg_get_constraintdef(cons.oid) as src\n",
      "            FROM\n",
      "                pg_catalog.pg_constraint cons\n",
      "            WHERE\n",
      "                cons.conrelid = %(table_oid)s AND\n",
      "                cons.contype = 'c'\n",
      "        \n",
      "2021-11-19 08:11:24,057 INFO sqlalchemy.engine.Engine [generated in 0.00040s] {'table_oid': 24641}\n",
      "2021-11-19 08:11:24,059 INFO sqlalchemy.engine.Engine \n",
      "            SELECT\n",
      "                pgd.description as table_comment\n",
      "            FROM\n",
      "                pg_catalog.pg_description pgd\n",
      "            WHERE\n",
      "                pgd.objsubid = 0 AND\n",
      "                pgd.objoid = %(table_oid)s\n",
      "        \n",
      "2021-11-19 08:11:24,059 INFO sqlalchemy.engine.Engine [generated in 0.00082s] {'table_oid': 24641}\n",
      "2021-11-19 08:11:24,061 INFO sqlalchemy.engine.Engine ROLLBACK\n"
     ]
    }
   ],
   "source": [
    "# Load table from existing database as ORM object\n",
    "# (not declaring table directly)\n",
    "funcrefl = Table(\"func\", metadata_obj, autoload_with=engine)\n"
   ]
  },
  {
   "cell_type": "code",
   "execution_count": 13,
   "id": "59783e45-c343-4365-879e-e0d5fd79f6ed",
   "metadata": {},
   "outputs": [
    {
     "data": {
      "text/plain": [
       "Table('func', MetaData(), Column('x', INTEGER(), table=<func>), Column('y', INTEGER(), table=<func>), schema=None)"
      ]
     },
     "execution_count": 13,
     "metadata": {},
     "output_type": "execute_result"
    }
   ],
   "source": [
    "funcrefl"
   ]
  },
  {
   "cell_type": "markdown",
   "id": "0796e9fa-2c04-4e7c-b964-221596fbbc44",
   "metadata": {},
   "source": [
    "## Working with Data"
   ]
  },
  {
   "cell_type": "markdown",
   "id": "472d9750-7ab4-40bb-abd2-52901ecf5fe5",
   "metadata": {
    "tags": []
   },
   "source": [
    "### Inserting Rows with Core"
   ]
  },
  {
   "cell_type": "code",
   "execution_count": 40,
   "id": "dc0aaeff-1b1f-4293-8a44-ad5be9340f9c",
   "metadata": {},
   "outputs": [
    {
     "name": "stdout",
     "output_type": "stream",
     "text": [
      "INSERT INTO user_account (name, fullname) VALUES (:name, :fullname)\n",
      "2021-11-19 08:51:53,126 INFO sqlalchemy.engine.Engine BEGIN (implicit)\n",
      "2021-11-19 08:51:53,128 INFO sqlalchemy.engine.Engine INSERT INTO user_account (name, fullname) VALUES (%(name)s, %(fullname)s) RETURNING user_account.id\n",
      "2021-11-19 08:51:53,128 INFO sqlalchemy.engine.Engine [generated in 0.00191s] {'name': 'spongebob', 'fullname': 'Spongebob Squarepants'}\n",
      "2021-11-19 08:51:53,133 INFO sqlalchemy.engine.Engine COMMIT\n",
      "(1,)\n"
     ]
    }
   ],
   "source": [
    "from sqlalchemy import insert\n",
    "stmt = insert(user_table).values(\n",
    "    name='spongebob', fullname=\"Spongebob Squarepants\"\n",
    ")\n",
    "print(stmt)\n",
    "complied = stmt.compile()\n",
    "complied.params\n",
    "\n",
    "with engine.connect() as conn:\n",
    "    result = conn.execute(stmt)\n",
    "    conn.commit()\n",
    "    print(result.inserted_primary_key)  # tuple type\n"
   ]
  },
  {
   "cell_type": "code",
   "execution_count": 41,
   "id": "bcf76d4f-92e2-4e13-b384-7d81ecdc03f6",
   "metadata": {},
   "outputs": [
    {
     "name": "stdout",
     "output_type": "stream",
     "text": [
      "2021-11-19 08:51:55,570 INFO sqlalchemy.engine.Engine BEGIN (implicit)\n",
      "2021-11-19 08:51:55,571 INFO sqlalchemy.engine.Engine INSERT INTO user_account (name, fullname) VALUES (%(name)s, %(fullname)s)\n",
      "2021-11-19 08:51:55,572 INFO sqlalchemy.engine.Engine [generated in 0.00159s] ({'name': 'sandy', 'fullname': 'Sandy Cheeks'}, {'name': 'patrick', 'fullname': 'Patrick Star'})\n",
      "2021-11-19 08:51:55,573 INFO sqlalchemy.engine.Engine COMMIT\n"
     ]
    }
   ],
   "source": [
    "with engine.connect() as conn:\n",
    "    result = conn.execute(\n",
    "        insert(user_table),\n",
    "        [\n",
    "            {\"name\": \"sandy\", \"fullname\": \"Sandy Cheeks\"},\n",
    "            {\"name\": \"patrick\", \"fullname\": \"Patrick Star\"}\n",
    "        ]\n",
    "    )\n",
    "    conn.commit()"
   ]
  },
  {
   "cell_type": "code",
   "execution_count": 42,
   "id": "9c9ddbf8-2f10-49d4-85f9-27a0204bf070",
   "metadata": {},
   "outputs": [
    {
     "name": "stdout",
     "output_type": "stream",
     "text": [
      "(SELECT user_account.id \n",
      "FROM user_account \n",
      "WHERE user_account.name = :username)\n",
      "2021-11-19 08:51:58,750 INFO sqlalchemy.engine.Engine BEGIN (implicit)\n",
      "2021-11-19 08:51:58,751 INFO sqlalchemy.engine.Engine INSERT INTO address (user_id, email_address) VALUES ((SELECT user_account.id \n",
      "FROM user_account \n",
      "WHERE user_account.name = %(username)s), %(email_address)s)\n",
      "2021-11-19 08:51:58,751 INFO sqlalchemy.engine.Engine [generated in 0.00160s] ({'username': 'spongebob', 'email_address': 'spongebob@sqlalchemy.org'}, {'username': 'sandy', 'email_address': 'sandy@sqlalchemy.org'}, {'username': 'sandy', 'email_address': 'sandy@squirrelpower.org'})\n",
      "2021-11-19 08:51:58,753 INFO sqlalchemy.engine.Engine COMMIT\n"
     ]
    }
   ],
   "source": [
    "# insert using subquery\n",
    "from sqlalchemy import select, bindparam\n",
    "scalar_subq = (\n",
    "    select(user_table.c.id).\n",
    "    where(user_table.c.name == bindparam('username')).\n",
    "    scalar_subquery()\n",
    ")\n",
    "\n",
    "print(scalar_subq)\n",
    "\n",
    "with engine.connect() as conn:\n",
    "    result = conn.execute(\n",
    "        insert(address_table).values(user_id=scalar_subq),\n",
    "        [\n",
    "            {\"username\": 'spongebob', \"email_address\": \"spongebob@sqlalchemy.org\"},\n",
    "            {\"username\": 'sandy', \"email_address\": \"sandy@sqlalchemy.org\"},\n",
    "            {\"username\": 'sandy', \"email_address\": \"sandy@squirrelpower.org\"},\n",
    "        ]\n",
    "    )\n",
    "    conn.commit()\n"
   ]
  },
  {
   "cell_type": "code",
   "execution_count": 44,
   "id": "34161fc0-d97e-4a54-9983-0bdd02538225",
   "metadata": {},
   "outputs": [
    {
     "name": "stdout",
     "output_type": "stream",
     "text": [
      "SELECT user_account.id, user_account.name || :name_1 AS anon_1 \n",
      "FROM user_account\n",
      "INSERT INTO address (user_id, email_address) SELECT user_account.id, user_account.name || :name_1 AS anon_1 \n",
      "FROM user_account\n"
     ]
    }
   ],
   "source": [
    "from sqlalchemy import select, insert\n",
    "# insert from select\n",
    "select_stmt = select(user_table.c.id, user_table.c.name + \"@aol.com\")\n",
    "print(select_stmt)\n",
    "insert_stmt = insert(address_table).from_select(\n",
    "    [\"user_id\", \"email_address\"], select_stmt\n",
    ")\n",
    "print(insert_stmt)\n"
   ]
  },
  {
   "cell_type": "code",
   "execution_count": 48,
   "id": "f57deecb-0698-4415-b5b7-f4849f0f27ea",
   "metadata": {},
   "outputs": [
    {
     "name": "stdout",
     "output_type": "stream",
     "text": [
      "INSERT INTO address (id, user_id, email_address) VALUES (:id, :user_id, :email_address) RETURNING address.id, address.email_address\n",
      "INSERT INTO address (user_id, email_address) SELECT user_account.id, user_account.name || :name_1 AS anon_1 \n",
      "FROM user_account RETURNING address.id, address.email_address\n"
     ]
    }
   ],
   "source": [
    "# insert...Returning ('RETURNING' is supported by insert, update, delete)\n",
    "insert_stmt = insert(address_table).returning(\n",
    "    address_table.c.id, address_table.c.email_address\n",
    ")\n",
    "print(insert_stmt)\n",
    "\n",
    "select_stmt = select(user_table.c.id, user_table.c.name + \"@aol.com\")\n",
    "insert_stmt = insert(address_table).from_select(\n",
    "    [\"user_id\", \"email_address\"], select_stmt\n",
    ")\n",
    "print(insert_stmt.returning(address_table.c.id, address_table.c.email_address))\n"
   ]
  },
  {
   "cell_type": "markdown",
   "id": "7b7715ac-45c4-43cb-a6e9-1b80817b29c6",
   "metadata": {},
   "source": [
    "### Selecting Rows with Core or ORM"
   ]
  },
  {
   "cell_type": "markdown",
   "id": "ed8c25f7-3650-4f2b-b980-5c1c609340d9",
   "metadata": {},
   "source": [
    "#### The select() SQL Expression Construct"
   ]
  },
  {
   "cell_type": "code",
   "execution_count": 51,
   "id": "3e4b42e7-b2dc-4ae4-8128-e3b2999d0748",
   "metadata": {},
   "outputs": [
    {
     "name": "stdout",
     "output_type": "stream",
     "text": [
      "SELECT user_account.id, user_account.name, user_account.fullname \n",
      "FROM user_account \n",
      "WHERE user_account.name = :name_1\n",
      "2021-11-19 10:03:04,484 INFO sqlalchemy.engine.Engine BEGIN (implicit)\n",
      "2021-11-19 10:03:04,485 INFO sqlalchemy.engine.Engine SELECT user_account.id, user_account.name, user_account.fullname \n",
      "FROM user_account \n",
      "WHERE user_account.name = %(name_1)s\n",
      "2021-11-19 10:03:04,485 INFO sqlalchemy.engine.Engine [cached since 151.8s ago] {'name_1': 'spongebob'}\n",
      "(1, 'spongebob', 'Spongebob Squarepants')\n",
      "2021-11-19 10:03:04,486 INFO sqlalchemy.engine.Engine ROLLBACK\n"
     ]
    }
   ],
   "source": [
    "from sqlalchemy import select\n",
    "stmt = select(user_table).where(user_table.c.name == 'spongebob')\n",
    "print(stmt)\n",
    "\n",
    "with engine.connect() as conn:\n",
    "    for row in conn.execute(stmt):\n",
    "        print(row)\n"
   ]
  },
  {
   "cell_type": "code",
   "execution_count": 55,
   "id": "40ef431b-4fa4-488e-b035-6d924ccb8575",
   "metadata": {},
   "outputs": [
    {
     "name": "stdout",
     "output_type": "stream",
     "text": [
      "2021-11-19 10:07:37,078 INFO sqlalchemy.engine.Engine BEGIN (implicit)\n",
      "2021-11-19 10:07:37,079 INFO sqlalchemy.engine.Engine SELECT user_account.id, user_account.name, user_account.fullname \n",
      "FROM user_account \n",
      "WHERE user_account.name = %(name_1)s\n",
      "2021-11-19 10:07:37,080 INFO sqlalchemy.engine.Engine [cached since 188.9s ago] {'name_1': 'spongebob'}\n",
      "(User(id=1, name='spongebob', fullname='Spongebob Squarepants'),)\n",
      "2021-11-19 10:07:37,081 INFO sqlalchemy.engine.Engine ROLLBACK\n"
     ]
    }
   ],
   "source": [
    "from sqlalchemy.orm import Session\n",
    "# using the ORM : ORM-mapped instances should be returned\n",
    "stmt = select(User).where(User.name == 'spongebob')\n",
    "with Session(engine) as session:\n",
    "    for row in session.execute(stmt):\n",
    "        print(row)\n"
   ]
  },
  {
   "cell_type": "markdown",
   "id": "6841dfd6-3325-416d-af98-8c210084d219",
   "metadata": {},
   "source": [
    "#### Setting the COLUMNS and FROM clause"
   ]
  },
  {
   "cell_type": "code",
   "execution_count": 67,
   "id": "7580afc4-bc36-4b5a-bfc4-bff653557640",
   "metadata": {},
   "outputs": [
    {
     "name": "stdout",
     "output_type": "stream",
     "text": [
      "SELECT user_account.id, user_account.name, user_account.fullname \n",
      "FROM user_account\n",
      "SELECT user_account.name, user_account.fullname \n",
      "FROM user_account\n"
     ]
    }
   ],
   "source": [
    "print(select(user_table))  # User table is 'table object'\n",
    "print(select(user_table.c.name, user_table.c.fullname))  # Core approach\n"
   ]
  },
  {
   "cell_type": "code",
   "execution_count": 68,
   "id": "5d8267e0-6757-4884-8d51-8039968e28ec",
   "metadata": {},
   "outputs": [
    {
     "name": "stdout",
     "output_type": "stream",
     "text": [
      "SELECT user_account.id, user_account.name, user_account.fullname \n",
      "FROM user_account\n",
      "2021-11-19 10:20:32,509 INFO sqlalchemy.engine.Engine SELECT user_account.id, user_account.name, user_account.fullname \n",
      "FROM user_account\n",
      "2021-11-19 10:20:32,511 INFO sqlalchemy.engine.Engine [cached since 344.5s ago] {}\n"
     ]
    },
    {
     "data": {
      "text/plain": [
       "(User(id=1, name='spongebob', fullname='Spongebob Squarepants'),)"
      ]
     },
     "execution_count": 68,
     "metadata": {},
     "output_type": "execute_result"
    }
   ],
   "source": [
    "# selecting ORM entites and columns\n",
    "print(select(User))\n",
    "row = session.execute(select(User)).first()\n",
    "row  # row objects which contain instances of the User class"
   ]
  },
  {
   "cell_type": "code",
   "execution_count": 63,
   "id": "a4fdae4b-761f-4d8a-ae80-85793d68e739",
   "metadata": {},
   "outputs": [
    {
     "data": {
      "text/plain": [
       "User(id=1, name='spongebob', fullname='Spongebob Squarepants')"
      ]
     },
     "execution_count": 63,
     "metadata": {},
     "output_type": "execute_result"
    }
   ],
   "source": [
    "row[0]"
   ]
  },
  {
   "cell_type": "code",
   "execution_count": 65,
   "id": "12d4f6b8-d35d-4a24-be16-10bc4afad815",
   "metadata": {},
   "outputs": [
    {
     "name": "stdout",
     "output_type": "stream",
     "text": [
      "SELECT user_account.name, user_account.fullname \n",
      "FROM user_account\n"
     ]
    }
   ],
   "source": [
    "print(select(User.name, User.fullname))"
   ]
  },
  {
   "cell_type": "code",
   "execution_count": 66,
   "id": "f54e07ff-1574-4302-82f0-240e7937b47b",
   "metadata": {},
   "outputs": [
    {
     "name": "stdout",
     "output_type": "stream",
     "text": [
      "2021-11-19 10:18:24,536 INFO sqlalchemy.engine.Engine SELECT user_account.name, user_account.fullname \n",
      "FROM user_account\n",
      "2021-11-19 10:18:24,536 INFO sqlalchemy.engine.Engine [generated in 0.00098s] {}\n"
     ]
    },
    {
     "data": {
      "text/plain": [
       "('spongebob', 'Spongebob Squarepants')"
      ]
     },
     "execution_count": 66,
     "metadata": {},
     "output_type": "execute_result"
    }
   ],
   "source": [
    "row = session.execute(select(User.name, User.fullname)).first()\n",
    "row"
   ]
  },
  {
   "cell_type": "code",
   "execution_count": 73,
   "id": "1f68766b-43b3-4af5-a2f4-b1e5c50745ca",
   "metadata": {},
   "outputs": [
    {
     "name": "stdout",
     "output_type": "stream",
     "text": [
      "2021-11-19 10:26:20,706 INFO sqlalchemy.engine.Engine SELECT user_account.name, address.id, address.email_address, address.user_id \n",
      "FROM user_account, address \n",
      "WHERE user_account.id = address.user_id ORDER BY address.id\n",
      "2021-11-19 10:26:20,707 INFO sqlalchemy.engine.Engine [cached since 215.4s ago] {}\n"
     ]
    },
    {
     "data": {
      "text/plain": [
       "[('spongebob', Address(id=1, email_address='spongebob@sqlalchemy.org')),\n",
       " ('sandy', Address(id=2, email_address='sandy@sqlalchemy.org')),\n",
       " ('sandy', Address(id=3, email_address='sandy@squirrelpower.org'))]"
      ]
     },
     "execution_count": 73,
     "metadata": {},
     "output_type": "execute_result"
    }
   ],
   "source": [
    "session.execute(\n",
    "    select(User.name, Address).  # mixing the attributes and full entities\n",
    "    where(User.id == Address.user_id).\n",
    "    order_by(Address.id)\n",
    ").all()\n"
   ]
  },
  {
   "cell_type": "code",
   "execution_count": 77,
   "id": "d8fb88a7-1265-4492-a4c6-c9313e3ff550",
   "metadata": {},
   "outputs": [
    {
     "name": "stdout",
     "output_type": "stream",
     "text": [
      "2021-11-19 10:29:44,635 INFO sqlalchemy.engine.Engine BEGIN (implicit)\n",
      "2021-11-19 10:29:44,636 INFO sqlalchemy.engine.Engine SELECT %(name_1)s || user_account.name AS username \n",
      "FROM user_account ORDER BY user_account.name\n",
      "2021-11-19 10:29:44,637 INFO sqlalchemy.engine.Engine [cached since 75.71s ago] {'name_1': 'Username: '}\n",
      "Username: patrick\n",
      "Username: sandy\n",
      "Username: spongebob\n",
      "2021-11-19 10:29:44,638 INFO sqlalchemy.engine.Engine ROLLBACK\n"
     ]
    }
   ],
   "source": [
    "# selecting from \"labeled\" SQL Expressions : like \"AS ~\"\n",
    "from sqlalchemy import func, cast\n",
    "stmt = (\n",
    "    select(\n",
    "        (\"Username: \" + user_table.c.name).label(\"username\"),\n",
    "    ).order_by(user_table.c.name)\n",
    ")\n",
    "\n",
    "with engine.connect() as conn:\n",
    "    for row in conn.execute(stmt):\n",
    "        print(f\"{row.username}\")  # we can call using labels\n"
   ]
  },
  {
   "cell_type": "code",
   "execution_count": 82,
   "id": "568d8776-3539-49fe-8b5c-11d7037e1100",
   "metadata": {},
   "outputs": [
    {
     "name": "stdout",
     "output_type": "stream",
     "text": [
      "2021-11-19 10:35:11,138 INFO sqlalchemy.engine.Engine BEGIN (implicit)\n",
      "2021-11-19 10:35:11,139 INFO sqlalchemy.engine.Engine SELECT 'some phrase', user_account.name \n",
      "FROM user_account ORDER BY user_account.name\n",
      "2021-11-19 10:35:11,140 INFO sqlalchemy.engine.Engine [cached since 202.9s ago] {}\n",
      "[('some phrase', 'patrick'), ('some phrase', 'sandy'), ('some phrase', 'spongebob')]\n",
      "2021-11-19 10:35:11,141 INFO sqlalchemy.engine.Engine ROLLBACK\n"
     ]
    }
   ],
   "source": [
    "# selecting with textual column Expressions: text() < \"literal_columns()\"\n",
    "from sqlalchemy import text\n",
    "stmt = (\n",
    "    select(\n",
    "        text(\"'some phrase'\"), user_table.c.name\n",
    "    ).order_by(user_table.c.name)\n",
    ")\n",
    "\n",
    "with engine.connect() as conn:\n",
    "    print(conn.execute(stmt).all())\n"
   ]
  },
  {
   "cell_type": "code",
   "execution_count": 83,
   "id": "be68d631-1057-4adf-8c18-b6b2867c06a9",
   "metadata": {},
   "outputs": [
    {
     "name": "stdout",
     "output_type": "stream",
     "text": [
      "2021-11-19 10:38:25,241 INFO sqlalchemy.engine.Engine BEGIN (implicit)\n",
      "2021-11-19 10:38:25,241 INFO sqlalchemy.engine.Engine SELECT 'some phrase' AS p, user_account.name \n",
      "FROM user_account ORDER BY user_account.name\n",
      "2021-11-19 10:38:25,242 INFO sqlalchemy.engine.Engine [generated in 0.00147s] {}\n",
      "some phrase, patrick\n",
      "some phrase, sandy\n",
      "some phrase, spongebob\n",
      "2021-11-19 10:38:25,243 INFO sqlalchemy.engine.Engine ROLLBACK\n"
     ]
    }
   ],
   "source": [
    "from sqlalchemy import literal_column\n",
    "stmt = (\n",
    "    select(\n",
    "        literal_column(\"'some phrase'\").label(\"p\"), user_table.c.name\n",
    "    ).order_by(user_table.c.name)\n",
    ")\n",
    "\n",
    "# p does not contain 'single quotation'\n",
    "with engine.connect() as conn:\n",
    "    for row in conn.execute(stmt):\n",
    "        print(f\"{row.p}, {row.name}\")\n"
   ]
  },
  {
   "cell_type": "markdown",
   "id": "e88155e6-896f-4085-9518-4c0934260797",
   "metadata": {},
   "source": [
    "#### The WHERE clause"
   ]
  },
  {
   "cell_type": "code",
   "execution_count": 90,
   "id": "e724ff00-a466-45e6-8560-64e588a88041",
   "metadata": {},
   "outputs": [
    {
     "name": "stdout",
     "output_type": "stream",
     "text": [
      "user_account.name = :name_1\n",
      "address.user_id > :user_id_1\n",
      "SELECT user_account.id, user_account.name, user_account.fullname \n",
      "FROM user_account \n",
      "WHERE user_account.name = :name_1\n"
     ]
    }
   ],
   "source": [
    "print(user_table.c.name == 'squidward')\n",
    "print(address_table.c.user_id > 10)\n",
    "print(select(user_table).where(user_table.c.name == 'squidward'))\n"
   ]
  },
  {
   "cell_type": "code",
   "execution_count": 91,
   "id": "d687150b-14a6-484c-9b7c-1a8768a9545a",
   "metadata": {},
   "outputs": [
    {
     "name": "stdout",
     "output_type": "stream",
     "text": [
      "SELECT address.email_address \n",
      "FROM address, user_account \n",
      "WHERE user_account.name = :name_1 AND address.user_id = user_account.id\n",
      "SELECT address.email_address \n",
      "FROM address, user_account \n",
      "WHERE user_account.name = :name_1 AND address.user_id = user_account.id\n"
     ]
    }
   ],
   "source": [
    "# two results are the same\n",
    "print(\n",
    "    select(address_table.c.email_address).\n",
    "    where(user_table.c.name == 'squidward').\n",
    "    where(address_table.c.user_id == user_table.c.id)\n",
    ")\n",
    "\n",
    "print(\n",
    "    select(address_table.c.email_address).\n",
    "    where(\n",
    "        user_table.c.name == 'squidward',\n",
    "        address_table.c.user_id == user_table.c.id\n",
    "    )\n",
    ")\n"
   ]
  },
  {
   "cell_type": "code",
   "execution_count": 93,
   "id": "2408de9e-5c22-4250-9518-d0dea8785771",
   "metadata": {},
   "outputs": [
    {
     "name": "stdout",
     "output_type": "stream",
     "text": [
      "SELECT address.email_address \n",
      "FROM address, user_account \n",
      "WHERE (user_account.name = :name_1 OR user_account.name = :name_2) AND address.user_id = user_account.id\n"
     ]
    }
   ],
   "source": [
    "# and_(), or_()\n",
    "from sqlalchemy import and_, or_\n",
    "print(\n",
    "    select(Address.email_address).\n",
    "    where(\n",
    "        and_(\n",
    "            or_(User.name == 'squidward', User.name == 'sandy'),\n",
    "            Address.user_id == User.id\n",
    "        )\n",
    "    )\n",
    ")\n"
   ]
  },
  {
   "cell_type": "code",
   "execution_count": 94,
   "id": "086431fd-5235-484f-b8ed-3d7bdea54e1f",
   "metadata": {},
   "outputs": [
    {
     "name": "stdout",
     "output_type": "stream",
     "text": [
      "SELECT user_account.id, user_account.name, user_account.fullname \n",
      "FROM user_account \n",
      "WHERE user_account.name = :name_1 AND user_account.fullname = :fullname_1\n"
     ]
    }
   ],
   "source": [
    "# for \"equality(=)\" comparisions, filter_by()\n",
    "print(\n",
    "    select(User).filter_by(name='spongebob', fullname='spongbob Squarepants')\n",
    ")\n"
   ]
  },
  {
   "cell_type": "markdown",
   "id": "6d260a6a-610c-495d-8395-72e404f4e72a",
   "metadata": {},
   "source": [
    "#### Explicit FROM clauses and JOINs"
   ]
  },
  {
   "cell_type": "code",
   "execution_count": 100,
   "id": "76cec692-affb-4990-b0df-0a6dcef6a915",
   "metadata": {},
   "outputs": [
    {
     "name": "stdout",
     "output_type": "stream",
     "text": [
      "SELECT user_account.name, address.email_address \n",
      "FROM user_account JOIN address ON user_account.id = address.user_id\n",
      "SELECT user_account.name, address.email_address \n",
      "FROM user_account JOIN address ON user_account.id = address.user_id\n",
      "SELECT address.email_address \n",
      "FROM user_account JOIN address ON user_account.id = address.user_id\n",
      "SELECT address.email_address \n",
      "FROM user_account JOIN address ON user_account.id = address.user_id\n"
     ]
    }
   ],
   "source": [
    "# 4 results are the same\n",
    "\n",
    "# join_from(left side table, right side table)\n",
    "print(\n",
    "    select(user_table.c.name, address_table.c.email_address).\n",
    "    join_from(user_table, address_table)\n",
    ")\n",
    "\n",
    "# join(right side table)\n",
    "print(\n",
    "    select(user_table.c.name, address_table.c.email_address).\n",
    "    join(address_table)\n",
    ")\n",
    "\n",
    "# select_from(left side table).join(right side table)\n",
    "print(\n",
    "    select(address_table.c.email_address).\n",
    "    select_from(user_table).join(address_table)\n",
    ")\n",
    "\n",
    "# setting the ON Clause : If the two tables do not have a foreignKeyConstraint, we need to use \"ON\"\n",
    "print(\n",
    "    select(address_table.c.email_address).\n",
    "    select_from(user_table).\n",
    "    join(address_table, user_table.c.id == address_table.c.user_id)\n",
    ")\n"
   ]
  },
  {
   "cell_type": "code",
   "execution_count": 98,
   "id": "0b6669c3-f0b4-4c4c-9647-a32aa37d5dcd",
   "metadata": {},
   "outputs": [
    {
     "name": "stdout",
     "output_type": "stream",
     "text": [
      "SELECT count(:count_2) AS count_1 \n",
      "FROM user_account\n"
     ]
    }
   ],
   "source": [
    "# when you select only function result, use \"select from\"\n",
    "from sqlalchemy import func\n",
    "print(\n",
    "    select(func.count('*')).select_from(user_table)\n",
    ")\n"
   ]
  },
  {
   "cell_type": "code",
   "execution_count": 102,
   "id": "bdaddf4b-74e6-4697-834a-d89c934c6965",
   "metadata": {},
   "outputs": [
    {
     "name": "stdout",
     "output_type": "stream",
     "text": [
      "SELECT user_account.id, user_account.name, user_account.fullname \n",
      "FROM user_account LEFT OUTER JOIN address ON user_account.id = address.user_id\n",
      "SELECT user_account.id, user_account.name, user_account.fullname \n",
      "FROM user_account FULL OUTER JOIN address ON user_account.id = address.user_id\n"
     ]
    }
   ],
   "source": [
    "# OUTER(isouter=) and FULL(full=) join\n",
    "print(\n",
    "    select(user_table).join(address_table, isouter=True)  # LEFT OUTER JOIN\n",
    ")\n",
    "\n",
    "print(\n",
    "    select(user_table).join(address_table, full=True)  # FULL OUTER JOIN\n",
    ")\n"
   ]
  },
  {
   "cell_type": "markdown",
   "id": "a5d82855-c3df-4063-9c4e-1869327ea14c",
   "metadata": {},
   "source": [
    "#### ORDER BY, GROUP BY, HAVING"
   ]
  },
  {
   "cell_type": "code",
   "execution_count": 105,
   "id": "3f384c25-36e6-460a-99f8-1f057cc8ccc9",
   "metadata": {},
   "outputs": [
    {
     "name": "stdout",
     "output_type": "stream",
     "text": [
      "SELECT user_account.id, user_account.name, user_account.fullname \n",
      "FROM user_account ORDER BY user_account.name\n",
      "SELECT user_account.id, user_account.name, user_account.fullname \n",
      "FROM user_account ORDER BY user_account.fullname DESC\n"
     ]
    }
   ],
   "source": [
    "# order_by() \n",
    "print(select(user_table).order_by(user_table.c.name))\n",
    "\n",
    "print(select(User).order_by(User.fullname.desc()))\n"
   ]
  },
  {
   "cell_type": "code",
   "execution_count": 106,
   "id": "da24583f-e969-408e-93ac-3ff853329e6f",
   "metadata": {},
   "outputs": [
    {
     "name": "stdout",
     "output_type": "stream",
     "text": [
      "count(user_account.id)\n"
     ]
    }
   ],
   "source": [
    "# Aggregate functions with GROUP BY/ HAVING\n",
    "count_fn = func.count(user_table.c.id)\n",
    "print(count_fn)"
   ]
  },
  {
   "cell_type": "code",
   "execution_count": 108,
   "id": "cc219cfb-2098-4887-bb90-3add4375e608",
   "metadata": {},
   "outputs": [
    {
     "name": "stdout",
     "output_type": "stream",
     "text": [
      "2021-11-19 14:22:36,665 INFO sqlalchemy.engine.Engine BEGIN (implicit)\n",
      "2021-11-19 14:22:36,665 INFO sqlalchemy.engine.Engine SELECT user_account.name, count(address.id) AS count \n",
      "FROM user_account JOIN address ON user_account.id = address.user_id GROUP BY user_account.name \n",
      "HAVING count(address.id) > %(count_1)s\n",
      "2021-11-19 14:22:36,665 INFO sqlalchemy.engine.Engine [cached since 19.99s ago] {'count_1': 1}\n",
      "2021-11-19 14:22:36,682 INFO sqlalchemy.engine.Engine ROLLBACK\n",
      "[('sandy', 2)]\n"
     ]
    }
   ],
   "source": [
    "with engine.connect() as conn:\n",
    "    result = conn.execute(\n",
    "        select(User.name, func.count(Address.id).label(\"count\")).\n",
    "        join(Address).\n",
    "        group_by(User.name).\n",
    "        having(func.count(Address.id) > 1)\n",
    "    )\n",
    "\n",
    "print(result.all())\n"
   ]
  },
  {
   "cell_type": "code",
   "execution_count": 116,
   "id": "69b7979f-71d3-4af2-b130-a753dd46d64c",
   "metadata": {},
   "outputs": [
    {
     "name": "stdout",
     "output_type": "stream",
     "text": [
      "SELECT address.user_id, count(address.id) AS num_addresses \n",
      "FROM address GROUP BY address.user_id ORDER BY address.user_id, num_addresses DESC\n"
     ]
    }
   ],
   "source": [
    "from sqlalchemy import func, desc\n",
    "# not 'desc(func.count(Address.id))'\n",
    "stmt = select(\n",
    "    Address.user_id,\n",
    "    func.count(Address.id).label('num_addresses')).\\\n",
    "    group_by(\"user_id\").order_by(\"user_id\", desc(\"num_addresses\"))\n",
    "print(stmt)\n"
   ]
  },
  {
   "cell_type": "markdown",
   "id": "0635fab0-0047-4688-b721-0df15aa43938",
   "metadata": {},
   "source": [
    "#### Using Aliases"
   ]
  },
  {
   "cell_type": "code",
   "execution_count": 117,
   "id": "2306bcef-3b02-4879-8765-f891a671d679",
   "metadata": {},
   "outputs": [
    {
     "name": "stdout",
     "output_type": "stream",
     "text": [
      "SELECT table1.name, table2.name AS name_1 \n",
      "FROM user_account AS table1 JOIN user_account AS table2 ON table1.id > table2.id\n"
     ]
    }
   ],
   "source": [
    "user_alias_1 = user_table.alias('table1')\n",
    "user_alias_2 = user_table.alias('table2')\n",
    "\n",
    "print(\n",
    "    select(user_alias_1.c.name, user_alias_2.c.name).\n",
    "    join_from(user_alias_1, user_alias_2,\n",
    "              user_alias_1.c.id > user_alias_2.c.id)\n",
    ")\n"
   ]
  },
  {
   "cell_type": "code",
   "execution_count": 118,
   "id": "68a50284-e385-4bd5-aefd-dac56118fc89",
   "metadata": {},
   "outputs": [
    {
     "name": "stdout",
     "output_type": "stream",
     "text": [
      "SELECT user_account.id, user_account.name, user_account.fullname \n",
      "FROM user_account JOIN address AS address_1 ON user_account.id = address_1.user_id JOIN address AS address_2 ON user_account.id = address_2.user_id \n",
      "WHERE address_1.email_address = :email_address_1 AND address_2.email_address = :email_address_2\n"
     ]
    }
   ],
   "source": [
    "# ORM Entity Aliases: aliased()\n",
    "from sqlalchemy.orm import aliased\n",
    "address_alias_1 = aliased(Address)\n",
    "address_alias_2 = aliased(Address)\n",
    "print(\n",
    "    select(User).\n",
    "    join_from(User, address_alias_1).\n",
    "    where(address_alias_1.email_address == 'patrick@aol.com').\n",
    "    join_from(User, address_alias_2).\n",
    "    where(address_alias_2.email_address == 'patrick@gmail.com')\n",
    ")\n"
   ]
  },
  {
   "cell_type": "markdown",
   "id": "2c6af946-7bc5-43da-b6e6-2d362f223b9a",
   "metadata": {},
   "source": [
    "#### Subqueries and CTEs (Common Table Expression)"
   ]
  },
  {
   "cell_type": "code",
   "execution_count": 122,
   "id": "92995439-b0c0-43d4-9a5c-975ec547a8af",
   "metadata": {},
   "outputs": [
    {
     "name": "stdout",
     "output_type": "stream",
     "text": [
      "SELECT count(address.id) AS count, address.user_id \n",
      "FROM address GROUP BY address.user_id\n",
      "SELECT count(address.id) AS count, address.user_id \n",
      "FROM address GROUP BY address.user_id\n"
     ]
    }
   ],
   "source": [
    "subq = select(\n",
    "    func.count(address_table.c.id).label(\"count\"),\n",
    "    address_table.c.user_id\n",
    ").group_by(address_table.c.user_id)\n",
    "\n",
    "# Two results are the same.\n",
    "print(subq)\n",
    "print(subq.subquery())\n"
   ]
  },
  {
   "cell_type": "code",
   "execution_count": 126,
   "id": "aca17f89-6fd6-46ca-985a-aa34db351b62",
   "metadata": {},
   "outputs": [
    {
     "name": "stdout",
     "output_type": "stream",
     "text": [
      "SELECT anon_1.user_id, anon_1.count \n",
      "FROM (SELECT count(address.id) AS count, address.user_id AS user_id \n",
      "FROM address GROUP BY address.user_id) AS anon_1\n"
     ]
    }
   ],
   "source": [
    "# Question : Why Should we use 'subquery()'?\n",
    "subq = select(\n",
    "    func.count(address_table.c.id).label(\"count\"),\n",
    "    address_table.c.user_id\n",
    ").group_by(address_table.c.user_id).subquery()\n",
    "print(select(subq.c.user_id, subq.c.count))\n",
    "\n",
    "# Answer : We can get the result but we alse get 'SADeprecationWarning'.\n",
    "# When we use subquery in select function, we should use 'subquery()'\n"
   ]
  },
  {
   "cell_type": "code",
   "execution_count": 127,
   "id": "42594a10-f5d1-457e-a9db-c903c236bcd6",
   "metadata": {},
   "outputs": [
    {
     "name": "stdout",
     "output_type": "stream",
     "text": [
      "SELECT user_account.name, user_account.fullname, anon_1.count \n",
      "FROM user_account JOIN (SELECT count(address.id) AS count, address.user_id AS user_id \n",
      "FROM address GROUP BY address.user_id) AS anon_1 ON user_account.id = anon_1.user_id\n"
     ]
    }
   ],
   "source": [
    "stmt = select(\n",
    "    user_table.c.name,\n",
    "    user_table.c.fullname,\n",
    "    subq.c.count\n",
    ").join_from(user_table, subq)\n",
    "\n",
    "print(stmt)"
   ]
  },
  {
   "cell_type": "code",
   "execution_count": 130,
   "id": "b6e931b9-64e4-492c-bc9f-34abba1cd930",
   "metadata": {},
   "outputs": [
    {
     "name": "stdout",
     "output_type": "stream",
     "text": [
      "WITH anon_1 AS \n",
      "(SELECT count(address.id) AS count, address.user_id AS user_id \n",
      "FROM address GROUP BY address.user_id)\n",
      " SELECT user_account.name, user_account.fullname, anon_1.count \n",
      "FROM user_account JOIN anon_1 ON user_account.id = anon_1.user_id\n"
     ]
    }
   ],
   "source": [
    "# CTEs : like \"WITH\" clause. we can use it a \"recursive\" style.\n",
    "subq = select(\n",
    "    func.count(address_table.c.id).label(\"count\"),\n",
    "    address_table.c.user_id\n",
    ").group_by(address_table.c.user_id).cte()\n",
    "\n",
    "stmt = select(\n",
    "    user_table.c.name,\n",
    "    user_table.c.fullname,\n",
    "    subq.c.count\n",
    ").join_from(user_table, subq)\n",
    "\n",
    "print(stmt)\n"
   ]
  },
  {
   "cell_type": "code",
   "execution_count": 154,
   "id": "8f219a5c-42a0-46d3-a557-423154c1df43",
   "metadata": {},
   "outputs": [
    {
     "name": "stdout",
     "output_type": "stream",
     "text": [
      "SELECT address.id, address.email_address, address.user_id \n",
      "FROM address \n",
      "WHERE address.email_address NOT LIKE :email_address_1\n",
      "2021-11-19 16:14:28,075 INFO sqlalchemy.engine.Engine BEGIN (implicit)\n",
      "2021-11-19 16:14:28,075 INFO sqlalchemy.engine.Engine SELECT user_account.id, user_account.name, user_account.fullname, anon_1.id AS id_1, anon_1.email_address, anon_1.user_id \n",
      "FROM user_account JOIN (SELECT address.id AS id, address.email_address AS email_address, address.user_id AS user_id \n",
      "FROM address \n",
      "WHERE address.email_address NOT LIKE %(email_address_1)s) AS anon_1 ON user_account.id = anon_1.user_id ORDER BY user_account.id, anon_1.id\n",
      "2021-11-19 16:14:28,075 INFO sqlalchemy.engine.Engine [cached since 1487s ago] {'email_address_1': '%@aol.com'}\n",
      "User(id=1, name='spongebob', fullname='Spongebob Squarepants') Address(id=1, email_address='spongebob@sqlalchemy.org')\n",
      "User(id=2, name='sandy', fullname='Sandy Cheeks') Address(id=2, email_address='sandy@sqlalchemy.org')\n",
      "User(id=2, name='sandy', fullname='Sandy Cheeks') Address(id=3, email_address='sandy@squirrelpower.org')\n",
      "2021-11-19 16:14:28,075 INFO sqlalchemy.engine.Engine ROLLBACK\n",
      "2021-11-19 16:14:28,075 INFO sqlalchemy.engine.Engine BEGIN (implicit)\n",
      "2021-11-19 16:14:28,091 INFO sqlalchemy.engine.Engine WITH anon_1 AS \n",
      "(SELECT address.id AS id, address.email_address AS email_address, address.user_id AS user_id \n",
      "FROM address \n",
      "WHERE address.email_address NOT LIKE %(email_address_1)s)\n",
      " SELECT user_account.id, user_account.name, user_account.fullname, anon_1.id AS id_1, anon_1.email_address, anon_1.user_id \n",
      "FROM user_account JOIN anon_1 ON user_account.id = anon_1.user_id ORDER BY user_account.id, anon_1.id\n",
      "2021-11-19 16:14:28,091 INFO sqlalchemy.engine.Engine [cached since 142.7s ago] {'email_address_1': '%@aol.com'}\n",
      "User(id=1, name='spongebob', fullname='Spongebob Squarepants') Address(id=1, email_address='spongebob@sqlalchemy.org')\n",
      "User(id=2, name='sandy', fullname='Sandy Cheeks') Address(id=2, email_address='sandy@sqlalchemy.org')\n",
      "User(id=2, name='sandy', fullname='Sandy Cheeks') Address(id=3, email_address='sandy@squirrelpower.org')\n",
      "2021-11-19 16:14:28,091 INFO sqlalchemy.engine.Engine ROLLBACK\n"
     ]
    }
   ],
   "source": [
    "# two results are the same.\n",
    "# using subquery\n",
    "subq = select(Address).where(~Address.email_address.like('%@aol.com'))\\\n",
    "    .subquery()  # NOT LIKE\n",
    "print(subq)\n",
    "\n",
    "address_subq = aliased(Address, alias=subq)  # Address object is linked to subq\n",
    "stmt = select(User, address_subq).join_from(User, address_subq)\\\n",
    "    .order_by(User.id, address_subq.id)\n",
    "with Session(engine) as session:\n",
    "    for user, address in session.execute(stmt):\n",
    "        print(f\"{user} {address}\")\n",
    "\n",
    "# using cte\n",
    "cte_obj = select(Address).where(~Address.email_address.like('%@aol.com'))\\\n",
    "    .cte()\n",
    "address_cte = aliased(Address, cte_obj)\n",
    "stmt = select(User, address_cte).join_from(User, address_cte)\\\n",
    "    .order_by(User.id, address_cte.id)\n",
    "with Session(engine) as session:\n",
    "    for user, address in session.execute(stmt):\n",
    "        print(f\"{user} {address}\")\n"
   ]
  },
  {
   "cell_type": "markdown",
   "id": "2c997930-7557-48a4-9563-bf426182fd07",
   "metadata": {},
   "source": [
    "#### Scalar and Correlated Subqueries"
   ]
  },
  {
   "cell_type": "code",
   "execution_count": 157,
   "id": "6ba179d8-d73f-401a-b147-8673cd06105a",
   "metadata": {},
   "outputs": [
    {
     "name": "stdout",
     "output_type": "stream",
     "text": [
      "SELECT count(address.id) AS count_1 \n",
      "FROM address, user_account \n",
      "WHERE user_account.id = address.user_id\n",
      "(SELECT count(address.id) AS count_1 \n",
      "FROM address, user_account \n",
      "WHERE user_account.id = address.user_id)\n"
     ]
    }
   ],
   "source": [
    "subq = select(func.count(address_table.c.id))\\\n",
    "    .where(user_table.c.id == address_table.c.user_id)\n",
    "print(subq)\n",
    "\n",
    "print(subq.scalar_subquery())  # contains '(',')'\n"
   ]
  },
  {
   "cell_type": "code",
   "execution_count": 167,
   "id": "0722f01b-7e2a-46db-972b-3be5a7508aa6",
   "metadata": {},
   "outputs": [
    {
     "name": "stdout",
     "output_type": "stream",
     "text": [
      "(SELECT count(address.id) AS count_1 \n",
      "FROM address, user_account \n",
      "WHERE user_account.id = address.user_id) = :param_1\n"
     ]
    }
   ],
   "source": [
    "subq = select(func.count(address_table.c.id))\\\n",
    "    .where(user_table.c.id == address_table.c.user_id).scalar_subquery()\n",
    "print(subq == 5)\n"
   ]
  },
  {
   "cell_type": "code",
   "execution_count": 168,
   "id": "59afb24a-255c-4722-907f-53e6dc2dc42b",
   "metadata": {},
   "outputs": [
    {
     "name": "stdout",
     "output_type": "stream",
     "text": [
      "SELECT user_account.name, (SELECT count(address.id) AS count_1 \n",
      "FROM address \n",
      "WHERE user_account.id = address.user_id) AS address_count \n",
      "FROM user_account\n"
     ]
    }
   ],
   "source": [
    "stmt = select(user_table.c.name, subq.label(\"address_count\"))\n",
    "print(stmt)\n"
   ]
  },
  {
   "cell_type": "code",
   "execution_count": 181,
   "id": "807ed358-64cf-4672-aa58-058bbb37bd03",
   "metadata": {},
   "outputs": [
    {
     "name": "stdout",
     "output_type": "stream",
     "text": [
      "(SELECT count(address.id) AS count_1 \n",
      "FROM address, user_account \n",
      "WHERE user_account.id = address.user_id)\n"
     ]
    }
   ],
   "source": [
    "# correlate() : When we write correlated subqueries, specify \"main table\"\n",
    "subq = select(func.count(address_table.c.id)).\\\n",
    "    where(user_table.c.id == address_table.c.user_id).\\\n",
    "    scalar_subquery().correlate(user_table)\n",
    "\n",
    "print(subq)\n"
   ]
  },
  {
   "cell_type": "code",
   "execution_count": 182,
   "id": "12d6246f-9177-4907-b6a7-f655ec1b0ecd",
   "metadata": {},
   "outputs": [
    {
     "name": "stdout",
     "output_type": "stream",
     "text": [
      "2021-11-19 16:51:39,954 INFO sqlalchemy.engine.Engine BEGIN (implicit)\n",
      "2021-11-19 16:51:39,955 INFO sqlalchemy.engine.Engine SELECT user_account.name, address.email_address, (SELECT count(address.id) AS count_1 \n",
      "FROM address \n",
      "WHERE user_account.id = address.user_id) AS address_count \n",
      "FROM user_account JOIN address ON user_account.id = address.user_id ORDER BY user_account.id, address.id\n",
      "2021-11-19 16:51:39,956 INFO sqlalchemy.engine.Engine [cached since 974s ago] {}\n",
      "[('spongebob', 'spongebob@sqlalchemy.org', 1), ('sandy', 'sandy@sqlalchemy.org', 2), ('sandy', 'sandy@squirrelpower.org', 2)]\n",
      "2021-11-19 16:51:39,957 INFO sqlalchemy.engine.Engine ROLLBACK\n"
     ]
    }
   ],
   "source": [
    "with engine.connect() as conn:\n",
    "    result = conn.execute(\n",
    "        select(\n",
    "            user_table.c.name,\n",
    "            address_table.c.email_address,\n",
    "            subq.label(\"address_count\")\n",
    "        ).\n",
    "        join_from(user_table, address_table).\n",
    "        order_by(user_table.c.id, address_table.c.id)\n",
    "    )\n",
    "    print(result.all())\n"
   ]
  },
  {
   "cell_type": "markdown",
   "id": "2e2a4064-50e2-4525-82c6-945194d99aa9",
   "metadata": {},
   "source": [
    "#### UNION, UNION ALL and other set operations"
   ]
  },
  {
   "cell_type": "code",
   "execution_count": 185,
   "id": "8acbe261-d14d-4cec-b0e5-b0d4574c9302",
   "metadata": {},
   "outputs": [
    {
     "name": "stdout",
     "output_type": "stream",
     "text": [
      "2021-11-19 16:58:03,912 INFO sqlalchemy.engine.Engine BEGIN (implicit)\n",
      "2021-11-19 16:58:03,913 INFO sqlalchemy.engine.Engine SELECT user_account.id, user_account.name, user_account.fullname \n",
      "FROM user_account \n",
      "WHERE user_account.name = %(name_1)s UNION ALL SELECT user_account.id, user_account.name, user_account.fullname \n",
      "FROM user_account \n",
      "WHERE user_account.name = %(name_2)s\n",
      "2021-11-19 16:58:03,913 INFO sqlalchemy.engine.Engine [cached since 235.7s ago] {'name_1': 'sandy', 'name_2': 'spongebob'}\n",
      "[(2, 'sandy', 'Sandy Cheeks'), (1, 'spongebob', 'Spongebob Squarepants')]\n",
      "2021-11-19 16:58:03,914 INFO sqlalchemy.engine.Engine ROLLBACK\n"
     ]
    }
   ],
   "source": [
    "from sqlalchemy import union_all\n",
    "stmt1 = select(user_table).where(user_table.c.name == 'sandy')\n",
    "stmt2 = select(user_table).where(user_table.c.name == 'spongebob')\n",
    "u = union_all(stmt1, stmt2)  # u is 'CompoundSelect' type.\n",
    "with engine.connect() as conn:\n",
    "    result = conn.execute(u)\n",
    "    print(result.all())\n"
   ]
  },
  {
   "cell_type": "code",
   "execution_count": 186,
   "id": "ac3ac0da-41ee-4fde-b93c-495f10263add",
   "metadata": {},
   "outputs": [
    {
     "name": "stdout",
     "output_type": "stream",
     "text": [
      "2021-11-19 16:59:05,511 INFO sqlalchemy.engine.Engine BEGIN (implicit)\n",
      "2021-11-19 16:59:05,512 INFO sqlalchemy.engine.Engine SELECT anon_1.name, address.email_address \n",
      "FROM address JOIN (SELECT user_account.id AS id, user_account.name AS name, user_account.fullname AS fullname \n",
      "FROM user_account \n",
      "WHERE user_account.name = %(name_1)s UNION ALL SELECT user_account.id AS id, user_account.name AS name, user_account.fullname AS fullname \n",
      "FROM user_account \n",
      "WHERE user_account.name = %(name_2)s) AS anon_1 ON anon_1.id = address.user_id ORDER BY anon_1.name, address.email_address\n",
      "2021-11-19 16:59:05,513 INFO sqlalchemy.engine.Engine [cached since 179.3s ago] {'name_1': 'sandy', 'name_2': 'spongebob'}\n",
      "[('sandy', 'sandy@sqlalchemy.org'), ('sandy', 'sandy@squirrelpower.org'), ('spongebob', 'spongebob@sqlalchemy.org')]\n",
      "2021-11-19 16:59:05,514 INFO sqlalchemy.engine.Engine ROLLBACK\n"
     ]
    }
   ],
   "source": [
    "u_subq = u.subquery()\n",
    "stmt = (\n",
    "    select(u_subq.c.name, address_table.c.email_address).\n",
    "    join_from(address_table, u_subq).\n",
    "    order_by(u_subq.c.name, address_table.c.email_address)\n",
    ")\n",
    "with engine.connect() as conn:\n",
    "    result = conn.execute(stmt)\n",
    "    print(result.all())\n"
   ]
  },
  {
   "cell_type": "code",
   "execution_count": 192,
   "id": "35b67cca-121b-4748-8a18-ddf0a36065ee",
   "metadata": {},
   "outputs": [
    {
     "name": "stdout",
     "output_type": "stream",
     "text": [
      "SELECT user_account.id, user_account.name, user_account.fullname \n",
      "FROM user_account \n",
      "WHERE user_account.name = :name_1 UNION ALL SELECT user_account.id, user_account.name, user_account.fullname \n",
      "FROM user_account \n",
      "WHERE user_account.name = :name_2\n",
      "2021-11-19 17:20:19,227 INFO sqlalchemy.engine.Engine BEGIN (implicit)\n",
      "2021-11-19 17:20:19,229 INFO sqlalchemy.engine.Engine SELECT user_account.id, user_account.name, user_account.fullname \n",
      "FROM user_account \n",
      "WHERE user_account.name = %(name_1)s UNION ALL SELECT user_account.id, user_account.name, user_account.fullname \n",
      "FROM user_account \n",
      "WHERE user_account.name = %(name_2)s\n",
      "2021-11-19 17:20:19,230 INFO sqlalchemy.engine.Engine [cached since 366.1s ago] {'name_1': 'sandy', 'name_2': 'spongebob'}\n",
      "User(id=2, name='sandy', fullname='Sandy Cheeks')\n",
      "User(id=1, name='spongebob', fullname='Spongebob Squarepants')\n",
      "2021-11-19 17:20:19,231 INFO sqlalchemy.engine.Engine ROLLBACK\n",
      "2021-11-19 17:20:19,232 INFO sqlalchemy.engine.Engine BEGIN (implicit)\n",
      "2021-11-19 17:20:19,232 INFO sqlalchemy.engine.Engine SELECT user_account.id, user_account.name, user_account.fullname \n",
      "FROM user_account \n",
      "WHERE user_account.name = %(name_1)s UNION ALL SELECT user_account.id, user_account.name, user_account.fullname \n",
      "FROM user_account \n",
      "WHERE user_account.name = %(name_2)s\n",
      "2021-11-19 17:20:19,233 INFO sqlalchemy.engine.Engine [cached since 254.3s ago] {'name_1': 'sandy', 'name_2': 'spongebob'}\n",
      "[(2, 'sandy', 'Sandy Cheeks'), (1, 'spongebob', 'Spongebob Squarepants')]\n",
      "2021-11-19 17:20:19,234 INFO sqlalchemy.engine.Engine ROLLBACK\n"
     ]
    }
   ],
   "source": [
    "# selecting \"ORM\" Entities from Unions\n",
    "stmt1 = select(User).where(User.name == 'sandy')\n",
    "stmt2 = select(User).where(User.name == 'spongebob')\n",
    "u = union_all(stmt1, stmt2)\n",
    "\n",
    "print(u)\n",
    "\n",
    "# Two results are similar, but the formats are different.\n",
    "# User(id=2, name='sandy', fullname='Sandy Cheeks')\n",
    "# User(id=1, name='spongebob', fullname='Spongebob Squarepants')\n",
    "orm_stmt = select(User).from_statement(u)\n",
    "with Session(engine) as session:\n",
    "    for obj in session.execute(orm_stmt).scalars():\n",
    "        print(obj)\n",
    "\n",
    "# [(2, 'sandy', 'Sandy Cheeks'), (1, 'spongebob', 'Spongebob Squarepants')]\n",
    "with Session(engine) as session:\n",
    "    result = session.execute(u)\n",
    "    print(result.all())\n"
   ]
  },
  {
   "cell_type": "code",
   "execution_count": 196,
   "id": "74732c10-84d0-4770-bd47-6dc45772c226",
   "metadata": {},
   "outputs": [
    {
     "name": "stdout",
     "output_type": "stream",
     "text": [
      "2021-11-19 17:29:30,445 INFO sqlalchemy.engine.Engine BEGIN (implicit)\n",
      "2021-11-19 17:29:30,446 INFO sqlalchemy.engine.Engine SELECT anon_1.id, anon_1.name, anon_1.fullname \n",
      "FROM (SELECT user_account.id AS id, user_account.name AS name, user_account.fullname AS fullname \n",
      "FROM user_account \n",
      "WHERE user_account.name = %(name_1)s UNION ALL SELECT user_account.id AS id, user_account.name AS name, user_account.fullname AS fullname \n",
      "FROM user_account \n",
      "WHERE user_account.name = %(name_2)s) AS anon_1 ORDER BY anon_1.id\n",
      "2021-11-19 17:29:30,447 INFO sqlalchemy.engine.Engine [cached since 274.7s ago] {'name_1': 'sandy', 'name_2': 'spongebob'}\n",
      "User(id=1, name='spongebob', fullname='Spongebob Squarepants')\n",
      "User(id=2, name='sandy', fullname='Sandy Cheeks')\n",
      "2021-11-19 17:29:30,449 INFO sqlalchemy.engine.Engine ROLLBACK\n",
      "2021-11-19 17:29:30,450 INFO sqlalchemy.engine.Engine BEGIN (implicit)\n",
      "2021-11-19 17:29:30,450 INFO sqlalchemy.engine.Engine SELECT anon_1.id, anon_1.name, anon_1.fullname \n",
      "FROM (SELECT user_account.id AS id, user_account.name AS name, user_account.fullname AS fullname \n",
      "FROM user_account \n",
      "WHERE user_account.name = %(name_1)s UNION ALL SELECT user_account.id AS id, user_account.name AS name, user_account.fullname AS fullname \n",
      "FROM user_account \n",
      "WHERE user_account.name = %(name_2)s) AS anon_1 ORDER BY anon_1.id\n",
      "2021-11-19 17:29:30,451 INFO sqlalchemy.engine.Engine [cached since 274.7s ago] {'name_1': 'sandy', 'name_2': 'spongebob'}\n",
      "(User(id=1, name='spongebob', fullname='Spongebob Squarepants'),)\n",
      "(User(id=2, name='sandy', fullname='Sandy Cheeks'),)\n",
      "2021-11-19 17:29:30,452 INFO sqlalchemy.engine.Engine ROLLBACK\n",
      "2021-11-19 17:29:30,453 INFO sqlalchemy.engine.Engine BEGIN (implicit)\n",
      "2021-11-19 17:29:30,454 INFO sqlalchemy.engine.Engine SELECT anon_1.id, anon_1.name, anon_1.fullname \n",
      "FROM (SELECT user_account.id AS id, user_account.name AS name, user_account.fullname AS fullname \n",
      "FROM user_account \n",
      "WHERE user_account.name = %(name_1)s UNION ALL SELECT user_account.id AS id, user_account.name AS name, user_account.fullname AS fullname \n",
      "FROM user_account \n",
      "WHERE user_account.name = %(name_2)s) AS anon_1 ORDER BY anon_1.id\n",
      "2021-11-19 17:29:30,454 INFO sqlalchemy.engine.Engine [cached since 274.7s ago] {'name_1': 'sandy', 'name_2': 'spongebob'}\n",
      "<sqlalchemy.engine.result.ChunkedIteratorResult object at 0x000001CBB91EB1C0>\n",
      "2021-11-19 17:29:30,455 INFO sqlalchemy.engine.Engine ROLLBACK\n"
     ]
    }
   ],
   "source": [
    "user_alias = aliased(User, u.subquery())\n",
    "orm_stmt = select(user_alias).order_by(user_alias.id)\n",
    "\n",
    "# three results are different each other.\n",
    "with Session(engine) as session:\n",
    "    for obj in session.execute(orm_stmt).scalars():\n",
    "        print(obj)\n",
    "# User(id=1, name='spongebob', fullname='Spongebob Squarepants')\n",
    "# User(id=2, name='sandy', fullname='Sandy Cheeks')\n",
    "\n",
    "# Question : if we omit 'scalars()', what happened? not separate element.\n",
    "with Session(engine) as session:\n",
    "    for obj in session.execute(orm_stmt):\n",
    "        print(obj)\n",
    "# (User(id=1, name='spongebob', fullname='Spongebob Squarepants'),)\n",
    "# (User(id=2, name='sandy', fullname='Sandy Cheeks'),)\n",
    "\n",
    "with Session(engine) as session:\n",
    "    print(session.execute(orm_stmt))\n",
    "# <sqlalchemy.engine.result.ChunkedIteratorResult object at 0x000001CBB91EB760>\n"
   ]
  },
  {
   "cell_type": "markdown",
   "id": "a2ad8b00-fc84-4ac7-b362-0924573da045",
   "metadata": {},
   "source": [
    "#### EXISTS subqueries"
   ]
  },
  {
   "cell_type": "code",
   "execution_count": 9,
   "id": "a0c3d16d-49d7-417a-af47-7b890470969f",
   "metadata": {},
   "outputs": [
    {
     "name": "stdout",
     "output_type": "stream",
     "text": [
      "EXISTS (SELECT count(address.id) AS count_1 \n",
      "FROM address, user_account \n",
      "WHERE user_account.id = address.user_id GROUP BY address.user_id \n",
      "HAVING count(address.id) > :count_2)\n",
      "2021-11-22 08:10:42,589 INFO sqlalchemy.engine.Engine BEGIN (implicit)\n",
      "2021-11-22 08:10:42,590 INFO sqlalchemy.engine.Engine SELECT user_account.name \n",
      "FROM user_account \n",
      "WHERE EXISTS (SELECT count(address.id) AS count_1 \n",
      "FROM address \n",
      "WHERE user_account.id = address.user_id GROUP BY address.user_id \n",
      "HAVING count(address.id) > %(count_2)s)\n",
      "2021-11-22 08:10:42,591 INFO sqlalchemy.engine.Engine [generated in 0.00132s] {'count_2': 1}\n",
      "[('sandy',)]\n",
      "2021-11-22 08:10:42,617 INFO sqlalchemy.engine.Engine ROLLBACK\n"
     ]
    }
   ],
   "source": [
    "# subq is 'EXISTS' object\n",
    "from sqlalchemy import select, func\n",
    "\n",
    "subq = (\n",
    "    select(func.count(address_table.c.id)).\n",
    "    where(user_table.c.id == address_table.c.user_id).\n",
    "    group_by(address_table.c.user_id).\n",
    "    having(func.count(address_table.c.id) > 1)\n",
    ").exists()\n",
    "\n",
    "print(subq)\n",
    "\n",
    "with engine.connect() as conn:\n",
    "    result = conn.execute(\n",
    "        select(user_table.c.name).where(subq)\n",
    "    )\n",
    "    print(result.all())"
   ]
  },
  {
   "cell_type": "code",
   "execution_count": 10,
   "id": "65e88cee-f9c2-45b1-86d4-e3b4dee41b3f",
   "metadata": {},
   "outputs": [
    {
     "name": "stdout",
     "output_type": "stream",
     "text": [
      "2021-11-22 08:18:01,918 INFO sqlalchemy.engine.Engine BEGIN (implicit)\n",
      "2021-11-22 08:18:01,919 INFO sqlalchemy.engine.Engine SELECT user_account.name \n",
      "FROM user_account \n",
      "WHERE NOT (EXISTS (SELECT address.id \n",
      "FROM address \n",
      "WHERE user_account.id = address.user_id))\n",
      "2021-11-22 08:18:01,919 INFO sqlalchemy.engine.Engine [generated in 0.00158s] {}\n",
      "[('patrick',)]\n",
      "2021-11-22 08:18:01,928 INFO sqlalchemy.engine.Engine ROLLBACK\n"
     ]
    }
   ],
   "source": [
    "subq = (\n",
    "    select(address_table.c.id).\n",
    "    where(user_table.c.id == address_table.c.user_id)\n",
    ").exists()\n",
    "\n",
    "with engine.connect() as conn:\n",
    "    result = conn.execute(\n",
    "        select(user_table.c.name).where(~subq)\n",
    "    )\n",
    "    print(result.all())"
   ]
  },
  {
   "cell_type": "markdown",
   "id": "0b5448f9-c9c9-4bfe-828c-b370435c9ea5",
   "metadata": {},
   "source": [
    "#### Working with SQL Functions"
   ]
  },
  {
   "cell_type": "code",
   "execution_count": 11,
   "id": "8ae41939-0276-4a9d-ae25-14202f512f1e",
   "metadata": {},
   "outputs": [
    {
     "name": "stdout",
     "output_type": "stream",
     "text": [
      "SELECT count(*) AS count_1 \n",
      "FROM user_account\n"
     ]
    }
   ],
   "source": [
    "# count()\n",
    "print(select(func.count()).select_from(user_table))"
   ]
  },
  {
   "cell_type": "code",
   "execution_count": 12,
   "id": "bcf54a0f-6fff-4dfc-a32b-0f4254a44c93",
   "metadata": {},
   "outputs": [
    {
     "name": "stdout",
     "output_type": "stream",
     "text": [
      "SELECT lower(:lower_2) AS lower_1\n"
     ]
    }
   ],
   "source": [
    "# lower()\n",
    "print(select(func.lower(\"A String With Much UPPERCASE\")))"
   ]
  },
  {
   "cell_type": "code",
   "execution_count": 13,
   "id": "7a641491-9fa1-41c9-a350-e4b99757a8ac",
   "metadata": {},
   "outputs": [
    {
     "name": "stdout",
     "output_type": "stream",
     "text": [
      "2021-11-22 08:22:33,378 INFO sqlalchemy.engine.Engine BEGIN (implicit)\n",
      "2021-11-22 08:22:33,379 INFO sqlalchemy.engine.Engine SELECT now() AS now_1\n",
      "2021-11-22 08:22:33,380 INFO sqlalchemy.engine.Engine [generated in 0.00209s] {}\n",
      "[(datetime.datetime(2021, 11, 22, 8, 22, 33, 380602, tzinfo=datetime.timezone(datetime.timedelta(seconds=32400))),)]\n",
      "2021-11-22 08:22:33,382 INFO sqlalchemy.engine.Engine ROLLBACK\n"
     ]
    }
   ],
   "source": [
    "# now()\n",
    "stmt = select(func.now())\n",
    "with engine.connect() as conn:\n",
    "    result = conn.execute(stmt)\n",
    "    print(result.all())"
   ]
  },
  {
   "cell_type": "code",
   "execution_count": 16,
   "id": "bed94fe9-c237-4ac4-aaef-811faa771a02",
   "metadata": {},
   "outputs": [
    {
     "name": "stdout",
     "output_type": "stream",
     "text": [
      "SELECT some_crazy2_function(user_account.name, :some_crazy2_function_2) AS some_crazy2_function_1 \n",
      "FROM user_account\n"
     ]
    }
   ],
   "source": [
    "# func : any name that is accessed from this namespace is automatically considered to be a SQL function\n",
    "print(select(func.some_crazy2_function(user_table.c.name, 17)))"
   ]
  },
  {
   "cell_type": "code",
   "execution_count": 19,
   "id": "405e721c-1803-4f23-b613-5d890a027ede",
   "metadata": {},
   "outputs": [
    {
     "name": "stdout",
     "output_type": "stream",
     "text": [
      "SELECT now() AS now_1\n",
      "SELECT CURRENT_TIMESTAMP AS now_1 FROM DUAL\n"
     ]
    }
   ],
   "source": [
    "# dialect\n",
    "from sqlalchemy.dialects import postgresql, oracle\n",
    "print(select(func.now()).compile(dialect=postgresql.dialect()))\n",
    "print(select(func.now()).compile(dialect=oracle.dialect()))"
   ]
  },
  {
   "cell_type": "code",
   "execution_count": 21,
   "id": "39e5e577-44a5-49e1-b17f-5bd9224ec8b3",
   "metadata": {},
   "outputs": [
    {
     "data": {
      "text/plain": [
       "DateTime()"
      ]
     },
     "execution_count": 21,
     "metadata": {},
     "output_type": "execute_result"
    }
   ],
   "source": [
    "# functions have return types\n",
    "func.now().type"
   ]
  },
  {
   "cell_type": "code",
   "execution_count": 22,
   "id": "41aca013-abd4-4992-b6a8-a6cf59597332",
   "metadata": {},
   "outputs": [
    {
     "name": "stdout",
     "output_type": "stream",
     "text": [
      "SELECT json_object(:json_object_1)[:json_object_2] AS anon_1\n"
     ]
    }
   ],
   "source": [
    "from sqlalchemy import JSON\n",
    "function_expr = func.json_object('{a, 1, b, \"def\", c, 3.5}', type_=JSON)\n",
    "stmt = select(function_expr[\"def\"])\n",
    "print(stmt)"
   ]
  },
  {
   "cell_type": "code",
   "execution_count": 23,
   "id": "cc554820-e463-486a-8f01-7def3985f5c3",
   "metadata": {},
   "outputs": [
    {
     "data": {
      "text/plain": [
       "Integer()"
      ]
     },
     "execution_count": 23,
     "metadata": {},
     "output_type": "execute_result"
    }
   ],
   "source": [
    "# Built-in functions have pre-configured return types\n",
    "m1 = func.max(Column(\"some_int\", Integer))\n",
    "m1.type"
   ]
  },
  {
   "cell_type": "code",
   "execution_count": 24,
   "id": "68b60d2a-0fc3-4361-baf3-4f9b71330fa7",
   "metadata": {},
   "outputs": [
    {
     "data": {
      "text/plain": [
       "String()"
      ]
     },
     "execution_count": 24,
     "metadata": {},
     "output_type": "execute_result"
    }
   ],
   "source": [
    "m2 = func.max(Column(\"some_str\", String))\n",
    "m2.type"
   ]
  },
  {
   "cell_type": "code",
   "execution_count": 26,
   "id": "43864084-aa5e-4af6-976e-f0c91a0a555a",
   "metadata": {},
   "outputs": [
    {
     "data": {
      "text/plain": [
       "DateTime()"
      ]
     },
     "execution_count": 26,
     "metadata": {},
     "output_type": "execute_result"
    }
   ],
   "source": [
    "func.now().type"
   ]
  },
  {
   "cell_type": "code",
   "execution_count": 27,
   "id": "2c57f9e6-c132-42fa-af27-517f05c4b6de",
   "metadata": {},
   "outputs": [
    {
     "data": {
      "text/plain": [
       "Date()"
      ]
     },
     "execution_count": 27,
     "metadata": {},
     "output_type": "execute_result"
    }
   ],
   "source": [
    "func.current_date().type"
   ]
  },
  {
   "cell_type": "code",
   "execution_count": 29,
   "id": "000b2f48-b721-45e6-bcdd-979ad7221ae1",
   "metadata": {},
   "outputs": [
    {
     "data": {
      "text/plain": [
       "String()"
      ]
     },
     "execution_count": 29,
     "metadata": {},
     "output_type": "execute_result"
    }
   ],
   "source": [
    "func.concat(\"x\",\"y\").type"
   ]
  },
  {
   "cell_type": "code",
   "execution_count": 30,
   "id": "a40feacf-fc38-4c83-ac8b-0c1a617dab14",
   "metadata": {},
   "outputs": [
    {
     "data": {
      "text/plain": [
       "NullType()"
      ]
     },
     "execution_count": 30,
     "metadata": {},
     "output_type": "execute_result"
    }
   ],
   "source": [
    "# However, lower() and upper() have a \"null\" return type.\n",
    "func.upper(\"lowercase\").type"
   ]
  },
  {
   "cell_type": "code",
   "execution_count": 31,
   "id": "1396b058-2122-44df-8836-75540287e996",
   "metadata": {},
   "outputs": [
    {
     "name": "stdout",
     "output_type": "stream",
     "text": [
      "2021-11-22 08:52:55,151 INFO sqlalchemy.engine.Engine BEGIN (implicit)\n",
      "2021-11-22 08:52:55,151 INFO sqlalchemy.engine.Engine SELECT row_number() OVER (PARTITION BY user_account.name) AS anon_1, user_account.name, address.email_address \n",
      "FROM user_account JOIN address ON user_account.id = address.user_id\n",
      "2021-11-22 08:52:55,151 INFO sqlalchemy.engine.Engine [generated in 0.00240s] {}\n",
      "[(1, 'sandy', 'sandy@sqlalchemy.org'), (2, 'sandy', 'sandy@squirrelpower.org'), (1, 'spongebob', 'spongebob@sqlalchemy.org')]\n",
      "2021-11-22 08:52:55,151 INFO sqlalchemy.engine.Engine ROLLBACK\n"
     ]
    }
   ],
   "source": [
    "# using window functions\n",
    "# over(partition_by=)\n",
    "stmt = select(\n",
    "    func.row_number().over(partition_by=user_table.c.name),\n",
    "    user_table.c.name,\n",
    "    address_table.c.email_address\n",
    ").select_from(user_table).join(address_table)\n",
    "\n",
    "with engine.connect() as conn:\n",
    "    result = conn.execute(stmt)\n",
    "    print(result.all())\n"
   ]
  },
  {
   "cell_type": "code",
   "execution_count": 32,
   "id": "a5443425-ac93-4943-b2b9-9eeb03788ed2",
   "metadata": {},
   "outputs": [
    {
     "name": "stdout",
     "output_type": "stream",
     "text": [
      "2021-11-22 08:57:56,084 INFO sqlalchemy.engine.Engine BEGIN (implicit)\n",
      "2021-11-22 08:57:56,086 INFO sqlalchemy.engine.Engine SELECT count(*) OVER (ORDER BY user_account.name) AS anon_1, user_account.name, address.email_address \n",
      "FROM user_account JOIN address ON user_account.id = address.user_id\n",
      "2021-11-22 08:57:56,086 INFO sqlalchemy.engine.Engine [generated in 0.00174s] {}\n",
      "[(2, 'sandy', 'sandy@sqlalchemy.org'), (2, 'sandy', 'sandy@squirrelpower.org'), (3, 'spongebob', 'spongebob@sqlalchemy.org')]\n",
      "2021-11-22 08:57:56,088 INFO sqlalchemy.engine.Engine ROLLBACK\n"
     ]
    }
   ],
   "source": [
    "# over(order_by=)\n",
    "stmt = select(\n",
    "    func.count().over(order_by=user_table.c.name),\n",
    "    user_table.c.name,\n",
    "    address_table.c.email_address).select_from(user_table).join(address_table)\n",
    "\n",
    "with engine.connect() as conn:\n",
    "    result = conn.execute(stmt)\n",
    "    print(result.all())\n"
   ]
  },
  {
   "cell_type": "code",
   "execution_count": 33,
   "id": "36e018a9-ca01-4b34-a819-30946cd878d1",
   "metadata": {},
   "outputs": [
    {
     "name": "stdout",
     "output_type": "stream",
     "text": [
      "unnest(percentitle_disc(:percentitle_disc_1) WITHIN GROUP (ORDER BY user_account.name))\n"
     ]
    }
   ],
   "source": [
    "# special modifiers WITHIN GROUP, FILTER\n",
    "# unnest : an array to a set of rows\n",
    "print(\n",
    "    func.unnest(\n",
    "        func.percentitle_disc([0.25,0.5,0.75,1]).within_group(user_table.c.name)\n",
    "    )\n",
    ")\n"
   ]
  },
  {
   "cell_type": "code",
   "execution_count": 34,
   "id": "b0cab701-f026-42d2-8385-3514074b3121",
   "metadata": {},
   "outputs": [
    {
     "name": "stdout",
     "output_type": "stream",
     "text": [
      "2021-11-22 09:17:13,851 INFO sqlalchemy.engine.Engine BEGIN (implicit)\n",
      "2021-11-22 09:17:13,852 INFO sqlalchemy.engine.Engine SELECT count(address.email_address) FILTER (WHERE user_account.name = %(name_1)s) AS anon_1, count(address.email_address) FILTER (WHERE user_account.name = %(name_2)s) AS anon_2 \n",
      "FROM user_account JOIN address ON user_account.id = address.user_id\n",
      "2021-11-22 09:17:13,854 INFO sqlalchemy.engine.Engine [generated in 0.00288s] {'name_1': 'sandy', 'name_2': 'spongebob'}\n",
      "[(2, 1)]\n",
      "2021-11-22 09:17:13,862 INFO sqlalchemy.engine.Engine ROLLBACK\n"
     ]
    }
   ],
   "source": [
    "stmt = select(\n",
    "    func.count(address_table.c.email_address).filter(user_table.c.name == 'sandy'),\n",
    "    func.count(address_table.c.email_address).filter(user_table.c.name == 'spongebob')\n",
    ").select_from(user_table).join(address_table)\n",
    "\n",
    "with engine.connect() as conn:\n",
    "    result = conn.execute(stmt)\n",
    "    print(result.all())\n"
   ]
  },
  {
   "cell_type": "code",
   "execution_count": 168,
   "id": "a09aa8d5-6caf-4923-8117-c388b47c90d0",
   "metadata": {},
   "outputs": [],
   "source": [
    "from sqlalchemy import create_engine\n",
    "engine2 = create_engine(\"sqlite+pysqlite:///:memory:\", echo=True, future=True)"
   ]
  },
  {
   "cell_type": "code",
   "execution_count": 189,
   "id": "92a12395-1d8c-4398-87b2-f912857dbda6",
   "metadata": {},
   "outputs": [
    {
     "name": "stdout",
     "output_type": "stream",
     "text": [
      "2021-11-22 13:26:57,896 INFO sqlalchemy.engine.Engine BEGIN (implicit)\n",
      "2021-11-22 13:26:57,897 INFO sqlalchemy.engine.Engine SELECT anon_1.value \n",
      "FROM json_array_elements_text(%(json_array_elements_text_1)s) AS anon_1 \n",
      "WHERE anon_1.value IN (%(value_1_1)s, %(value_1_2)s)\n",
      "2021-11-22 13:26:57,898 INFO sqlalchemy.engine.Engine [cached since 953.5s ago] {'json_array_elements_text_1': '[\"one\", \"two\", \"three\"]', 'value_1_1': 'two', 'value_1_2': 'three'}\n",
      "[('two',), ('three',)]\n",
      "2021-11-22 13:26:57,899 INFO sqlalchemy.engine.Engine ROLLBACK\n"
     ]
    }
   ],
   "source": [
    "# Table-Valued Functions : I changed 'json_each' to 'json_array_elements_text' because some errors are printed out.\n",
    "# onetwothree = func.json_each('[\"one\", \"two\", \"three\"]').table_valued(\"value\")  \n",
    "onetwothree = func.json_array_elements_text('[\"one\", \"two\", \"three\"]').table_valued(\"value\")\n",
    "stmt = select(onetwothree).where(onetwothree.c.value.in_([\"two\", \"three\"]))\n",
    "with engine.connect() as conn:  \n",
    "    result = conn.execute(stmt)\n",
    "    print(result.all())"
   ]
  },
  {
   "cell_type": "code",
   "execution_count": 149,
   "id": "020cdd0f-8c27-4177-a57b-5460e183a610",
   "metadata": {},
   "outputs": [
    {
     "name": "stdout",
     "output_type": "stream",
     "text": [
      "SELECT x \n",
      "FROM json_array_elements(:json_array_elements_1) AS x\n"
     ]
    }
   ],
   "source": [
    "# column_valued : using in the FROM clause\n",
    "stmt = select(func.json_array_elements('[\"one\", \"two\"]').column_valued(\"x\"))\n",
    "print(stmt)"
   ]
  },
  {
   "cell_type": "code",
   "execution_count": 150,
   "id": "ad68a3c3-a786-4f5f-baeb-918a5eddcd1e",
   "metadata": {},
   "outputs": [
    {
     "name": "stdout",
     "output_type": "stream",
     "text": [
      "SELECT s \n",
      "FROM scalar_strings(%(scalar_strings_1)s) AS s\n"
     ]
    }
   ],
   "source": [
    "from sqlalchemy.dialects import postgresql\n",
    "stmt = select(func.scalar_strings(5).column_valued(\"s\"))\n",
    "print(stmt.compile(dialect=postgresql.dialect()))"
   ]
  },
  {
   "cell_type": "code",
   "execution_count": null,
   "id": "a70b2ee3-d0c3-45f9-93ad-ea376322bfe6",
   "metadata": {},
   "outputs": [],
   "source": []
  }
 ],
 "metadata": {
  "kernelspec": {
   "display_name": "Python 3 (ipykernel)",
   "language": "python",
   "name": "python3"
  },
  "language_info": {
   "codemirror_mode": {
    "name": "ipython",
    "version": 3
   },
   "file_extension": ".py",
   "mimetype": "text/x-python",
   "name": "python",
   "nbconvert_exporter": "python",
   "pygments_lexer": "ipython3",
   "version": "3.8.12"
  }
 },
 "nbformat": 4,
 "nbformat_minor": 5
}
