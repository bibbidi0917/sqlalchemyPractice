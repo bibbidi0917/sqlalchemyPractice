{
 "cells": [
  {
   "cell_type": "markdown",
   "id": "8533af37-c486-4421-a7a5-75e028df46a5",
   "metadata": {},
   "source": [
    "# SQLAlchemy 1.4 / 2.0 Tutorial"
   ]
  },
  {
   "cell_type": "markdown",
   "id": "f5aecc72-efed-4c78-b02c-f962950eea12",
   "metadata": {},
   "source": [
    "## Establishing Connectivity - the Engine"
   ]
  },
  {
   "cell_type": "code",
   "execution_count": 14,
   "id": "b1673477-ba6e-4cb3-bef2-1deeba3620cd",
   "metadata": {},
   "outputs": [
    {
     "name": "stdout",
     "output_type": "stream",
     "text": [
      "2021-11-18 13:58:48,954 INFO sqlalchemy.engine.Engine select version()\n",
      "2021-11-18 13:58:48,954 INFO sqlalchemy.engine.Engine [raw sql] {}\n",
      "2021-11-18 13:58:48,955 INFO sqlalchemy.engine.Engine select current_schema()\n",
      "2021-11-18 13:58:48,956 INFO sqlalchemy.engine.Engine [raw sql] {}\n",
      "2021-11-18 13:58:48,957 INFO sqlalchemy.engine.Engine show standard_conforming_strings\n",
      "2021-11-18 13:58:48,958 INFO sqlalchemy.engine.Engine [raw sql] {}\n",
      "2021-11-18 13:58:48,959 INFO sqlalchemy.engine.Engine BEGIN (implicit)\n",
      "2021-11-18 13:58:48,960 INFO sqlalchemy.engine.Engine select 'hello world'\n",
      "2021-11-18 13:58:48,961 INFO sqlalchemy.engine.Engine [generated in 0.00126s] {}\n",
      "[('hello world',)]\n",
      "2021-11-18 13:58:48,963 INFO sqlalchemy.engine.Engine ROLLBACK\n"
     ]
    }
   ],
   "source": [
    "import os.path\n",
    "import yaml\n",
    "from sqlalchemy import create_engine, text\n",
    "\n",
    "config_path = os.path.expanduser('~\\\\.sqlalchemy\\\\config.yaml')\n",
    "\n",
    "with open(config_path) as f:\n",
    "    config = yaml.load(f, Loader=yaml.FullLoader)\n",
    "\n",
    "db_path = (\n",
    "    f\"postgresql://{config['username']}:{config['password']}\"\n",
    "    f\"@{config['host']}:{config['port']}/{config['db_name']}\"\n",
    ")\n",
    "engine = create_engine(db_path, echo=True, future=True)\n",
    "\n",
    "with engine.connect() as conn:\n",
    "    result = conn.execute(text(\"select 'hello world'\"))\n",
    "    print(result.all())\n"
   ]
  },
  {
   "cell_type": "markdown",
   "id": "dc5e4db3-b4d2-4f02-a598-abdf87cd6ee7",
   "metadata": {},
   "source": [
    "## Working with Transactions and the DBAPI"
   ]
  },
  {
   "cell_type": "markdown",
   "id": "5130d165-2bc7-465c-8762-5430764ec9f0",
   "metadata": {},
   "source": [
    "### Committing Changes"
   ]
  },
  {
   "cell_type": "code",
   "execution_count": 15,
   "id": "01a85d00-851f-4d81-be07-b84b2bbb2231",
   "metadata": {},
   "outputs": [
    {
     "name": "stdout",
     "output_type": "stream",
     "text": [
      "2021-11-18 15:15:22,626 INFO sqlalchemy.engine.Engine BEGIN (implicit)\n",
      "2021-11-18 15:15:22,627 INFO sqlalchemy.engine.Engine CREATE TABLE FUNC( x integer, y integer )\n",
      "2021-11-18 15:15:22,627 INFO sqlalchemy.engine.Engine [generated in 0.00121s] {}\n",
      "2021-11-18 15:15:22,652 INFO sqlalchemy.engine.Engine INSERT INTO FUNC (x,y) VALUES (%(x)s, %(y)s)\n",
      "2021-11-18 15:15:22,653 INFO sqlalchemy.engine.Engine [generated in 0.00099s] ({'x': 1, 'y': 1}, {'x': 2, 'y': 4})\n",
      "2021-11-18 15:15:22,655 INFO sqlalchemy.engine.Engine COMMIT\n",
      "2021-11-18 15:15:22,658 INFO sqlalchemy.engine.Engine BEGIN (implicit)\n",
      "2021-11-18 15:15:22,659 INFO sqlalchemy.engine.Engine INSERT INTO FUNC (x,y) VALUES (%(x)s, %(y)s)\n",
      "2021-11-18 15:15:22,659 INFO sqlalchemy.engine.Engine [cached since 0.007468s ago] ({'x': 6, 'y': 8}, {'x': 9, 'y': 10})\n",
      "2021-11-18 15:15:22,663 INFO sqlalchemy.engine.Engine COMMIT\n"
     ]
    }
   ],
   "source": [
    "# commit as you go\n",
    "with engine.connect() as conn:\n",
    "    conn.execute(text(\"CREATE TABLE FUNC( x integer, y integer )\"))\n",
    "    conn.execute(text(\"INSERT INTO FUNC (x,y) VALUES (:x, :y)\"),\n",
    "                 [{\"x\": 1, \"y\": 1}, {\"x\": 2, \"y\": 4}])\n",
    "    conn.commit()\n",
    "\n",
    "# begin once\n",
    "with engine.begin() as conn:\n",
    "    conn.execute(text(\"INSERT INTO FUNC (x,y) VALUES (:x, :y)\"),\n",
    "                 [{\"x\": 6, \"y\": 8}, {\"x\": 9, \"y\": 10}])\n"
   ]
  },
  {
   "cell_type": "markdown",
   "id": "cd0ad987-843c-4a58-a644-9ddeb7aa6d5e",
   "metadata": {},
   "source": [
    "### Basics of Statement Execution"
   ]
  },
  {
   "cell_type": "code",
   "execution_count": 17,
   "id": "60c0cbe4-5086-4baa-87ce-23324298b044",
   "metadata": {},
   "outputs": [
    {
     "name": "stdout",
     "output_type": "stream",
     "text": [
      "2021-11-18 15:56:35,409 INFO sqlalchemy.engine.Engine BEGIN (implicit)\n",
      "2021-11-18 15:56:35,410 INFO sqlalchemy.engine.Engine SELECT x,y FROM FUNC;\n",
      "2021-11-18 15:56:35,410 INFO sqlalchemy.engine.Engine [generated in 0.00166s] {}\n",
      "x: 1 y: 1\n",
      "x: 2 y: 4\n",
      "x: 6 y: 8\n",
      "x: 9 y: 10\n",
      "2021-11-18 15:56:35,412 INFO sqlalchemy.engine.Engine SELECT x,y FROM FUNC;\n",
      "2021-11-18 15:56:35,413 INFO sqlalchemy.engine.Engine [cached since 0.004293s ago] {}\n",
      "1 1\n",
      "2 4\n",
      "6 8\n",
      "9 10\n",
      "2021-11-18 15:56:35,415 INFO sqlalchemy.engine.Engine SELECT x,y FROM FUNC where y > %(y)s\n",
      "2021-11-18 15:56:35,415 INFO sqlalchemy.engine.Engine [generated in 0.00051s] {'y': 2}\n",
      "x: 2 y: 4\n",
      "x: 6 y: 8\n",
      "x: 9 y: 10\n",
      "2021-11-18 15:56:35,420 INFO sqlalchemy.engine.Engine INSERT INTO FUNC(x,y) VALUES (%(x)s, %(y)s)\n",
      "2021-11-18 15:56:35,421 INFO sqlalchemy.engine.Engine [generated in 0.00087s] ({'x': 11, 'y': 12}, {'x': 13, 'y': 14})\n",
      "2021-11-18 15:56:35,422 INFO sqlalchemy.engine.Engine COMMIT\n",
      "2021-11-18 15:56:35,423 INFO sqlalchemy.engine.Engine BEGIN (implicit)\n",
      "2021-11-18 15:56:35,424 INFO sqlalchemy.engine.Engine SELECT x, y FROM FUNC WHERE y > %(y)s ORDER BY x,y\n",
      "2021-11-18 15:56:35,425 INFO sqlalchemy.engine.Engine [generated in 0.00141s] {'y': 6}\n",
      "x: 6 y: 8\n",
      "x: 9 y: 10\n",
      "x: 11 y: 12\n",
      "x: 13 y: 14\n",
      "2021-11-18 15:56:35,427 INFO sqlalchemy.engine.Engine ROLLBACK\n"
     ]
    }
   ],
   "source": [
    "with engine.connect() as conn:\n",
    "    result = conn.execute(text(\"SELECT x,y FROM FUNC;\"))\n",
    "    for row in result:\n",
    "        print(f\"x: {row.x} y: {row.y}\")\n",
    "\n",
    "    result = conn.execute(text(\"SELECT x,y FROM FUNC;\"))\n",
    "    for dict_row in result.mappings():\n",
    "        x = dict_row['x']\n",
    "        y = dict_row['y']\n",
    "        print(x, y)\n",
    "\n",
    "    result = conn.execute(text(\"SELECT x,y FROM FUNC where y > :y\"), {\"y\": 2})\n",
    "    for row in result:\n",
    "        print(f\"x: {row.x} y: {row.y}\")\n",
    "\n",
    "    conn.execute(text(\"INSERT INTO FUNC(x,y) VALUES (:x, :y)\"),\n",
    "                 [{\"x\": 11, \"y\": 12}, {\"x\": 13, \"y\": 14}])\n",
    "    conn.commit()\n",
    "\n",
    "    # bundling parameters\n",
    "    stmt = text(\n",
    "        \"SELECT x, y FROM FUNC WHERE y > :y ORDER BY x,y\"\n",
    "        ).bindparams(y=6)\n",
    "    result = conn.execute(stmt)\n",
    "    for row in result:\n",
    "        print(f\"x: {row.x} y: {row.y}\")\n"
   ]
  },
  {
   "cell_type": "markdown",
   "id": "06d80ef0-1846-454e-ba90-d673cd8bb4d0",
   "metadata": {},
   "source": [
    "### Executing with an ORM Session"
   ]
  },
  {
   "cell_type": "code",
   "execution_count": 18,
   "id": "1bfb2358-bfdb-4eaf-9401-9ee5bc48cee0",
   "metadata": {},
   "outputs": [
    {
     "name": "stdout",
     "output_type": "stream",
     "text": [
      "2021-11-18 16:02:08,297 INFO sqlalchemy.engine.Engine BEGIN (implicit)\n",
      "2021-11-18 16:02:08,313 INFO sqlalchemy.engine.Engine SELECT x, y FROM FUNC WHERE y > %(y)s ORDER BY x, y\n",
      "2021-11-18 16:02:08,313 INFO sqlalchemy.engine.Engine [generated in 0.00039s] {'y': 6}\n",
      "x: 6 y: 8\n",
      "x: 9 y: 10\n",
      "x: 11 y: 12\n",
      "x: 13 y: 14\n",
      "2021-11-18 16:02:08,313 INFO sqlalchemy.engine.Engine UPDATE FUNC SET y=%(y)s WHERE x=%(x)s\n",
      "2021-11-18 16:02:08,313 INFO sqlalchemy.engine.Engine [generated in 0.00036s] ({'y': 11, 'x': 9}, {'y': 15, 'x': 13})\n",
      "2021-11-18 16:02:08,319 INFO sqlalchemy.engine.Engine COMMIT\n"
     ]
    }
   ],
   "source": [
    "from sqlalchemy.orm import Session\n",
    "stmt = text(\n",
    "    \"SELECT x, y FROM FUNC WHERE y > :y ORDER BY x, y\"\n",
    ").bindparams(y=6)\n",
    "\n",
    "with Session(engine) as session:\n",
    "    result = session.execute(stmt)\n",
    "    for row in result:\n",
    "        print(f\"x: {row.x} y: {row.y}\")\n",
    "\n",
    "    result = session.execute(\n",
    "        text(\"UPDATE FUNC SET y=:y WHERE x=:x\"),\n",
    "        [{\"x\": 9, \"y\": 11}, {\"x\": 13, \"y\": 15}]\n",
    "    )\n",
    "    session.commit()  # To save, you should commit\n"
   ]
  },
  {
   "cell_type": "markdown",
   "id": "54bfb0b2-dc98-42ac-a7d4-ad5178b54b5a",
   "metadata": {},
   "source": [
    "## Working with Database Metadata"
   ]
  },
  {
   "cell_type": "markdown",
   "id": "9e675e1d-dc38-44b4-b8a4-0225155716d1",
   "metadata": {},
   "source": [
    "### Setting up Metadata with Table objects"
   ]
  },
  {
   "cell_type": "code",
   "execution_count": 31,
   "id": "7efa2e18-d715-48b9-8975-7ddd893784de",
   "metadata": {},
   "outputs": [
    {
     "name": "stdout",
     "output_type": "stream",
     "text": [
      "MetaData()\n"
     ]
    }
   ],
   "source": [
    "from sqlalchemy import MetaData\n",
    "metadata_obj = MetaData()  # a set of Table object\n",
    "\n",
    "print(metadata_obj)"
   ]
  },
  {
   "cell_type": "code",
   "execution_count": 32,
   "id": "419cbce4-f1a6-46ab-91d3-6a2712202f48",
   "metadata": {},
   "outputs": [],
   "source": [
    "from sqlalchemy import Table, Column, Integer, String\n",
    "user_table = Table(\n",
    "    \"user_account\",  # table name\n",
    "    metadata_obj,  # 'metadata_obj' has this table.\n",
    "    Column('id', Integer, primary_key=True),\n",
    "    Column('name', String(30)),\n",
    "    Column('fullname', String)\n",
    ")\n"
   ]
  },
  {
   "cell_type": "markdown",
   "id": "26a38d67-c490-4050-91aa-dbfddfc258a7",
   "metadata": {},
   "source": [
    "### Declaring Simple Constraints"
   ]
  },
  {
   "cell_type": "code",
   "execution_count": 33,
   "id": "88e43445-d0f6-401c-975a-f3e4616c942b",
   "metadata": {},
   "outputs": [
    {
     "data": {
      "text/plain": [
       "PrimaryKeyConstraint(Column('id', Integer(), table=<user_account>, primary_key=True, nullable=False))"
      ]
     },
     "execution_count": 33,
     "metadata": {},
     "output_type": "execute_result"
    }
   ],
   "source": [
    "user_table.primary_key"
   ]
  },
  {
   "cell_type": "code",
   "execution_count": 34,
   "id": "328e363e-af3b-44e8-aaaa-9b72206c8f35",
   "metadata": {},
   "outputs": [],
   "source": [
    "from sqlalchemy import ForeignKey\n",
    "#  ForeignKey : we can omit the datatype for this column\n",
    "address_table = Table(\n",
    "    \"address\",\n",
    "    metadata_obj,\n",
    "    Column('id', Integer, primary_key=True),\n",
    "    Column('user_id', ForeignKey('user_account.id'), nullable=False),\n",
    "    Column('emain_address', String, nullable=False)\n",
    ")\n"
   ]
  },
  {
   "cell_type": "markdown",
   "id": "444dcf10-9fe7-4bba-9ce9-fc3762385698",
   "metadata": {},
   "source": [
    "### Emitting DDL to the Database"
   ]
  },
  {
   "cell_type": "code",
   "execution_count": 37,
   "id": "8c98d6a3-7abc-498d-bbcb-8ce2737dd568",
   "metadata": {},
   "outputs": [
    {
     "name": "stdout",
     "output_type": "stream",
     "text": [
      "2021-11-18 16:22:27,183 INFO sqlalchemy.engine.Engine BEGIN (implicit)\n",
      "2021-11-18 16:22:27,184 INFO sqlalchemy.engine.Engine select relname from pg_class c join pg_namespace n on n.oid=c.relnamespace where pg_catalog.pg_table_is_visible(c.oid) and relname=%(name)s\n",
      "2021-11-18 16:22:27,185 INFO sqlalchemy.engine.Engine [cached since 20.8s ago] {'name': 'user_account'}\n",
      "2021-11-18 16:22:27,187 INFO sqlalchemy.engine.Engine select relname from pg_class c join pg_namespace n on n.oid=c.relnamespace where pg_catalog.pg_table_is_visible(c.oid) and relname=%(name)s\n",
      "2021-11-18 16:22:27,188 INFO sqlalchemy.engine.Engine [cached since 20.8s ago] {'name': 'address'}\n",
      "2021-11-18 16:22:27,189 INFO sqlalchemy.engine.Engine \n",
      "CREATE TABLE user_account (\n",
      "\tid SERIAL NOT NULL, \n",
      "\tname VARCHAR(30), \n",
      "\tfullname VARCHAR, \n",
      "\tPRIMARY KEY (id)\n",
      ")\n",
      "\n",
      "\n",
      "2021-11-18 16:22:27,189 INFO sqlalchemy.engine.Engine [no key 0.00050s] {}\n",
      "2021-11-18 16:22:27,204 INFO sqlalchemy.engine.Engine \n",
      "CREATE TABLE address (\n",
      "\tid SERIAL NOT NULL, \n",
      "\tuser_id INTEGER NOT NULL, \n",
      "\temain_address VARCHAR NOT NULL, \n",
      "\tPRIMARY KEY (id), \n",
      "\tFOREIGN KEY(user_id) REFERENCES user_account (id)\n",
      ")\n",
      "\n",
      "\n",
      "2021-11-18 16:22:27,205 INFO sqlalchemy.engine.Engine [no key 0.00051s] {}\n",
      "2021-11-18 16:22:27,223 INFO sqlalchemy.engine.Engine COMMIT\n"
     ]
    }
   ],
   "source": [
    "# create\n",
    "metadata_obj.create_all(engine)"
   ]
  },
  {
   "cell_type": "code",
   "execution_count": 36,
   "id": "065b135f-e295-4463-9925-367b7a88c062",
   "metadata": {},
   "outputs": [
    {
     "name": "stdout",
     "output_type": "stream",
     "text": [
      "2021-11-18 16:22:16,961 INFO sqlalchemy.engine.Engine BEGIN (implicit)\n",
      "2021-11-18 16:22:16,962 INFO sqlalchemy.engine.Engine select relname from pg_class c join pg_namespace n on n.oid=c.relnamespace where pg_catalog.pg_table_is_visible(c.oid) and relname=%(name)s\n",
      "2021-11-18 16:22:16,963 INFO sqlalchemy.engine.Engine [cached since 10.58s ago] {'name': 'user_account'}\n",
      "2021-11-18 16:22:16,968 INFO sqlalchemy.engine.Engine select relname from pg_class c join pg_namespace n on n.oid=c.relnamespace where pg_catalog.pg_table_is_visible(c.oid) and relname=%(name)s\n",
      "2021-11-18 16:22:16,968 INFO sqlalchemy.engine.Engine [cached since 10.58s ago] {'name': 'address'}\n",
      "2021-11-18 16:22:16,969 INFO sqlalchemy.engine.Engine \n",
      "DROP TABLE address\n",
      "2021-11-18 16:22:16,971 INFO sqlalchemy.engine.Engine [no key 0.00182s] {}\n",
      "2021-11-18 16:22:16,976 INFO sqlalchemy.engine.Engine \n",
      "DROP TABLE user_account\n",
      "2021-11-18 16:22:16,977 INFO sqlalchemy.engine.Engine [no key 0.00057s] {}\n",
      "2021-11-18 16:22:16,978 INFO sqlalchemy.engine.Engine COMMIT\n"
     ]
    }
   ],
   "source": [
    "# delete\n",
    "metadata_obj.drop_all(engine)"
   ]
  },
  {
   "cell_type": "markdown",
   "id": "3fa156af-3edf-4f7e-bb4d-4ac3c2f7d160",
   "metadata": {},
   "source": [
    "### Defining Table Metadata with the ORM"
   ]
  },
  {
   "cell_type": "code",
   "execution_count": 40,
   "id": "c03bb592-1a5d-4dc3-83cf-2fd4367dab50",
   "metadata": {},
   "outputs": [],
   "source": [
    "# Setting up the Registry\n",
    "from sqlalchemy.orm import registry\n",
    "mapper_registry = registry()\n",
    "mapper_registry.metadata\n",
    "Base = mapper_registry.generate_base()  # declarative base\n"
   ]
  },
  {
   "cell_type": "code",
   "execution_count": 41,
   "id": "cdd322e3-066c-43ba-b972-81962de9b8cb",
   "metadata": {},
   "outputs": [],
   "source": [
    "# Declaring Mapped Classes (using base)\n",
    "from sqlalchemy.orm import relationship\n",
    "\n",
    "\n",
    "class User(Base):\n",
    "    __tablename__ = 'user_account'\n",
    "\n",
    "    id = Column(Integer, primary_key=True)\n",
    "    name = Column(String(30))\n",
    "    fullname = Column(String)\n",
    "    addresses = relationship(\"Address\", back_populates=\"user\")\n",
    "    # back_populates: Establishing a relationship in both direction.\n",
    "\n",
    "    def __repr__(self):\n",
    "        return (\n",
    "            f\"User(id={self.id!r}, name={self.name!r}, \"\n",
    "            f\"fullname={self.fullname!r})\"\n",
    "        )\n",
    "        # !r : repr(). a formal string that the interpreter can recognize\n",
    "\n",
    "\n",
    "class Address(Base):\n",
    "    __tablename__ = 'address'\n",
    "\n",
    "    id = Column(Integer, primary_key=True)\n",
    "    email_address = Column(String, nullable=False)\n",
    "    user_id = Column(Integer, ForeignKey('user_account.id'))\n",
    "\n",
    "    user = relationship(\"User\", back_populates=\"addresses\")\n",
    "\n",
    "    def __repr__(self):\n",
    "        return f\"Address(id={self.id!r}, email_address={self.email_address!r})\"\n"
   ]
  },
  {
   "cell_type": "code",
   "execution_count": 42,
   "id": "e8557ee1-d376-4359-85ec-e050a911deda",
   "metadata": {},
   "outputs": [
    {
     "data": {
      "text/plain": [
       "Table('user_account', MetaData(), Column('id', Integer(), table=<user_account>, primary_key=True, nullable=False), Column('name', String(length=30), table=<user_account>), Column('fullname', String(), table=<user_account>), schema=None)"
      ]
     },
     "execution_count": 42,
     "metadata": {},
     "output_type": "execute_result"
    }
   ],
   "source": [
    "User.__table__"
   ]
  },
  {
   "cell_type": "code",
   "execution_count": 43,
   "id": "221ff608-ea37-4857-a341-e7f1052d7cac",
   "metadata": {},
   "outputs": [
    {
     "data": {
      "text/plain": [
       "User(id=None, name='sandy', fullname='Sandy Cheeks')"
      ]
     },
     "execution_count": 43,
     "metadata": {},
     "output_type": "execute_result"
    }
   ],
   "source": [
    "# Other Mapped Class Details\n",
    "sandy = User(name=\"sandy\", fullname=\"Sandy Cheeks\")  # create a instance\n",
    "sandy  # __repr__() is used"
   ]
  },
  {
   "cell_type": "code",
   "execution_count": 44,
   "id": "2b4bd943-3d94-40c4-a553-e71aaebaade7",
   "metadata": {},
   "outputs": [],
   "source": [
    "# Emitting DDL to the database. (three ways to emit DDL)\n",
    "# 1) MetaData.create_all(engine)\n",
    "# 2) mapper_registry.metadata.create_all(engine)\n",
    "# 3) Base.metadata.create_all(engine)\n"
   ]
  },
  {
   "cell_type": "code",
   "execution_count": 46,
   "id": "c2028cc8-2104-41ee-8690-b637b042ce5e",
   "metadata": {},
   "outputs": [],
   "source": [
    "# Combining Core Table Declarations with ORM Declarative\n",
    "# class User(Base):\n",
    "#    __table__ = user_table  # we don't have to write column infos."
   ]
  },
  {
   "cell_type": "markdown",
   "id": "20b20d51-bce5-4085-87db-c021477ff1e6",
   "metadata": {},
   "source": [
    "### Table Reflection"
   ]
  },
  {
   "cell_type": "code",
   "execution_count": 54,
   "id": "19edd444-6d67-45cc-8e6d-447ef44a0f96",
   "metadata": {},
   "outputs": [],
   "source": [
    "# Load table from existing database as ORM object\n",
    "# (not declaring table directly)\n",
    "funcrefl = Table(\"func\", metadata_obj, autoload_with=engine)\n"
   ]
  },
  {
   "cell_type": "code",
   "execution_count": 55,
   "id": "59783e45-c343-4365-879e-e0d5fd79f6ed",
   "metadata": {},
   "outputs": [
    {
     "data": {
      "text/plain": [
       "Table('func', MetaData(), Column('x', INTEGER(), table=<func>), Column('y', INTEGER(), table=<func>), schema=None)"
      ]
     },
     "execution_count": 55,
     "metadata": {},
     "output_type": "execute_result"
    }
   ],
   "source": [
    "funcrefl"
   ]
  },
  {
   "cell_type": "code",
   "execution_count": null,
   "id": "2283bb3e-8110-4d4f-a297-16a861d42990",
   "metadata": {},
   "outputs": [],
   "source": []
  }
 ],
 "metadata": {
  "kernelspec": {
   "display_name": "Python 3 (ipykernel)",
   "language": "python",
   "name": "python3"
  },
  "language_info": {
   "codemirror_mode": {
    "name": "ipython",
    "version": 3
   },
   "file_extension": ".py",
   "mimetype": "text/x-python",
   "name": "python",
   "nbconvert_exporter": "python",
   "pygments_lexer": "ipython3",
   "version": "3.8.12"
  }
 },
 "nbformat": 4,
 "nbformat_minor": 5
}
