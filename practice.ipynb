{
 "cells": [
  {
   "cell_type": "markdown",
   "id": "8533af37-c486-4421-a7a5-75e028df46a5",
   "metadata": {},
   "source": [
    "# SQLAlchemy 1.4 / 2.0 Tutorial"
   ]
  },
  {
   "cell_type": "markdown",
   "id": "f5aecc72-efed-4c78-b02c-f962950eea12",
   "metadata": {},
   "source": [
    "## Establishing Connectivity - the Engine"
   ]
  },
  {
   "cell_type": "code",
   "execution_count": 14,
   "id": "b1673477-ba6e-4cb3-bef2-1deeba3620cd",
   "metadata": {},
   "outputs": [
    {
     "name": "stdout",
     "output_type": "stream",
     "text": [
      "2021-11-18 13:58:48,954 INFO sqlalchemy.engine.Engine select version()\n",
      "2021-11-18 13:58:48,954 INFO sqlalchemy.engine.Engine [raw sql] {}\n",
      "2021-11-18 13:58:48,955 INFO sqlalchemy.engine.Engine select current_schema()\n",
      "2021-11-18 13:58:48,956 INFO sqlalchemy.engine.Engine [raw sql] {}\n",
      "2021-11-18 13:58:48,957 INFO sqlalchemy.engine.Engine show standard_conforming_strings\n",
      "2021-11-18 13:58:48,958 INFO sqlalchemy.engine.Engine [raw sql] {}\n",
      "2021-11-18 13:58:48,959 INFO sqlalchemy.engine.Engine BEGIN (implicit)\n",
      "2021-11-18 13:58:48,960 INFO sqlalchemy.engine.Engine select 'hello world'\n",
      "2021-11-18 13:58:48,961 INFO sqlalchemy.engine.Engine [generated in 0.00126s] {}\n",
      "[('hello world',)]\n",
      "2021-11-18 13:58:48,963 INFO sqlalchemy.engine.Engine ROLLBACK\n"
     ]
    }
   ],
   "source": [
    "import os.path\n",
    "import yaml\n",
    "from sqlalchemy import create_engine, text\n",
    "\n",
    "config_path = os.path.expanduser('~\\\\.sqlalchemy\\\\config.yaml')\n",
    "\n",
    "with open(config_path) as f:\n",
    "    config = yaml.load(f, Loader=yaml.FullLoader)\n",
    "\n",
    "db_path = (\n",
    "    f\"postgresql://{config['username']}:{config['password']}\"\n",
    "    f\"@{config['host']}:{config['port']}/{config['db_name']}\"\n",
    ")\n",
    "engine = create_engine(db_path, echo=True, future=True)\n",
    "\n",
    "with engine.connect() as conn:\n",
    "    result = conn.execute(text(\"select 'hello world'\"))\n",
    "    print(result.all())\n"
   ]
  },
  {
   "cell_type": "code",
   "execution_count": null,
   "id": "661de4ed-f3c8-4847-b1fc-bcc8d6cd4f62",
   "metadata": {},
   "outputs": [],
   "source": []
  }
 ],
 "metadata": {
  "kernelspec": {
   "display_name": "Python 3 (ipykernel)",
   "language": "python",
   "name": "python3"
  },
  "language_info": {
   "codemirror_mode": {
    "name": "ipython",
    "version": 3
   },
   "file_extension": ".py",
   "mimetype": "text/x-python",
   "name": "python",
   "nbconvert_exporter": "python",
   "pygments_lexer": "ipython3",
   "version": "3.8.12"
  }
 },
 "nbformat": 4,
 "nbformat_minor": 5
}
