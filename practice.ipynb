{
 "cells": [
  {
   "cell_type": "markdown",
   "id": "8533af37-c486-4421-a7a5-75e028df46a5",
   "metadata": {},
   "source": [
    "# SQLAlchemy 1.4 / 2.0 Tutorial"
   ]
  },
  {
   "cell_type": "markdown",
   "id": "f5aecc72-efed-4c78-b02c-f962950eea12",
   "metadata": {},
   "source": [
    "## Establishing Connectivity - the Engine"
   ]
  },
  {
   "cell_type": "code",
   "execution_count": 14,
   "id": "b1673477-ba6e-4cb3-bef2-1deeba3620cd",
   "metadata": {},
   "outputs": [
    {
     "name": "stdout",
     "output_type": "stream",
     "text": [
      "2021-11-18 13:58:48,954 INFO sqlalchemy.engine.Engine select version()\n",
      "2021-11-18 13:58:48,954 INFO sqlalchemy.engine.Engine [raw sql] {}\n",
      "2021-11-18 13:58:48,955 INFO sqlalchemy.engine.Engine select current_schema()\n",
      "2021-11-18 13:58:48,956 INFO sqlalchemy.engine.Engine [raw sql] {}\n",
      "2021-11-18 13:58:48,957 INFO sqlalchemy.engine.Engine show standard_conforming_strings\n",
      "2021-11-18 13:58:48,958 INFO sqlalchemy.engine.Engine [raw sql] {}\n",
      "2021-11-18 13:58:48,959 INFO sqlalchemy.engine.Engine BEGIN (implicit)\n",
      "2021-11-18 13:58:48,960 INFO sqlalchemy.engine.Engine select 'hello world'\n",
      "2021-11-18 13:58:48,961 INFO sqlalchemy.engine.Engine [generated in 0.00126s] {}\n",
      "[('hello world',)]\n",
      "2021-11-18 13:58:48,963 INFO sqlalchemy.engine.Engine ROLLBACK\n"
     ]
    }
   ],
   "source": [
    "import os.path\n",
    "import yaml\n",
    "from sqlalchemy import create_engine, text\n",
    "\n",
    "config_path = os.path.expanduser('~\\\\.sqlalchemy\\\\config.yaml')\n",
    "\n",
    "with open(config_path) as f:\n",
    "    config = yaml.load(f, Loader=yaml.FullLoader)\n",
    "\n",
    "db_path = (\n",
    "    f\"postgresql://{config['username']}:{config['password']}\"\n",
    "    f\"@{config['host']}:{config['port']}/{config['db_name']}\"\n",
    ")\n",
    "engine = create_engine(db_path, echo=True, future=True)\n",
    "\n",
    "with engine.connect() as conn:\n",
    "    result = conn.execute(text(\"select 'hello world'\"))\n",
    "    print(result.all())\n"
   ]
  },
  {
   "cell_type": "markdown",
   "id": "dc5e4db3-b4d2-4f02-a598-abdf87cd6ee7",
   "metadata": {},
   "source": [
    "## Working with Transactions and the DBAPI"
   ]
  },
  {
   "cell_type": "markdown",
   "id": "5130d165-2bc7-465c-8762-5430764ec9f0",
   "metadata": {},
   "source": [
    "### Committing Changes"
   ]
  },
  {
   "cell_type": "code",
   "execution_count": 15,
   "id": "01a85d00-851f-4d81-be07-b84b2bbb2231",
   "metadata": {},
   "outputs": [
    {
     "name": "stdout",
     "output_type": "stream",
     "text": [
      "2021-11-18 15:15:22,626 INFO sqlalchemy.engine.Engine BEGIN (implicit)\n",
      "2021-11-18 15:15:22,627 INFO sqlalchemy.engine.Engine CREATE TABLE FUNC( x integer, y integer )\n",
      "2021-11-18 15:15:22,627 INFO sqlalchemy.engine.Engine [generated in 0.00121s] {}\n",
      "2021-11-18 15:15:22,652 INFO sqlalchemy.engine.Engine INSERT INTO FUNC (x,y) VALUES (%(x)s, %(y)s)\n",
      "2021-11-18 15:15:22,653 INFO sqlalchemy.engine.Engine [generated in 0.00099s] ({'x': 1, 'y': 1}, {'x': 2, 'y': 4})\n",
      "2021-11-18 15:15:22,655 INFO sqlalchemy.engine.Engine COMMIT\n",
      "2021-11-18 15:15:22,658 INFO sqlalchemy.engine.Engine BEGIN (implicit)\n",
      "2021-11-18 15:15:22,659 INFO sqlalchemy.engine.Engine INSERT INTO FUNC (x,y) VALUES (%(x)s, %(y)s)\n",
      "2021-11-18 15:15:22,659 INFO sqlalchemy.engine.Engine [cached since 0.007468s ago] ({'x': 6, 'y': 8}, {'x': 9, 'y': 10})\n",
      "2021-11-18 15:15:22,663 INFO sqlalchemy.engine.Engine COMMIT\n"
     ]
    }
   ],
   "source": [
    "# commit as you go\n",
    "with engine.connect() as conn:\n",
    "    conn.execute(text(\"CREATE TABLE FUNC( x integer, y integer )\"))\n",
    "    conn.execute(text(\"INSERT INTO FUNC (x,y) VALUES (:x, :y)\"),\n",
    "                 [{\"x\": 1, \"y\": 1}, {\"x\": 2, \"y\": 4}])\n",
    "    conn.commit()\n",
    "\n",
    "# begin once\n",
    "with engine.begin() as conn:\n",
    "    conn.execute(text(\"INSERT INTO FUNC (x,y) VALUES (:x, :y)\"),\n",
    "                 [{\"x\": 6, \"y\": 8}, {\"x\": 9, \"y\": 10}])\n"
   ]
  },
  {
   "cell_type": "markdown",
   "id": "cd0ad987-843c-4a58-a644-9ddeb7aa6d5e",
   "metadata": {},
   "source": [
    "### Basics of Statement Execution"
   ]
  },
  {
   "cell_type": "code",
   "execution_count": 17,
   "id": "60c0cbe4-5086-4baa-87ce-23324298b044",
   "metadata": {},
   "outputs": [
    {
     "name": "stdout",
     "output_type": "stream",
     "text": [
      "2021-11-18 15:56:35,409 INFO sqlalchemy.engine.Engine BEGIN (implicit)\n",
      "2021-11-18 15:56:35,410 INFO sqlalchemy.engine.Engine SELECT x,y FROM FUNC;\n",
      "2021-11-18 15:56:35,410 INFO sqlalchemy.engine.Engine [generated in 0.00166s] {}\n",
      "x: 1 y: 1\n",
      "x: 2 y: 4\n",
      "x: 6 y: 8\n",
      "x: 9 y: 10\n",
      "2021-11-18 15:56:35,412 INFO sqlalchemy.engine.Engine SELECT x,y FROM FUNC;\n",
      "2021-11-18 15:56:35,413 INFO sqlalchemy.engine.Engine [cached since 0.004293s ago] {}\n",
      "1 1\n",
      "2 4\n",
      "6 8\n",
      "9 10\n",
      "2021-11-18 15:56:35,415 INFO sqlalchemy.engine.Engine SELECT x,y FROM FUNC where y > %(y)s\n",
      "2021-11-18 15:56:35,415 INFO sqlalchemy.engine.Engine [generated in 0.00051s] {'y': 2}\n",
      "x: 2 y: 4\n",
      "x: 6 y: 8\n",
      "x: 9 y: 10\n",
      "2021-11-18 15:56:35,420 INFO sqlalchemy.engine.Engine INSERT INTO FUNC(x,y) VALUES (%(x)s, %(y)s)\n",
      "2021-11-18 15:56:35,421 INFO sqlalchemy.engine.Engine [generated in 0.00087s] ({'x': 11, 'y': 12}, {'x': 13, 'y': 14})\n",
      "2021-11-18 15:56:35,422 INFO sqlalchemy.engine.Engine COMMIT\n",
      "2021-11-18 15:56:35,423 INFO sqlalchemy.engine.Engine BEGIN (implicit)\n",
      "2021-11-18 15:56:35,424 INFO sqlalchemy.engine.Engine SELECT x, y FROM FUNC WHERE y > %(y)s ORDER BY x,y\n",
      "2021-11-18 15:56:35,425 INFO sqlalchemy.engine.Engine [generated in 0.00141s] {'y': 6}\n",
      "x: 6 y: 8\n",
      "x: 9 y: 10\n",
      "x: 11 y: 12\n",
      "x: 13 y: 14\n",
      "2021-11-18 15:56:35,427 INFO sqlalchemy.engine.Engine ROLLBACK\n"
     ]
    }
   ],
   "source": [
    "with engine.connect() as conn:\n",
    "    result = conn.execute(text(\"SELECT x,y FROM FUNC;\"))\n",
    "    for row in result:\n",
    "        print(f\"x: {row.x} y: {row.y}\")\n",
    "\n",
    "    result = conn.execute(text(\"SELECT x,y FROM FUNC;\"))\n",
    "    for dict_row in result.mappings():\n",
    "        x = dict_row['x']\n",
    "        y = dict_row['y']\n",
    "        print(x, y)\n",
    "\n",
    "    result = conn.execute(text(\"SELECT x,y FROM FUNC where y > :y\"), {\"y\": 2})\n",
    "    for row in result:\n",
    "        print(f\"x: {row.x} y: {row.y}\")\n",
    "\n",
    "    conn.execute(text(\"INSERT INTO FUNC(x,y) VALUES (:x, :y)\"),\n",
    "                 [{\"x\": 11, \"y\": 12}, {\"x\": 13, \"y\": 14}])\n",
    "    conn.commit()\n",
    "\n",
    "    # bundling parameters\n",
    "    stmt = text(\n",
    "        \"SELECT x, y FROM FUNC WHERE y > :y ORDER BY x,y\"\n",
    "        ).bindparams(y=6)\n",
    "    result = conn.execute(stmt)\n",
    "    for row in result:\n",
    "        print(f\"x: {row.x} y: {row.y}\")\n"
   ]
  },
  {
   "cell_type": "markdown",
   "id": "06d80ef0-1846-454e-ba90-d673cd8bb4d0",
   "metadata": {},
   "source": [
    "### Executing with an ORM Session"
   ]
  },
  {
   "cell_type": "code",
   "execution_count": 18,
   "id": "1bfb2358-bfdb-4eaf-9401-9ee5bc48cee0",
   "metadata": {},
   "outputs": [
    {
     "name": "stdout",
     "output_type": "stream",
     "text": [
      "2021-11-18 16:02:08,297 INFO sqlalchemy.engine.Engine BEGIN (implicit)\n",
      "2021-11-18 16:02:08,313 INFO sqlalchemy.engine.Engine SELECT x, y FROM FUNC WHERE y > %(y)s ORDER BY x, y\n",
      "2021-11-18 16:02:08,313 INFO sqlalchemy.engine.Engine [generated in 0.00039s] {'y': 6}\n",
      "x: 6 y: 8\n",
      "x: 9 y: 10\n",
      "x: 11 y: 12\n",
      "x: 13 y: 14\n",
      "2021-11-18 16:02:08,313 INFO sqlalchemy.engine.Engine UPDATE FUNC SET y=%(y)s WHERE x=%(x)s\n",
      "2021-11-18 16:02:08,313 INFO sqlalchemy.engine.Engine [generated in 0.00036s] ({'y': 11, 'x': 9}, {'y': 15, 'x': 13})\n",
      "2021-11-18 16:02:08,319 INFO sqlalchemy.engine.Engine COMMIT\n"
     ]
    }
   ],
   "source": [
    "from sqlalchemy.orm import Session\n",
    "stmt = text(\n",
    "    \"SELECT x, y FROM FUNC WHERE y > :y ORDER BY x, y\"\n",
    ").bindparams(y=6)\n",
    "\n",
    "with Session(engine) as session:\n",
    "    result = session.execute(stmt)\n",
    "    for row in result:\n",
    "        print(f\"x: {row.x} y: {row.y}\")\n",
    "\n",
    "    result = session.execute(\n",
    "        text(\"UPDATE FUNC SET y=:y WHERE x=:x\"),\n",
    "        [{\"x\": 9, \"y\": 11}, {\"x\": 13, \"y\": 15}]\n",
    "    )\n",
    "    session.commit()  # To save, you should commit\n"
   ]
  },
  {
   "cell_type": "code",
   "execution_count": null,
   "id": "a94cfa7a-ed24-4b26-b5f9-f45d432854ac",
   "metadata": {},
   "outputs": [],
   "source": []
  }
 ],
 "metadata": {
  "kernelspec": {
   "display_name": "Python 3 (ipykernel)",
   "language": "python",
   "name": "python3"
  },
  "language_info": {
   "codemirror_mode": {
    "name": "ipython",
    "version": 3
   },
   "file_extension": ".py",
   "mimetype": "text/x-python",
   "name": "python",
   "nbconvert_exporter": "python",
   "pygments_lexer": "ipython3",
   "version": "3.8.12"
  }
 },
 "nbformat": 4,
 "nbformat_minor": 5
}
