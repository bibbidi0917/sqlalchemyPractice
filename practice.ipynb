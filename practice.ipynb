{
 "cells": [
  {
   "cell_type": "code",
   "execution_count": 3,
   "id": "678a446b",
   "metadata": {},
   "outputs": [
    {
     "name": "stdout",
     "output_type": "stream",
     "text": [
      "2021-11-17 11:14:48,484 INFO sqlalchemy.engine.Engine select version()\n",
      "2021-11-17 11:14:48,485 INFO sqlalchemy.engine.Engine [raw sql] {}\n",
      "2021-11-17 11:14:48,486 INFO sqlalchemy.engine.Engine select current_schema()\n",
      "2021-11-17 11:14:48,486 INFO sqlalchemy.engine.Engine [raw sql] {}\n",
      "2021-11-17 11:14:48,486 INFO sqlalchemy.engine.Engine show standard_conforming_strings\n",
      "2021-11-17 11:14:48,486 INFO sqlalchemy.engine.Engine [raw sql] {}\n",
      "2021-11-17 11:14:48,486 INFO sqlalchemy.engine.Engine BEGIN (implicit)\n",
      "2021-11-17 11:14:48,486 INFO sqlalchemy.engine.Engine select 'hello world'\n",
      "2021-11-17 11:14:48,486 INFO sqlalchemy.engine.Engine [generated in 0.00077s] {}\n",
      "[('hello world',)]\n",
      "2021-11-17 11:14:48,486 INFO sqlalchemy.engine.Engine ROLLBACK\n"
     ]
    }
   ],
   "source": [
    "from sqlalchemy import create_engine\n",
    "from sqlalchemy import text\n",
    "from db_auth import getConnectionInfo\n",
    "\n",
    "login = getConnectionInfo()\n",
    "\n",
    "username=login['username']\n",
    "password=login['password']\n",
    "host=login['host']\n",
    "port=login['port']\n",
    "db_name=login['db_name']\n",
    "\n",
    "engine = create_engine('postgresql://'+username+':'+password+'@'+host+':'+port+'/'+db_name, echo=True, future=True)\n",
    "\n",
    "with engine.connect() as conn:\n",
    "    result = conn.execute(text(\"select 'hello world'\"))\n",
    "    print(result.all())"
   ]
  },
  {
   "cell_type": "code",
   "execution_count": null,
   "id": "76cce4e5-d2c8-4334-af6c-3338f1491c03",
   "metadata": {},
   "outputs": [],
   "source": []
  },
  {
   "cell_type": "code",
   "execution_count": null,
   "id": "24037572-7750-4b61-b919-865055d1bab2",
   "metadata": {},
   "outputs": [],
   "source": []
  },
  {
   "cell_type": "code",
   "execution_count": null,
   "id": "245b9a25-d479-44a8-b487-ee6300b38de5",
   "metadata": {},
   "outputs": [],
   "source": []
  }
 ],
 "metadata": {
  "kernelspec": {
   "display_name": "Python 3 (ipykernel)",
   "language": "python",
   "name": "python3"
  },
  "language_info": {
   "codemirror_mode": {
    "name": "ipython",
    "version": 3
   },
   "file_extension": ".py",
   "mimetype": "text/x-python",
   "name": "python",
   "nbconvert_exporter": "python",
   "pygments_lexer": "ipython3",
   "version": "3.8.12"
  }
 },
 "nbformat": 4,
 "nbformat_minor": 5
}
