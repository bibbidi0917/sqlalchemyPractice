{
 "cells": [
  {
   "cell_type": "markdown",
   "id": "8533af37-c486-4421-a7a5-75e028df46a5",
   "metadata": {},
   "source": [
    "# SQLAlchemy 1.4 / 2.0 Tutorial"
   ]
  },
  {
   "cell_type": "markdown",
   "id": "f5aecc72-efed-4c78-b02c-f962950eea12",
   "metadata": {},
   "source": [
    "## Establishing Connectivity - the Engine"
   ]
  },
  {
   "cell_type": "code",
   "execution_count": 11,
   "id": "b1673477-ba6e-4cb3-bef2-1deeba3620cd",
   "metadata": {},
   "outputs": [
    {
     "name": "stdout",
     "output_type": "stream",
     "text": [
      "2021-11-19 08:11:18,446 INFO sqlalchemy.engine.Engine select version()\n",
      "2021-11-19 08:11:18,446 INFO sqlalchemy.engine.Engine [raw sql] {}\n",
      "2021-11-19 08:11:18,448 INFO sqlalchemy.engine.Engine select current_schema()\n",
      "2021-11-19 08:11:18,448 INFO sqlalchemy.engine.Engine [raw sql] {}\n",
      "2021-11-19 08:11:18,450 INFO sqlalchemy.engine.Engine show standard_conforming_strings\n",
      "2021-11-19 08:11:18,451 INFO sqlalchemy.engine.Engine [raw sql] {}\n",
      "2021-11-19 08:11:18,452 INFO sqlalchemy.engine.Engine BEGIN (implicit)\n",
      "2021-11-19 08:11:18,453 INFO sqlalchemy.engine.Engine select 'hello world'\n",
      "2021-11-19 08:11:18,453 INFO sqlalchemy.engine.Engine [generated in 0.00081s] {}\n",
      "[('hello world',)]\n",
      "2021-11-19 08:11:18,454 INFO sqlalchemy.engine.Engine ROLLBACK\n"
     ]
    }
   ],
   "source": [
    "import os.path\n",
    "import yaml\n",
    "from sqlalchemy import create_engine, text\n",
    "\n",
    "config_path = os.path.expanduser('~\\\\.sqlalchemy\\\\config.yaml')\n",
    "\n",
    "with open(config_path) as f:\n",
    "    config = yaml.load(f, Loader=yaml.FullLoader)\n",
    "\n",
    "db_path = (\n",
    "    f\"postgresql://{config['username']}:{config['password']}\"\n",
    "    f\"@{config['host']}:{config['port']}/{config['db_name']}\"\n",
    ")\n",
    "engine = create_engine(db_path, echo=True, future=True)\n",
    "\n",
    "with engine.connect() as conn:\n",
    "    result = conn.execute(text(\"select 'hello world'\"))\n",
    "    print(result.all())\n"
   ]
  },
  {
   "cell_type": "markdown",
   "id": "dc5e4db3-b4d2-4f02-a598-abdf87cd6ee7",
   "metadata": {},
   "source": [
    "## Working with Transactions and the DBAPI"
   ]
  },
  {
   "cell_type": "markdown",
   "id": "5130d165-2bc7-465c-8762-5430764ec9f0",
   "metadata": {},
   "source": [
    "### Committing Changes"
   ]
  },
  {
   "cell_type": "code",
   "execution_count": 15,
   "id": "01a85d00-851f-4d81-be07-b84b2bbb2231",
   "metadata": {},
   "outputs": [
    {
     "name": "stdout",
     "output_type": "stream",
     "text": [
      "2021-11-18 15:15:22,626 INFO sqlalchemy.engine.Engine BEGIN (implicit)\n",
      "2021-11-18 15:15:22,627 INFO sqlalchemy.engine.Engine CREATE TABLE FUNC( x integer, y integer )\n",
      "2021-11-18 15:15:22,627 INFO sqlalchemy.engine.Engine [generated in 0.00121s] {}\n",
      "2021-11-18 15:15:22,652 INFO sqlalchemy.engine.Engine INSERT INTO FUNC (x,y) VALUES (%(x)s, %(y)s)\n",
      "2021-11-18 15:15:22,653 INFO sqlalchemy.engine.Engine [generated in 0.00099s] ({'x': 1, 'y': 1}, {'x': 2, 'y': 4})\n",
      "2021-11-18 15:15:22,655 INFO sqlalchemy.engine.Engine COMMIT\n",
      "2021-11-18 15:15:22,658 INFO sqlalchemy.engine.Engine BEGIN (implicit)\n",
      "2021-11-18 15:15:22,659 INFO sqlalchemy.engine.Engine INSERT INTO FUNC (x,y) VALUES (%(x)s, %(y)s)\n",
      "2021-11-18 15:15:22,659 INFO sqlalchemy.engine.Engine [cached since 0.007468s ago] ({'x': 6, 'y': 8}, {'x': 9, 'y': 10})\n",
      "2021-11-18 15:15:22,663 INFO sqlalchemy.engine.Engine COMMIT\n"
     ]
    }
   ],
   "source": [
    "# commit as you go\n",
    "with engine.connect() as conn:\n",
    "    conn.execute(text(\"CREATE TABLE FUNC( x integer, y integer )\"))\n",
    "    conn.execute(text(\"INSERT INTO FUNC (x,y) VALUES (:x, :y)\"),\n",
    "                 [{\"x\": 1, \"y\": 1}, {\"x\": 2, \"y\": 4}])\n",
    "    conn.commit()\n",
    "\n",
    "# begin once\n",
    "with engine.begin() as conn:\n",
    "    conn.execute(text(\"INSERT INTO FUNC (x,y) VALUES (:x, :y)\"),\n",
    "                 [{\"x\": 6, \"y\": 8}, {\"x\": 9, \"y\": 10}])\n"
   ]
  },
  {
   "cell_type": "markdown",
   "id": "cd0ad987-843c-4a58-a644-9ddeb7aa6d5e",
   "metadata": {},
   "source": [
    "### Basics of Statement Execution"
   ]
  },
  {
   "cell_type": "code",
   "execution_count": 17,
   "id": "60c0cbe4-5086-4baa-87ce-23324298b044",
   "metadata": {},
   "outputs": [
    {
     "name": "stdout",
     "output_type": "stream",
     "text": [
      "2021-11-18 15:56:35,409 INFO sqlalchemy.engine.Engine BEGIN (implicit)\n",
      "2021-11-18 15:56:35,410 INFO sqlalchemy.engine.Engine SELECT x,y FROM FUNC;\n",
      "2021-11-18 15:56:35,410 INFO sqlalchemy.engine.Engine [generated in 0.00166s] {}\n",
      "x: 1 y: 1\n",
      "x: 2 y: 4\n",
      "x: 6 y: 8\n",
      "x: 9 y: 10\n",
      "2021-11-18 15:56:35,412 INFO sqlalchemy.engine.Engine SELECT x,y FROM FUNC;\n",
      "2021-11-18 15:56:35,413 INFO sqlalchemy.engine.Engine [cached since 0.004293s ago] {}\n",
      "1 1\n",
      "2 4\n",
      "6 8\n",
      "9 10\n",
      "2021-11-18 15:56:35,415 INFO sqlalchemy.engine.Engine SELECT x,y FROM FUNC where y > %(y)s\n",
      "2021-11-18 15:56:35,415 INFO sqlalchemy.engine.Engine [generated in 0.00051s] {'y': 2}\n",
      "x: 2 y: 4\n",
      "x: 6 y: 8\n",
      "x: 9 y: 10\n",
      "2021-11-18 15:56:35,420 INFO sqlalchemy.engine.Engine INSERT INTO FUNC(x,y) VALUES (%(x)s, %(y)s)\n",
      "2021-11-18 15:56:35,421 INFO sqlalchemy.engine.Engine [generated in 0.00087s] ({'x': 11, 'y': 12}, {'x': 13, 'y': 14})\n",
      "2021-11-18 15:56:35,422 INFO sqlalchemy.engine.Engine COMMIT\n",
      "2021-11-18 15:56:35,423 INFO sqlalchemy.engine.Engine BEGIN (implicit)\n",
      "2021-11-18 15:56:35,424 INFO sqlalchemy.engine.Engine SELECT x, y FROM FUNC WHERE y > %(y)s ORDER BY x,y\n",
      "2021-11-18 15:56:35,425 INFO sqlalchemy.engine.Engine [generated in 0.00141s] {'y': 6}\n",
      "x: 6 y: 8\n",
      "x: 9 y: 10\n",
      "x: 11 y: 12\n",
      "x: 13 y: 14\n",
      "2021-11-18 15:56:35,427 INFO sqlalchemy.engine.Engine ROLLBACK\n"
     ]
    }
   ],
   "source": [
    "with engine.connect() as conn:\n",
    "    result = conn.execute(text(\"SELECT x,y FROM FUNC;\"))\n",
    "    for row in result:\n",
    "        print(f\"x: {row.x} y: {row.y}\")\n",
    "\n",
    "    result = conn.execute(text(\"SELECT x,y FROM FUNC;\"))\n",
    "    for dict_row in result.mappings():\n",
    "        x = dict_row['x']\n",
    "        y = dict_row['y']\n",
    "        print(x, y)\n",
    "\n",
    "    result = conn.execute(text(\"SELECT x,y FROM FUNC where y > :y\"), {\"y\": 2})\n",
    "    for row in result:\n",
    "        print(f\"x: {row.x} y: {row.y}\")\n",
    "\n",
    "    conn.execute(text(\"INSERT INTO FUNC(x,y) VALUES (:x, :y)\"),\n",
    "                 [{\"x\": 11, \"y\": 12}, {\"x\": 13, \"y\": 14}])\n",
    "    conn.commit()\n",
    "\n",
    "    # bundling parameters\n",
    "    stmt = text(\n",
    "        \"SELECT x, y FROM FUNC WHERE y > :y ORDER BY x,y\"\n",
    "        ).bindparams(y=6)\n",
    "    result = conn.execute(stmt)\n",
    "    for row in result:\n",
    "        print(f\"x: {row.x} y: {row.y}\")\n"
   ]
  },
  {
   "cell_type": "markdown",
   "id": "06d80ef0-1846-454e-ba90-d673cd8bb4d0",
   "metadata": {},
   "source": [
    "### Executing with an ORM Session"
   ]
  },
  {
   "cell_type": "code",
   "execution_count": 18,
   "id": "1bfb2358-bfdb-4eaf-9401-9ee5bc48cee0",
   "metadata": {},
   "outputs": [
    {
     "name": "stdout",
     "output_type": "stream",
     "text": [
      "2021-11-18 16:02:08,297 INFO sqlalchemy.engine.Engine BEGIN (implicit)\n",
      "2021-11-18 16:02:08,313 INFO sqlalchemy.engine.Engine SELECT x, y FROM FUNC WHERE y > %(y)s ORDER BY x, y\n",
      "2021-11-18 16:02:08,313 INFO sqlalchemy.engine.Engine [generated in 0.00039s] {'y': 6}\n",
      "x: 6 y: 8\n",
      "x: 9 y: 10\n",
      "x: 11 y: 12\n",
      "x: 13 y: 14\n",
      "2021-11-18 16:02:08,313 INFO sqlalchemy.engine.Engine UPDATE FUNC SET y=%(y)s WHERE x=%(x)s\n",
      "2021-11-18 16:02:08,313 INFO sqlalchemy.engine.Engine [generated in 0.00036s] ({'y': 11, 'x': 9}, {'y': 15, 'x': 13})\n",
      "2021-11-18 16:02:08,319 INFO sqlalchemy.engine.Engine COMMIT\n"
     ]
    }
   ],
   "source": [
    "from sqlalchemy.orm import Session\n",
    "stmt = text(\n",
    "    \"SELECT x, y FROM FUNC WHERE y > :y ORDER BY x, y\"\n",
    ").bindparams(y=6)\n",
    "\n",
    "with Session(engine) as session:\n",
    "    result = session.execute(stmt)\n",
    "    for row in result:\n",
    "        print(f\"x: {row.x} y: {row.y}\")\n",
    "\n",
    "    result = session.execute(\n",
    "        text(\"UPDATE FUNC SET y=:y WHERE x=:x\"),\n",
    "        [{\"x\": 9, \"y\": 11}, {\"x\": 13, \"y\": 15}]\n",
    "    )\n",
    "    session.commit()  # To save, you should commit\n"
   ]
  },
  {
   "cell_type": "markdown",
   "id": "54bfb0b2-dc98-42ac-a7d4-ad5178b54b5a",
   "metadata": {},
   "source": [
    "## Working with Database Metadata"
   ]
  },
  {
   "cell_type": "markdown",
   "id": "9e675e1d-dc38-44b4-b8a4-0225155716d1",
   "metadata": {},
   "source": [
    "### Setting up Metadata with Table objects"
   ]
  },
  {
   "cell_type": "code",
   "execution_count": 33,
   "id": "7efa2e18-d715-48b9-8975-7ddd893784de",
   "metadata": {},
   "outputs": [
    {
     "name": "stdout",
     "output_type": "stream",
     "text": [
      "MetaData()\n"
     ]
    }
   ],
   "source": [
    "from sqlalchemy import MetaData\n",
    "metadata_obj = MetaData()  # a set of Table object\n",
    "\n",
    "print(metadata_obj)"
   ]
  },
  {
   "cell_type": "code",
   "execution_count": 34,
   "id": "419cbce4-f1a6-46ab-91d3-6a2712202f48",
   "metadata": {},
   "outputs": [],
   "source": [
    "from sqlalchemy import Table, Column, Integer, String\n",
    "user_table = Table(\n",
    "    \"user_account\",  # table name\n",
    "    metadata_obj,  # 'metadata_obj' has this table.\n",
    "    Column('id', Integer, primary_key=True),\n",
    "    Column('name', String(30)),\n",
    "    Column('fullname', String)\n",
    ")\n"
   ]
  },
  {
   "cell_type": "markdown",
   "id": "26a38d67-c490-4050-91aa-dbfddfc258a7",
   "metadata": {},
   "source": [
    "### Declaring Simple Constraints"
   ]
  },
  {
   "cell_type": "code",
   "execution_count": 33,
   "id": "88e43445-d0f6-401c-975a-f3e4616c942b",
   "metadata": {},
   "outputs": [
    {
     "data": {
      "text/plain": [
       "PrimaryKeyConstraint(Column('id', Integer(), table=<user_account>, primary_key=True, nullable=False))"
      ]
     },
     "execution_count": 33,
     "metadata": {},
     "output_type": "execute_result"
    }
   ],
   "source": [
    "user_table.primary_key"
   ]
  },
  {
   "cell_type": "code",
   "execution_count": 35,
   "id": "328e363e-af3b-44e8-aaaa-9b72206c8f35",
   "metadata": {},
   "outputs": [],
   "source": [
    "from sqlalchemy import ForeignKey\n",
    "#  ForeignKey : we can omit the datatype for this column\n",
    "address_table = Table(\n",
    "    \"address\",\n",
    "    metadata_obj,\n",
    "    Column('id', Integer, primary_key=True),\n",
    "    Column('user_id', ForeignKey('user_account.id'), nullable=False),\n",
    "    Column('email_address', String, nullable=False)\n",
    ")\n"
   ]
  },
  {
   "cell_type": "markdown",
   "id": "444dcf10-9fe7-4bba-9ce9-fc3762385698",
   "metadata": {},
   "source": [
    "### Emitting DDL to the Database"
   ]
  },
  {
   "cell_type": "code",
   "execution_count": 36,
   "id": "8c98d6a3-7abc-498d-bbcb-8ce2737dd568",
   "metadata": {},
   "outputs": [
    {
     "name": "stdout",
     "output_type": "stream",
     "text": [
      "2021-11-19 08:51:33,161 INFO sqlalchemy.engine.Engine BEGIN (implicit)\n",
      "2021-11-19 08:51:33,163 INFO sqlalchemy.engine.Engine select relname from pg_class c join pg_namespace n on n.oid=c.relnamespace where pg_catalog.pg_table_is_visible(c.oid) and relname=%(name)s\n",
      "2021-11-19 08:51:33,164 INFO sqlalchemy.engine.Engine [cached since 2231s ago] {'name': 'user_account'}\n",
      "2021-11-19 08:51:33,166 INFO sqlalchemy.engine.Engine select relname from pg_class c join pg_namespace n on n.oid=c.relnamespace where pg_catalog.pg_table_is_visible(c.oid) and relname=%(name)s\n",
      "2021-11-19 08:51:33,166 INFO sqlalchemy.engine.Engine [cached since 2231s ago] {'name': 'address'}\n",
      "2021-11-19 08:51:33,168 INFO sqlalchemy.engine.Engine \n",
      "CREATE TABLE user_account (\n",
      "\tid SERIAL NOT NULL, \n",
      "\tname VARCHAR(30), \n",
      "\tfullname VARCHAR, \n",
      "\tPRIMARY KEY (id)\n",
      ")\n",
      "\n",
      "\n",
      "2021-11-19 08:51:33,168 INFO sqlalchemy.engine.Engine [no key 0.00064s] {}\n",
      "2021-11-19 08:51:33,182 INFO sqlalchemy.engine.Engine \n",
      "CREATE TABLE address (\n",
      "\tid SERIAL NOT NULL, \n",
      "\tuser_id INTEGER NOT NULL, \n",
      "\temail_address VARCHAR NOT NULL, \n",
      "\tPRIMARY KEY (id), \n",
      "\tFOREIGN KEY(user_id) REFERENCES user_account (id)\n",
      ")\n",
      "\n",
      "\n",
      "2021-11-19 08:51:33,182 INFO sqlalchemy.engine.Engine [no key 0.00059s] {}\n",
      "2021-11-19 08:51:33,199 INFO sqlalchemy.engine.Engine COMMIT\n"
     ]
    }
   ],
   "source": [
    "# create\n",
    "metadata_obj.create_all(engine)"
   ]
  },
  {
   "cell_type": "code",
   "execution_count": 36,
   "id": "065b135f-e295-4463-9925-367b7a88c062",
   "metadata": {},
   "outputs": [
    {
     "name": "stdout",
     "output_type": "stream",
     "text": [
      "2021-11-18 16:22:16,961 INFO sqlalchemy.engine.Engine BEGIN (implicit)\n",
      "2021-11-18 16:22:16,962 INFO sqlalchemy.engine.Engine select relname from pg_class c join pg_namespace n on n.oid=c.relnamespace where pg_catalog.pg_table_is_visible(c.oid) and relname=%(name)s\n",
      "2021-11-18 16:22:16,963 INFO sqlalchemy.engine.Engine [cached since 10.58s ago] {'name': 'user_account'}\n",
      "2021-11-18 16:22:16,968 INFO sqlalchemy.engine.Engine select relname from pg_class c join pg_namespace n on n.oid=c.relnamespace where pg_catalog.pg_table_is_visible(c.oid) and relname=%(name)s\n",
      "2021-11-18 16:22:16,968 INFO sqlalchemy.engine.Engine [cached since 10.58s ago] {'name': 'address'}\n",
      "2021-11-18 16:22:16,969 INFO sqlalchemy.engine.Engine \n",
      "DROP TABLE address\n",
      "2021-11-18 16:22:16,971 INFO sqlalchemy.engine.Engine [no key 0.00182s] {}\n",
      "2021-11-18 16:22:16,976 INFO sqlalchemy.engine.Engine \n",
      "DROP TABLE user_account\n",
      "2021-11-18 16:22:16,977 INFO sqlalchemy.engine.Engine [no key 0.00057s] {}\n",
      "2021-11-18 16:22:16,978 INFO sqlalchemy.engine.Engine COMMIT\n"
     ]
    }
   ],
   "source": [
    "# delete\n",
    "metadata_obj.drop_all(engine)"
   ]
  },
  {
   "cell_type": "markdown",
   "id": "3fa156af-3edf-4f7e-bb4d-4ac3c2f7d160",
   "metadata": {},
   "source": [
    "### Defining Table Metadata with the ORM"
   ]
  },
  {
   "cell_type": "code",
   "execution_count": 37,
   "id": "c03bb592-1a5d-4dc3-83cf-2fd4367dab50",
   "metadata": {},
   "outputs": [],
   "source": [
    "# Setting up the Registry\n",
    "from sqlalchemy.orm import registry\n",
    "mapper_registry = registry()\n",
    "mapper_registry.metadata\n",
    "Base = mapper_registry.generate_base()  # declarative base\n"
   ]
  },
  {
   "cell_type": "code",
   "execution_count": 38,
   "id": "cdd322e3-066c-43ba-b972-81962de9b8cb",
   "metadata": {},
   "outputs": [],
   "source": [
    "# Declaring Mapped Classes (using base)\n",
    "from sqlalchemy.orm import relationship\n",
    "\n",
    "\n",
    "class User(Base):\n",
    "    __tablename__ = 'user_account'\n",
    "\n",
    "    id = Column(Integer, primary_key=True)\n",
    "    name = Column(String(30))\n",
    "    fullname = Column(String)\n",
    "    addresses = relationship(\"Address\", back_populates=\"user\")\n",
    "    # back_populates: Establishing a relationship in both direction.\n",
    "\n",
    "    def __repr__(self):\n",
    "        return (\n",
    "            f\"User(id={self.id!r}, name={self.name!r}, \"\n",
    "            f\"fullname={self.fullname!r})\"\n",
    "        )\n",
    "        # !r : repr(). a formal string that the interpreter can recognize\n",
    "\n",
    "\n",
    "class Address(Base):\n",
    "    __tablename__ = 'address'\n",
    "\n",
    "    id = Column(Integer, primary_key=True)\n",
    "    email_address = Column(String, nullable=False)\n",
    "    user_id = Column(Integer, ForeignKey('user_account.id'))\n",
    "\n",
    "    user = relationship(\"User\", back_populates=\"addresses\")\n",
    "\n",
    "    def __repr__(self):\n",
    "        return f\"Address(id={self.id!r}, email_address={self.email_address!r})\"\n"
   ]
  },
  {
   "cell_type": "code",
   "execution_count": 26,
   "id": "e8557ee1-d376-4359-85ec-e050a911deda",
   "metadata": {},
   "outputs": [
    {
     "data": {
      "text/plain": [
       "Table('user_account', MetaData(), Column('id', Integer(), table=<user_account>, primary_key=True, nullable=False), Column('name', String(length=30), table=<user_account>), Column('fullname', String(), table=<user_account>), schema=None)"
      ]
     },
     "execution_count": 26,
     "metadata": {},
     "output_type": "execute_result"
    }
   ],
   "source": [
    "User.__table__"
   ]
  },
  {
   "cell_type": "code",
   "execution_count": 39,
   "id": "221ff608-ea37-4857-a341-e7f1052d7cac",
   "metadata": {},
   "outputs": [
    {
     "data": {
      "text/plain": [
       "User(id=None, name='sandy', fullname='Sandy Cheeks')"
      ]
     },
     "execution_count": 39,
     "metadata": {},
     "output_type": "execute_result"
    }
   ],
   "source": [
    "# Other Mapped Class Details\n",
    "sandy = User(name=\"sandy\", fullname=\"Sandy Cheeks\")  # create a instance\n",
    "sandy  # __repr__() is used"
   ]
  },
  {
   "cell_type": "code",
   "execution_count": 44,
   "id": "2b4bd943-3d94-40c4-a553-e71aaebaade7",
   "metadata": {},
   "outputs": [],
   "source": [
    "# Emitting DDL to the database. (three ways to emit DDL)\n",
    "# 1) MetaData.create_all(engine)\n",
    "# 2) mapper_registry.metadata.create_all(engine)\n",
    "# 3) Base.metadata.create_all(engine)\n"
   ]
  },
  {
   "cell_type": "code",
   "execution_count": 46,
   "id": "c2028cc8-2104-41ee-8690-b637b042ce5e",
   "metadata": {},
   "outputs": [],
   "source": [
    "# Combining Core Table Declarations with ORM Declarative\n",
    "# class User(Base):\n",
    "#    __table__ = user_table  # we don't have to write column infos."
   ]
  },
  {
   "cell_type": "markdown",
   "id": "20b20d51-bce5-4085-87db-c021477ff1e6",
   "metadata": {},
   "source": [
    "### Table Reflection"
   ]
  },
  {
   "cell_type": "code",
   "execution_count": 12,
   "id": "19edd444-6d67-45cc-8e6d-447ef44a0f96",
   "metadata": {},
   "outputs": [
    {
     "name": "stdout",
     "output_type": "stream",
     "text": [
      "2021-11-19 08:11:23,967 INFO sqlalchemy.engine.Engine BEGIN (implicit)\n",
      "2021-11-19 08:11:23,968 INFO sqlalchemy.engine.Engine \n",
      "            SELECT c.oid\n",
      "            FROM pg_catalog.pg_class c\n",
      "            LEFT JOIN pg_catalog.pg_namespace n ON n.oid = c.relnamespace\n",
      "            WHERE (pg_catalog.pg_table_is_visible(c.oid))\n",
      "            AND c.relname = %(table_name)s AND c.relkind in\n",
      "            ('r', 'v', 'm', 'f', 'p')\n",
      "        \n",
      "2021-11-19 08:11:23,969 INFO sqlalchemy.engine.Engine [generated in 0.00143s] {'table_name': 'func'}\n",
      "2021-11-19 08:11:23,971 INFO sqlalchemy.engine.Engine \n",
      "            SELECT a.attname,\n",
      "              pg_catalog.format_type(a.atttypid, a.atttypmod),\n",
      "              (\n",
      "                SELECT pg_catalog.pg_get_expr(d.adbin, d.adrelid)\n",
      "                FROM pg_catalog.pg_attrdef d\n",
      "                WHERE d.adrelid = a.attrelid AND d.adnum = a.attnum\n",
      "                AND a.atthasdef\n",
      "              ) AS DEFAULT,\n",
      "              a.attnotnull,\n",
      "              a.attrelid as table_oid,\n",
      "              pgd.description as comment,\n",
      "              a.attgenerated as generated,\n",
      "                              (SELECT json_build_object(\n",
      "                    'always', a.attidentity = 'a',\n",
      "                    'start', s.seqstart,\n",
      "                    'increment', s.seqincrement,\n",
      "                    'minvalue', s.seqmin,\n",
      "                    'maxvalue', s.seqmax,\n",
      "                    'cache', s.seqcache,\n",
      "                    'cycle', s.seqcycle)\n",
      "                FROM pg_catalog.pg_sequence s\n",
      "                JOIN pg_catalog.pg_class c on s.seqrelid = c.\"oid\"\n",
      "                WHERE c.relkind = 'S'\n",
      "                AND a.attidentity != ''\n",
      "                AND s.seqrelid = pg_catalog.pg_get_serial_sequence(\n",
      "                    a.attrelid::regclass::text, a.attname\n",
      "                )::regclass::oid\n",
      "                ) as identity_options                \n",
      "            FROM pg_catalog.pg_attribute a\n",
      "            LEFT JOIN pg_catalog.pg_description pgd ON (\n",
      "                pgd.objoid = a.attrelid AND pgd.objsubid = a.attnum)\n",
      "            WHERE a.attrelid = %(table_oid)s\n",
      "            AND a.attnum > 0 AND NOT a.attisdropped\n",
      "            ORDER BY a.attnum\n",
      "        \n",
      "2021-11-19 08:11:23,972 INFO sqlalchemy.engine.Engine [generated in 0.00081s] {'table_oid': 24641}\n",
      "2021-11-19 08:11:23,997 INFO sqlalchemy.engine.Engine \n",
      "            SELECT t.typname as \"name\",\n",
      "               pg_catalog.format_type(t.typbasetype, t.typtypmod) as \"attype\",\n",
      "               not t.typnotnull as \"nullable\",\n",
      "               t.typdefault as \"default\",\n",
      "               pg_catalog.pg_type_is_visible(t.oid) as \"visible\",\n",
      "               n.nspname as \"schema\"\n",
      "            FROM pg_catalog.pg_type t\n",
      "               LEFT JOIN pg_catalog.pg_namespace n ON n.oid = t.typnamespace\n",
      "            WHERE t.typtype = 'd'\n",
      "        \n",
      "2021-11-19 08:11:23,998 INFO sqlalchemy.engine.Engine [generated in 0.00054s] {}\n",
      "2021-11-19 08:11:24,000 INFO sqlalchemy.engine.Engine \n",
      "            SELECT t.typname as \"name\",\n",
      "               -- no enum defaults in 8.4 at least\n",
      "               -- t.typdefault as \"default\",\n",
      "               pg_catalog.pg_type_is_visible(t.oid) as \"visible\",\n",
      "               n.nspname as \"schema\",\n",
      "               e.enumlabel as \"label\"\n",
      "            FROM pg_catalog.pg_type t\n",
      "                 LEFT JOIN pg_catalog.pg_namespace n ON n.oid = t.typnamespace\n",
      "                 LEFT JOIN pg_catalog.pg_enum e ON t.oid = e.enumtypid\n",
      "            WHERE t.typtype = 'e'\n",
      "        ORDER BY \"schema\", \"name\", e.oid\n",
      "2021-11-19 08:11:24,000 INFO sqlalchemy.engine.Engine [generated in 0.00084s] {}\n",
      "2021-11-19 08:11:24,010 INFO sqlalchemy.engine.Engine \n",
      "                SELECT a.attname\n",
      "                FROM pg_attribute a JOIN (\n",
      "                    SELECT unnest(ix.indkey) attnum,\n",
      "                           generate_subscripts(ix.indkey, 1) ord\n",
      "                    FROM pg_index ix\n",
      "                    WHERE ix.indrelid = %(table_oid)s AND ix.indisprimary\n",
      "                    ) k ON a.attnum=k.attnum\n",
      "                WHERE a.attrelid = %(table_oid)s\n",
      "                ORDER BY k.ord\n",
      "            \n",
      "2021-11-19 08:11:24,011 INFO sqlalchemy.engine.Engine [generated in 0.00092s] {'table_oid': 24641}\n",
      "2021-11-19 08:11:24,021 INFO sqlalchemy.engine.Engine \n",
      "        SELECT conname\n",
      "           FROM  pg_catalog.pg_constraint r\n",
      "           WHERE r.conrelid = %(table_oid)s AND r.contype = 'p'\n",
      "           ORDER BY 1\n",
      "        \n",
      "2021-11-19 08:11:24,022 INFO sqlalchemy.engine.Engine [generated in 0.00054s] {'table_oid': 24641}\n",
      "2021-11-19 08:11:24,043 INFO sqlalchemy.engine.Engine \n",
      "          SELECT r.conname,\n",
      "                pg_catalog.pg_get_constraintdef(r.oid, true) as condef,\n",
      "                n.nspname as conschema\n",
      "          FROM  pg_catalog.pg_constraint r,\n",
      "                pg_namespace n,\n",
      "                pg_class c\n",
      "\n",
      "          WHERE r.conrelid = %(table)s AND\n",
      "                r.contype = 'f' AND\n",
      "                c.oid = confrelid AND\n",
      "                n.oid = c.relnamespace\n",
      "          ORDER BY 1\n",
      "        \n",
      "2021-11-19 08:11:24,043 INFO sqlalchemy.engine.Engine [generated in 0.00067s] {'table': 24641}\n",
      "2021-11-19 08:11:24,048 INFO sqlalchemy.engine.Engine \n",
      "              SELECT\n",
      "                  i.relname as relname,\n",
      "                  ix.indisunique, ix.indexprs,\n",
      "                  a.attname, a.attnum, c.conrelid, ix.indkey::varchar,\n",
      "                  ix.indoption::varchar, i.reloptions, am.amname,\n",
      "                  pg_get_expr(ix.indpred, ix.indrelid),\n",
      "                  ix.indnkeyatts as indnkeyatts\n",
      "              FROM\n",
      "                  pg_class t\n",
      "                        join pg_index ix on t.oid = ix.indrelid\n",
      "                        join pg_class i on i.oid = ix.indexrelid\n",
      "                        left outer join\n",
      "                            pg_attribute a\n",
      "                            on t.oid = a.attrelid and a.attnum = ANY(ix.indkey)\n",
      "                        left outer join\n",
      "                            pg_constraint c\n",
      "                            on (ix.indrelid = c.conrelid and\n",
      "                                ix.indexrelid = c.conindid and\n",
      "                                c.contype in ('p', 'u', 'x'))\n",
      "                        left outer join\n",
      "                            pg_am am\n",
      "                            on i.relam = am.oid\n",
      "              WHERE\n",
      "                  t.relkind IN ('r', 'v', 'f', 'm', 'p')\n",
      "                  and t.oid = %(table_oid)s\n",
      "                  and ix.indisprimary = 'f'\n",
      "              ORDER BY\n",
      "                  t.relname,\n",
      "                  i.relname\n",
      "            \n",
      "2021-11-19 08:11:24,048 INFO sqlalchemy.engine.Engine [generated in 0.00069s] {'table_oid': 24641}\n",
      "2021-11-19 08:11:24,055 INFO sqlalchemy.engine.Engine \n",
      "            SELECT\n",
      "                cons.conname as name,\n",
      "                cons.conkey as key,\n",
      "                a.attnum as col_num,\n",
      "                a.attname as col_name\n",
      "            FROM\n",
      "                pg_catalog.pg_constraint cons\n",
      "                join pg_attribute a\n",
      "                  on cons.conrelid = a.attrelid AND\n",
      "                    a.attnum = ANY(cons.conkey)\n",
      "            WHERE\n",
      "                cons.conrelid = %(table_oid)s AND\n",
      "                cons.contype = 'u'\n",
      "        \n",
      "2021-11-19 08:11:24,056 INFO sqlalchemy.engine.Engine [generated in 0.00079s] {'table_oid': 24641}\n",
      "2021-11-19 08:11:24,057 INFO sqlalchemy.engine.Engine \n",
      "            SELECT\n",
      "                cons.conname as name,\n",
      "                pg_get_constraintdef(cons.oid) as src\n",
      "            FROM\n",
      "                pg_catalog.pg_constraint cons\n",
      "            WHERE\n",
      "                cons.conrelid = %(table_oid)s AND\n",
      "                cons.contype = 'c'\n",
      "        \n",
      "2021-11-19 08:11:24,057 INFO sqlalchemy.engine.Engine [generated in 0.00040s] {'table_oid': 24641}\n",
      "2021-11-19 08:11:24,059 INFO sqlalchemy.engine.Engine \n",
      "            SELECT\n",
      "                pgd.description as table_comment\n",
      "            FROM\n",
      "                pg_catalog.pg_description pgd\n",
      "            WHERE\n",
      "                pgd.objsubid = 0 AND\n",
      "                pgd.objoid = %(table_oid)s\n",
      "        \n",
      "2021-11-19 08:11:24,059 INFO sqlalchemy.engine.Engine [generated in 0.00082s] {'table_oid': 24641}\n",
      "2021-11-19 08:11:24,061 INFO sqlalchemy.engine.Engine ROLLBACK\n"
     ]
    }
   ],
   "source": [
    "# Load table from existing database as ORM object\n",
    "# (not declaring table directly)\n",
    "funcrefl = Table(\"func\", metadata_obj, autoload_with=engine)\n"
   ]
  },
  {
   "cell_type": "code",
   "execution_count": 13,
   "id": "59783e45-c343-4365-879e-e0d5fd79f6ed",
   "metadata": {},
   "outputs": [
    {
     "data": {
      "text/plain": [
       "Table('func', MetaData(), Column('x', INTEGER(), table=<func>), Column('y', INTEGER(), table=<func>), schema=None)"
      ]
     },
     "execution_count": 13,
     "metadata": {},
     "output_type": "execute_result"
    }
   ],
   "source": [
    "funcrefl"
   ]
  },
  {
   "cell_type": "markdown",
   "id": "0796e9fa-2c04-4e7c-b964-221596fbbc44",
   "metadata": {},
   "source": [
    "## Working with Data"
   ]
  },
  {
   "cell_type": "markdown",
   "id": "472d9750-7ab4-40bb-abd2-52901ecf5fe5",
   "metadata": {},
   "source": [
    "### Inserting Rows with Core"
   ]
  },
  {
   "cell_type": "code",
   "execution_count": 40,
   "id": "dc0aaeff-1b1f-4293-8a44-ad5be9340f9c",
   "metadata": {},
   "outputs": [
    {
     "name": "stdout",
     "output_type": "stream",
     "text": [
      "INSERT INTO user_account (name, fullname) VALUES (:name, :fullname)\n",
      "2021-11-19 08:51:53,126 INFO sqlalchemy.engine.Engine BEGIN (implicit)\n",
      "2021-11-19 08:51:53,128 INFO sqlalchemy.engine.Engine INSERT INTO user_account (name, fullname) VALUES (%(name)s, %(fullname)s) RETURNING user_account.id\n",
      "2021-11-19 08:51:53,128 INFO sqlalchemy.engine.Engine [generated in 0.00191s] {'name': 'spongebob', 'fullname': 'Spongebob Squarepants'}\n",
      "2021-11-19 08:51:53,133 INFO sqlalchemy.engine.Engine COMMIT\n",
      "(1,)\n"
     ]
    }
   ],
   "source": [
    "from sqlalchemy import insert\n",
    "stmt = insert(user_table).values(\n",
    "    name='spongebob', fullname=\"Spongebob Squarepants\"\n",
    ")\n",
    "print(stmt)\n",
    "complied = stmt.compile()\n",
    "complied.params\n",
    "\n",
    "with engine.connect() as conn:\n",
    "    result = conn.execute(stmt)\n",
    "    conn.commit()\n",
    "    print(result.inserted_primary_key)  # tuple type\n"
   ]
  },
  {
   "cell_type": "code",
   "execution_count": 41,
   "id": "bcf76d4f-92e2-4e13-b384-7d81ecdc03f6",
   "metadata": {},
   "outputs": [
    {
     "name": "stdout",
     "output_type": "stream",
     "text": [
      "2021-11-19 08:51:55,570 INFO sqlalchemy.engine.Engine BEGIN (implicit)\n",
      "2021-11-19 08:51:55,571 INFO sqlalchemy.engine.Engine INSERT INTO user_account (name, fullname) VALUES (%(name)s, %(fullname)s)\n",
      "2021-11-19 08:51:55,572 INFO sqlalchemy.engine.Engine [generated in 0.00159s] ({'name': 'sandy', 'fullname': 'Sandy Cheeks'}, {'name': 'patrick', 'fullname': 'Patrick Star'})\n",
      "2021-11-19 08:51:55,573 INFO sqlalchemy.engine.Engine COMMIT\n"
     ]
    }
   ],
   "source": [
    "with engine.connect() as conn:\n",
    "    result = conn.execute(\n",
    "        insert(user_table),\n",
    "        [\n",
    "            {\"name\": \"sandy\", \"fullname\": \"Sandy Cheeks\"},\n",
    "            {\"name\": \"patrick\", \"fullname\": \"Patrick Star\"}\n",
    "        ]\n",
    "    )\n",
    "    conn.commit()"
   ]
  },
  {
   "cell_type": "code",
   "execution_count": 42,
   "id": "9c9ddbf8-2f10-49d4-85f9-27a0204bf070",
   "metadata": {},
   "outputs": [
    {
     "name": "stdout",
     "output_type": "stream",
     "text": [
      "(SELECT user_account.id \n",
      "FROM user_account \n",
      "WHERE user_account.name = :username)\n",
      "2021-11-19 08:51:58,750 INFO sqlalchemy.engine.Engine BEGIN (implicit)\n",
      "2021-11-19 08:51:58,751 INFO sqlalchemy.engine.Engine INSERT INTO address (user_id, email_address) VALUES ((SELECT user_account.id \n",
      "FROM user_account \n",
      "WHERE user_account.name = %(username)s), %(email_address)s)\n",
      "2021-11-19 08:51:58,751 INFO sqlalchemy.engine.Engine [generated in 0.00160s] ({'username': 'spongebob', 'email_address': 'spongebob@sqlalchemy.org'}, {'username': 'sandy', 'email_address': 'sandy@sqlalchemy.org'}, {'username': 'sandy', 'email_address': 'sandy@squirrelpower.org'})\n",
      "2021-11-19 08:51:58,753 INFO sqlalchemy.engine.Engine COMMIT\n"
     ]
    }
   ],
   "source": [
    "# insert using subquery\n",
    "from sqlalchemy import select, bindparam\n",
    "scalar_subq = (\n",
    "    select(user_table.c.id).\n",
    "    where(user_table.c.name == bindparam('username')).\n",
    "    scalar_subquery()\n",
    ")\n",
    "\n",
    "print(scalar_subq)\n",
    "\n",
    "with engine.connect() as conn:\n",
    "    result = conn.execute(\n",
    "        insert(address_table).values(user_id=scalar_subq),\n",
    "        [\n",
    "            {\"username\": 'spongebob', \"email_address\": \"spongebob@sqlalchemy.org\"},\n",
    "            {\"username\": 'sandy', \"email_address\": \"sandy@sqlalchemy.org\"},\n",
    "            {\"username\": 'sandy', \"email_address\": \"sandy@squirrelpower.org\"},\n",
    "        ]\n",
    "    )\n",
    "    conn.commit()\n"
   ]
  },
  {
   "cell_type": "code",
   "execution_count": 44,
   "id": "34161fc0-d97e-4a54-9983-0bdd02538225",
   "metadata": {},
   "outputs": [
    {
     "name": "stdout",
     "output_type": "stream",
     "text": [
      "SELECT user_account.id, user_account.name || :name_1 AS anon_1 \n",
      "FROM user_account\n",
      "INSERT INTO address (user_id, email_address) SELECT user_account.id, user_account.name || :name_1 AS anon_1 \n",
      "FROM user_account\n"
     ]
    }
   ],
   "source": [
    "from sqlalchemy import select, insert\n",
    "# insert from select\n",
    "select_stmt = select(user_table.c.id, user_table.c.name + \"@aol.com\")\n",
    "print(select_stmt)\n",
    "insert_stmt = insert(address_table).from_select(\n",
    "    [\"user_id\", \"email_address\"], select_stmt\n",
    ")\n",
    "print(insert_stmt)\n"
   ]
  },
  {
   "cell_type": "code",
   "execution_count": 48,
   "id": "f57deecb-0698-4415-b5b7-f4849f0f27ea",
   "metadata": {},
   "outputs": [
    {
     "name": "stdout",
     "output_type": "stream",
     "text": [
      "INSERT INTO address (id, user_id, email_address) VALUES (:id, :user_id, :email_address) RETURNING address.id, address.email_address\n",
      "INSERT INTO address (user_id, email_address) SELECT user_account.id, user_account.name || :name_1 AS anon_1 \n",
      "FROM user_account RETURNING address.id, address.email_address\n"
     ]
    }
   ],
   "source": [
    "# insert...Returning ('RETURNING' is supported by insert, update, delete)\n",
    "insert_stmt = insert(address_table).returning(\n",
    "    address_table.c.id, address_table.c.email_address\n",
    ")\n",
    "print(insert_stmt)\n",
    "\n",
    "select_stmt = select(user_table.c.id, user_table.c.name + \"@aol.com\")\n",
    "insert_stmt = insert(address_table).from_select(\n",
    "    [\"user_id\", \"email_address\"], select_stmt\n",
    ")\n",
    "print(insert_stmt.returning(address_table.c.id, address_table.c.email_address))\n"
   ]
  },
  {
   "cell_type": "code",
   "execution_count": null,
   "id": "0357373e-e543-4838-ab74-3906d6ceb8ce",
   "metadata": {},
   "outputs": [],
   "source": []
  }
 ],
 "metadata": {
  "kernelspec": {
   "display_name": "Python 3 (ipykernel)",
   "language": "python",
   "name": "python3"
  },
  "language_info": {
   "codemirror_mode": {
    "name": "ipython",
    "version": 3
   },
   "file_extension": ".py",
   "mimetype": "text/x-python",
   "name": "python",
   "nbconvert_exporter": "python",
   "pygments_lexer": "ipython3",
   "version": "3.8.12"
  }
 },
 "nbformat": 4,
 "nbformat_minor": 5
}
