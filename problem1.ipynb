{
 "cells": [
  {
   "cell_type": "code",
   "execution_count": 1,
   "id": "62b77793-45ad-417f-9d58-8e6bee82c0ac",
   "metadata": {},
   "outputs": [],
   "source": [
    "# Connecting to database\n",
    "import os.path\n",
    "import yaml\n",
    "from sqlalchemy import create_engine, text\n",
    "from sqlalchemy.orm import Session\n",
    "\n",
    "config_path = os.path.expanduser('~\\\\.sqlalchemy\\\\config.yaml')\n",
    "\n",
    "with open(config_path) as f:\n",
    "    config = yaml.load(f, Loader=yaml.FullLoader)\n",
    "\n",
    "db_path = (\n",
    "    f\"postgresql://{config['username']}:{config['password']}\"\n",
    "    f\"@{config['host']}:{config['port']}/{config['db_name']}\"\n",
    ")\n",
    "engine = create_engine(db_path)\n"
   ]
  },
  {
   "cell_type": "code",
   "execution_count": 2,
   "id": "b66d25c0-7bed-49b5-a147-3de2e2baead4",
   "metadata": {},
   "outputs": [],
   "source": [
    "# Creating session\n",
    "session = Session(engine)\n"
   ]
  },
  {
   "cell_type": "code",
   "execution_count": 3,
   "id": "4cfa5eb0-f201-48db-b37d-831ee17cbd1d",
   "metadata": {},
   "outputs": [],
   "source": [
    "# Reading excel files\n",
    "import pandas as pd\n",
    "file_path1 = os.path.expanduser('~\\\\.sqlalchemy\\\\한국인이름.xlsx')\n",
    "file_path2 = os.path.expanduser('~\\\\.sqlalchemy\\\\인구통계.xlsx')\n",
    "\n",
    "last_name = pd.read_excel(file_path1, sheet_name=0, header=0)\n",
    "first_name = pd.read_excel(file_path1, sheet_name=1, header=0)\n",
    "age_stat = pd.read_excel(file_path2, sheet_name=0, header=0)\n",
    "region_stat = pd.read_excel(file_path2, sheet_name=1, header=0)\n",
    "sex_stat = pd.read_excel(file_path2, sheet_name=2, header=0)\n"
   ]
  },
  {
   "cell_type": "code",
   "execution_count": 4,
   "id": "4395a42d-f28d-42a0-acdd-a2f4507adbe4",
   "metadata": {},
   "outputs": [],
   "source": [
    "# Creating table schema\n",
    "from sqlalchemy import MetaData, Table, Column, Float, String\n",
    "metadata_obj = MetaData()\n",
    "lastname_table = Table(\n",
    "    \"korean_lastname\",\n",
    "    metadata_obj,\n",
    "    Column('lastname', String(5), primary_key=True),\n",
    "    Column('ratio', Float(8))\n",
    ")\n",
    "\n",
    "firstname_table = Table(\n",
    "    \"korean_firstname\",\n",
    "    metadata_obj,\n",
    "    Column('firstname', String(5), primary_key=True),\n",
    "    Column('ratio', Float(8))\n",
    ")\n",
    "\n",
    "age_table = Table(\n",
    "    \"age_stat\",\n",
    "    metadata_obj,\n",
    "    Column('age', String(5), primary_key=True),\n",
    "    Column('ratio', Float(8))\n",
    ")\n",
    "\n",
    "region_table = Table(\n",
    "    \"region_stat\",\n",
    "    metadata_obj,\n",
    "    Column('region', String(8), primary_key=True),\n",
    "    Column('ratio', Float(8))\n",
    ")\n",
    "\n",
    "sex_table = Table(\n",
    "    \"sex_stat\",\n",
    "    metadata_obj,\n",
    "    Column('sex', String(2), primary_key=True),\n",
    "    Column('ratio', Float(8))\n",
    ")\n"
   ]
  },
  {
   "cell_type": "code",
   "execution_count": 5,
   "id": "b6f3a43d-9edb-4865-aa1e-6c99c1b04dbb",
   "metadata": {},
   "outputs": [],
   "source": [
    "# Emitting DDL to the Database\n",
    "metadata_obj.create_all(engine)\n"
   ]
  },
  {
   "cell_type": "code",
   "execution_count": 6,
   "id": "f6ce81b2-5709-4c99-aa86-8657dcb9cf0d",
   "metadata": {},
   "outputs": [],
   "source": [
    "# Setting up the Registry\n",
    "from sqlalchemy.orm import registry\n",
    "mapper_registry = registry()\n",
    "mapper_registry.metadata\n",
    "Base = mapper_registry.generate_base()\n"
   ]
  },
  {
   "cell_type": "code",
   "execution_count": 7,
   "id": "ed0f5268-5884-45e0-8fdc-5bcb8f957cff",
   "metadata": {},
   "outputs": [],
   "source": [
    "# Declaring Mapped Classes (using base)\n",
    "class KoreanLastname(Base):\n",
    "    __tablename__ = 'korean_lastname'\n",
    "\n",
    "    lastname = Column(String(5), primary_key=True)\n",
    "    ratio = Column(Float(8))\n",
    "\n",
    "\n",
    "class KoreanFirstname(Base):\n",
    "    __tablename__ = 'korean_firstname'\n",
    "\n",
    "    firstname = Column(String(5), primary_key=True)\n",
    "    ratio = Column(Float(8))\n",
    "\n",
    "\n",
    "class AgeStat(Base):\n",
    "    __tablename__ = 'age_stat'\n",
    "\n",
    "    age = Column(String(5), primary_key=True)\n",
    "    ratio = Column(Float(8))\n",
    "\n",
    "\n",
    "class RegionStat(Base):\n",
    "    __tablename__ = 'region_stat'\n",
    "\n",
    "    region = Column(String(8), primary_key=True)\n",
    "    ratio = Column(Float(8))\n",
    "\n",
    "\n",
    "class SexStat(Base):\n",
    "    __tablename__ = 'sex_stat'\n",
    "\n",
    "    sex = Column(String(2), primary_key=True)\n",
    "    ratio = Column(Float(8))\n"
   ]
  },
  {
   "cell_type": "code",
   "execution_count": 8,
   "id": "3b0a9fcf-8d52-4abb-b83a-d6d769ce4902",
   "metadata": {},
   "outputs": [],
   "source": [
    "# Merging data to session\n",
    "for i in range(0, len(last_name)):\n",
    "    session.merge(\n",
    "        KoreanLastname(\n",
    "            lastname=last_name.loc[i, '이름'],\n",
    "            ratio=round(last_name.loc[i, '비율'], 4)\n",
    "        )\n",
    "    )\n",
    "\n",
    "for i in range(0, len(first_name)):\n",
    "    session.merge(\n",
    "        KoreanFirstname(\n",
    "            firstname=first_name.loc[i, '이름'],\n",
    "            ratio=round(first_name.loc[i, '비율'], 4)\n",
    "        )\n",
    "    )\n",
    "\n",
    "for i in range(0, len(age_stat)):\n",
    "    session.merge(\n",
    "        AgeStat(\n",
    "            age=age_stat.loc[i, '나이'],\n",
    "            ratio=round(age_stat.loc[i, '비율'], 4)\n",
    "        )\n",
    "    )\n",
    "\n",
    "for i in range(0, len(region_stat)):\n",
    "    session.merge(\n",
    "        RegionStat(\n",
    "            region=region_stat.loc[i, '지역'],\n",
    "            ratio=round(region_stat.loc[i, '비율'], 4)\n",
    "        )\n",
    "    )\n",
    "\n",
    "for i in range(0, len(sex_stat)):\n",
    "    session.merge(\n",
    "        SexStat(\n",
    "            sex=sex_stat.loc[i, '성'],\n",
    "            ratio=round(sex_stat.loc[i, '비율'], 4)\n",
    "        )\n",
    "    )\n"
   ]
  },
  {
   "cell_type": "code",
   "execution_count": 9,
   "id": "5ae6ac86-8dd4-4fe4-b50a-4351770bac5f",
   "metadata": {},
   "outputs": [],
   "source": [
    "# Flushing session\n",
    "session.flush()\n"
   ]
  },
  {
   "cell_type": "code",
   "execution_count": 10,
   "id": "f1f2532d-cada-4301-88c8-d332b0e0c034",
   "metadata": {},
   "outputs": [],
   "source": [
    "# Committing session\n",
    "session.commit()\n"
   ]
  },
  {
   "cell_type": "code",
   "execution_count": 11,
   "id": "10d88b9b-a7b3-4730-8ec6-4a059f86c10b",
   "metadata": {},
   "outputs": [],
   "source": [
    "# Closing session\n",
    "session.close()\n"
   ]
  },
  {
   "cell_type": "code",
   "execution_count": null,
   "id": "b62023f7-62ba-4250-a0f9-ebae7107549c",
   "metadata": {},
   "outputs": [],
   "source": []
  }
 ],
 "metadata": {
  "kernelspec": {
   "display_name": "Python 3 (ipykernel)",
   "language": "python",
   "name": "python3"
  },
  "language_info": {
   "codemirror_mode": {
    "name": "ipython",
    "version": 3
   },
   "file_extension": ".py",
   "mimetype": "text/x-python",
   "name": "python",
   "nbconvert_exporter": "python",
   "pygments_lexer": "ipython3",
   "version": "3.8.12"
  }
 },
 "nbformat": 4,
 "nbformat_minor": 5
}
